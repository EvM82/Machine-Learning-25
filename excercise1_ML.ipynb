{
  "nbformat": 4,
  "nbformat_minor": 0,
  "metadata": {
    "colab": {
      "provenance": [],
      "authorship_tag": "ABX9TyOOr+B+ZVxjm8xPUMFQLalQ",
      "include_colab_link": true
    },
    "kernelspec": {
      "name": "python3",
      "display_name": "Python 3"
    },
    "language_info": {
      "name": "python"
    }
  },
  "cells": [
    {
      "cell_type": "markdown",
      "metadata": {
        "id": "view-in-github",
        "colab_type": "text"
      },
      "source": [
        "<a href=\"https://colab.research.google.com/github/EvM82/Machine-Learning-25/blob/main/excercise1_ML.ipynb\" target=\"_parent\"><img src=\"https://colab.research.google.com/assets/colab-badge.svg\" alt=\"Open In Colab\"/></a>"
      ]
    },
    {
      "cell_type": "markdown",
      "source": [
        "#Libraries"
      ],
      "metadata": {
        "id": "U6965aYhafDC"
      }
    },
    {
      "cell_type": "code",
      "execution_count": null,
      "metadata": {
        "id": "-SpmComcaZEA"
      },
      "outputs": [],
      "source": [
        "import pandas as pd\n",
        "import matplotlib.pyplot as plt\n",
        "import seaborn as sns\n",
        "import numpy as np\n",
        "from sklearn.model_selection import train_test_split\n",
        "from sklearn.linear_model import LogisticRegression\n",
        "from sklearn.metrics import accuracy_score\n",
        "from sklearn.preprocessing import MinMaxScaler\n",
        "from sklearn.linear_model import LinearRegression\n",
        "from sklearn.metrics import mean_squared_error, mean_absolute_error\n",
        "from sklearn import linear_model"
      ]
    },
    {
      "cell_type": "markdown",
      "source": [
        "##Μέρος 1 – Λογιστική Παλινδρόμηση"
      ],
      "metadata": {
        "id": "Ye08D4sAanrl"
      }
    },
    {
      "cell_type": "markdown",
      "source": [
        "# ΕΡΩΤΗΜΑ 1"
      ],
      "metadata": {
        "id": "PNMqoTqraiJE"
      }
    },
    {
      "cell_type": "code",
      "source": [
        "df = pd.read_csv('diabetes.csv')\n",
        "print(df.describe().loc[['mean','std','min','max']])"
      ],
      "metadata": {
        "colab": {
          "base_uri": "https://localhost:8080/"
        },
        "id": "eRfJwSeTaeXX",
        "outputId": "665bbb1f-d857-4ba8-8ecd-97dab599df03"
      },
      "execution_count": null,
      "outputs": [
        {
          "output_type": "stream",
          "name": "stdout",
          "text": [
            "      Pregnancies     Glucose  BloodPressure  SkinThickness     Insulin  \\\n",
            "mean     3.845052  120.894531      69.105469      20.536458   79.799479   \n",
            "std      3.369578   31.972618      19.355807      15.952218  115.244002   \n",
            "min      0.000000    0.000000       0.000000       0.000000    0.000000   \n",
            "max     17.000000  199.000000     122.000000      99.000000  846.000000   \n",
            "\n",
            "            BMI  DiabetesPedigreeFunction        Age   Outcome  \n",
            "mean  31.992578                  0.471876  33.240885  0.348958  \n",
            "std    7.884160                  0.331329  11.760232  0.476951  \n",
            "min    0.000000                  0.078000  21.000000  0.000000  \n",
            "max   67.100000                  2.420000  81.000000  1.000000  \n"
          ]
        }
      ]
    },
    {
      "cell_type": "markdown",
      "source": [
        "---- histograms ----"
      ],
      "metadata": {
        "id": "LkltAJ9Zfufm"
      }
    },
    {
      "cell_type": "code",
      "source": [
        "fig, axes = plt.subplots(nrows=4, ncols=2, figsize=(12, 10))\n",
        "axes = axes.flatten()\n",
        "\n",
        "axes[0].hist(df['Pregnancies'], bins=20)\n",
        "axes[0].set_title('Pregnancies Histogram')\n",
        "axes[0].set_xlabel('Pregnancies')\n",
        "axes[0].set_ylabel('Counts')\n",
        "\n",
        "axes[1].hist(df['Glucose'], bins=20)\n",
        "axes[1].set_title('Glucose Histogram')\n",
        "axes[1].set_xlabel('Glucose')\n",
        "axes[1].set_ylabel('Counts')\n",
        "\n",
        "axes[2].hist(df['Age'], bins=20)\n",
        "axes[2].set_title('Age Histogram')\n",
        "axes[2].set_xlabel('Age')\n",
        "axes[2].set_ylabel('Counts')\n",
        "\n",
        "axes[3].hist(df['BloodPressure'], bins=20)\n",
        "axes[3].set_title('BloodPressure Histogram')\n",
        "axes[3].set_xlabel('BloodPressure')\n",
        "axes[3].set_ylabel('Counts')\n",
        "\n",
        "axes[4].hist(df['SkinThickness'], bins=20)\n",
        "axes[4].set_title('SkinThickness Histogram')\n",
        "axes[4].set_xlabel('SkinThickness')\n",
        "axes[4].set_ylabel('Counts')\n",
        "\n",
        "axes[5].hist(df['Insulin'], bins=20)\n",
        "axes[5].set_title('Insulin')\n",
        "axes[5].set_xlabel('Insulin')\n",
        "axes[5].set_ylabel('Counts')\n",
        "\n",
        "axes[6].hist(df['BMI'], bins=20)\n",
        "axes[6].set_title('BMI Histogram')\n",
        "axes[6].set_xlabel('BMI')\n",
        "axes[6].set_ylabel('Counts')\n",
        "\n",
        "axes[7].hist(df['DiabetesPedigreeFunction'], bins=20)\n",
        "axes[7].set_title('DiabetesPedigreeFunction Histogram')\n",
        "axes[7].set_xlabel('DiabetesPedigreeFunction')\n",
        "axes[7].set_ylabel('Counts')\n",
        "\n",
        "plt.tight_layout()\n",
        "plt.show()\n",
        "\n",
        "\n",
        "\n",
        "\n",
        "plt.bar(df['Outcome'].value_counts().index, df['Outcome'].value_counts().values, width=0.1)\n",
        "plt.title('Outcome Bar Plot')\n",
        "plt.xlabel('Outcome')\n",
        "plt.ylabel('Counts')\n",
        "plt.show()\n"
      ],
      "metadata": {
        "colab": {
          "base_uri": "https://localhost:8080/",
          "height": 1000
        },
        "id": "EZf7T7Ociguy",
        "outputId": "517a62b5-6d13-409a-d1ef-3b87fb7a03d5"
      },
      "execution_count": null,
      "outputs": [
        {
          "output_type": "display_data",
          "data": {
            "text/plain": [
              "<Figure size 1200x1000 with 8 Axes>"
            ],
            "image/png": "[encoded data removed]"
          },
          "metadata": {}
        },
        {
          "output_type": "display_data",
          "data": {
            "text/plain": [
              "<Figure size 640x480 with 1 Axes>"
            ],
            "image/png": "[encoded data removed]"
          },
          "metadata": {}
        }
      ]
    },
    {
      "cell_type": "markdown",
      "source": [
        "#ΕΡΩΤΗΜΑ 2"
      ],
      "metadata": {
        "id": "RdSRQ5vRtV17"
      }
    },
    {
      "cell_type": "markdown",
      "source": [
        "Η ποιότητα των δεδομένων φαίνεται να είναι κακή. Συγκεκριμένα παρατηρείται από τα ιστογράμματα ότι οι τιμές των μεταβλητών δεν είναι σε πολλές περιπτώσεις ίσα κατανεμημένες (πχ Age, Insulin) ενώ σε μερκές περιπτώσεις υπάρχει μεγάλη συγκέντρωση σε συγκεκριμένες τιμές μόνο (πχ Insulin, Diabetes Pedigree Function). Αυτό μπορεί πιθανως να οδηγήσει σε εντοπισμό λάθος μοτίβων και σε χαμηλή ικανότητα γενίκευσης. Επίσης παρατηρείται ότι σε κάποια χαρακτηριστικά υπάρχει ασυνέχεια στις κατανομές, δηλαδή έχει κενά στις τιμές του άξονα x'x (πχ Blood Pressure,Pregancies), κάτι που σημαίνει ότι κάποιες τιμές δεν εμφανίζονται στα δεδομένα."
      ],
      "metadata": {
        "id": "j7Y7zIsTtXjq"
      }
    },
    {
      "cell_type": "markdown",
      "source": [
        "#ΕΡΩΤΗΜΑ 3"
      ],
      "metadata": {
        "id": "DZYNSmVYC67_"
      }
    },
    {
      "cell_type": "code",
      "source": [
        "sns.histplot(df['Age'], bins=20, kde=True)\n",
        "plt.title('Age Histogram')\n",
        "plt.xlabel('Age')\n",
        "plt.ylabel('Counts')\n",
        "plt.show()\n"
      ],
      "metadata": {
        "colab": {
          "base_uri": "https://localhost:8080/",
          "height": 472
        },
        "id": "v_havq40C9H-",
        "outputId": "68623d93-cb54-4ad2-ec47-d9964bc22009"
      },
      "execution_count": null,
      "outputs": [
        {
          "output_type": "display_data",
          "data": {
            "text/plain": [
              "<Figure size 640x480 with 1 Axes>"
            ],
            "image/png": "[encoded data removed]"
          },
          "metadata": {}
        }
      ]
    },
    {
      "cell_type": "markdown",
      "source": [
        "Από το ιστόγραμμα και την χρήση kde (Kernel Density Estimate), παρατηρείται ότι η κατανομή είναι συγκεντρωμένη στην αριστερή πλευρά (right skewed) του άξονα, έχει κορυφή κοντά στην αρχή του άξονα και μειώνεται. Άρα μοιάζει με εκθετική κατανομή  που αρχίζει αντί του 0 στο 20 και έχει ένα μικρό ύψωμα κοντά στο 40.<br>\n",
        "Στη συγκεκριμένη εφαρμογή στόχος είναι η πρόβλεψη διαβήτη. Από την κατανομή της ηλικίας φαίνεται να υπάρχουν περισσότερα δείγμα ηλικίας 20-30 ετών κάτι που σημαίνει ότι οι προβλέψεις του μοντέλου θα εστιάζουν σε αυτές τις ηλικίες. Προτιμότερη θα ήταν ίσως η κανονική κατανομή για να είναι πιο ίσα κατανεμημένες οι ηλικίες των δειγμάτων."
      ],
      "metadata": {
        "id": "ZHJ0JGSiEFHq"
      }
    },
    {
      "cell_type": "markdown",
      "source": [
        "#ΕΡΩΤΗΜΑ 4"
      ],
      "metadata": {
        "id": "ezlL8YCll9Hx"
      }
    },
    {
      "cell_type": "code",
      "source": [
        "sns.boxplot(x='Outcome', y='Glucose', data=df)\n",
        "plt.title('Box Plot')\n",
        "plt.xlabel('Outcome')\n",
        "plt.ylabel('Glucose')\n",
        "plt.show()"
      ],
      "metadata": {
        "colab": {
          "base_uri": "https://localhost:8080/",
          "height": 472
        },
        "id": "k7aiK-WBmtRN",
        "outputId": "a1fe5861-7e2f-4734-989d-fe5c6e435554"
      },
      "execution_count": null,
      "outputs": [
        {
          "output_type": "display_data",
          "data": {
            "text/plain": [
              "<Figure size 640x480 with 1 Axes>"
            ],
            "image/png": "[encoded data removed]"
          },
          "metadata": {}
        }
      ]
    },
    {
      "cell_type": "markdown",
      "source": [
        "Από το boxplot για τις μεταβλητές γλυκόζης (συνεχής) και διαβήτη (δυαδική), παρατηρείται ότι οι ασθενείς που έχουν διαβητη (Outcome:1) έχουν υψηλότερες τιμές γλυκόζης από όσους δεν έχουν διαβήτη (Outcome:0), καθώς και η διάμεσος γλυκόζης των ατόμων που έχουν διαβήτη είναι περίπου 130 ενώ όσων δεν έχουν διαβήτη περίπου 110 (χαμηλότερα). Επομένως από τα δεδομένα φαίνεται να υπάρχει συσχέτιση της τιμής της γλυκόζης με την ύπαρξη διαβήτη."
      ],
      "metadata": {
        "id": "kZ7efLYtqeSi"
      }
    },
    {
      "cell_type": "markdown",
      "source": [
        "#ΕΡΩΤΗΜΑ 5"
      ],
      "metadata": {
        "id": "2N3ldCB8t71e"
      }
    },
    {
      "cell_type": "markdown",
      "source": [
        "Διαχωρισμός δεδομένων σε x, y."
      ],
      "metadata": {
        "id": "udnRXWGyzA61"
      }
    },
    {
      "cell_type": "code",
      "source": [
        "input_df = df.drop(columns=['Outcome'])\n",
        "targets_df = df['Outcome']\n",
        "\n",
        "x = input_df.to_numpy()\n",
        "y = targets_df.to_numpy()\n",
        "x.shape, y.shape"
      ],
      "metadata": {
        "colab": {
          "base_uri": "https://localhost:8080/"
        },
        "id": "xQt2Bo2Nt9qx",
        "outputId": "e1172798-2186-4e03-e17c-7adf801e7fd3"
      },
      "execution_count": null,
      "outputs": [
        {
          "output_type": "execute_result",
          "data": {
            "text/plain": [
              "((768, 8), (768,))"
            ]
          },
          "metadata": {},
          "execution_count": 6
        }
      ]
    },
    {
      "cell_type": "markdown",
      "source": [
        "Διαχωρισμός δεδομένων σε train-validation με ποσοστό 70-30 και random seed:0"
      ],
      "metadata": {
        "id": "H87c8NE8y8oE"
      }
    },
    {
      "cell_type": "code",
      "source": [
        "seed = 0\n",
        "test_size = 0.3\n",
        "\n",
        "x_train, x_val, y_train, y_val = train_test_split(x, y, test_size=test_size, random_state=seed)\n",
        "x_train.shape, y_train.shape, x_val.shape, y_val.shape"
      ],
      "metadata": {
        "colab": {
          "base_uri": "https://localhost:8080/"
        },
        "id": "4jjovifcy_8R",
        "outputId": "d397b544-6979-4d85-e883-8ce5e01f3f9b"
      },
      "execution_count": null,
      "outputs": [
        {
          "output_type": "execute_result",
          "data": {
            "text/plain": [
              "((537, 8), (537,), (231, 8), (231,))"
            ]
          },
          "metadata": {},
          "execution_count": 7
        }
      ]
    },
    {
      "cell_type": "markdown",
      "source": [
        "#ΕΡΩΤΗΜΑ 6"
      ],
      "metadata": {
        "id": "7PXsraWjzzvk"
      }
    },
    {
      "cell_type": "code",
      "source": [
        "model = LogisticRegression(max_iter=1000, random_state=seed)\n",
        "model.fit(x_train, y_train)"
      ],
      "metadata": {
        "colab": {
          "base_uri": "https://localhost:8080/",
          "height": 80
        },
        "id": "oUTDg1YS3lYI",
        "outputId": "16666652-9bfd-4abc-de9a-6e8aa37cea28"
      },
      "execution_count": null,
      "outputs": [
        {
          "output_type": "execute_result",
          "data": {
            "text/plain": [
              "LogisticRegression(max_iter=1000, random_state=0)"
            ],
            "text/html": [
              "<style>#sk-container-id-1 {\n",
              "  /* Definition of color scheme common for light and dark mode */\n",
              "  --sklearn-color-text: #000;\n",
              "  --sklearn-color-text-muted: #666;\n",
              "  --sklearn-color-line: gray;\n",
              "  /* Definition of color scheme for unfitted estimators */\n",
              "  --sklearn-color-unfitted-level-0: #fff5e6;\n",
              "  --sklearn-color-unfitted-level-1: #f6e4d2;\n",
              "  --sklearn-color-unfitted-level-2: #ffe0b3;\n",
              "  --sklearn-color-unfitted-level-3: chocolate;\n",
              "  /* Definition of color scheme for fitted estimators */\n",
              "  --sklearn-color-fitted-level-0: #f0f8ff;\n",
              "  --sklearn-color-fitted-level-1: #d4ebff;\n",
              "  --sklearn-color-fitted-level-2: #b3dbfd;\n",
              "  --sklearn-color-fitted-level-3: cornflowerblue;\n",
              "\n",
              "  /* Specific color for light theme */\n",
              "  --sklearn-color-text-on-default-background: var(--sg-text-color, var(--theme-code-foreground, var(--jp-content-font-color1, black)));\n",
              "  --sklearn-color-background: var(--sg-background-color, var(--theme-background, var(--jp-layout-color0, white)));\n",
              "  --sklearn-color-border-box: var(--sg-text-color, var(--theme-code-foreground, var(--jp-content-font-color1, black)));\n",
              "  --sklearn-color-icon: #696969;\n",
              "\n",
              "  @media (prefers-color-scheme: dark) {\n",
              "    /* Redefinition of color scheme for dark theme */\n",
              "    --sklearn-color-text-on-default-background: var(--sg-text-color, var(--theme-code-foreground, var(--jp-content-font-color1, white)));\n",
              "    --sklearn-color-background: var(--sg-background-color, var(--theme-background, var(--jp-layout-color0, #111)));\n",
              "    --sklearn-color-border-box: var(--sg-text-color, var(--theme-code-foreground, var(--jp-content-font-color1, white)));\n",
              "    --sklearn-color-icon: #878787;\n",
              "  }\n",
              "}\n",
              "\n",
              "#sk-container-id-1 {\n",
              "  color: var(--sklearn-color-text);\n",
              "}\n",
              "\n",
              "#sk-container-id-1 pre {\n",
              "  padding: 0;\n",
              "}\n",
              "\n",
              "#sk-container-id-1 input.sk-hidden--visually {\n",
              "  border: 0;\n",
              "  clip: rect(1px 1px 1px 1px);\n",
              "  clip: rect(1px, 1px, 1px, 1px);\n",
              "  height: 1px;\n",
              "  margin: -1px;\n",
              "  overflow: hidden;\n",
              "  padding: 0;\n",
              "  position: absolute;\n",
              "  width: 1px;\n",
              "}\n",
              "\n",
              "#sk-container-id-1 div.sk-dashed-wrapped {\n",
              "  border: 1px dashed var(--sklearn-color-line);\n",
              "  margin: 0 0.4em 0.5em 0.4em;\n",
              "  box-sizing: border-box;\n",
              "  padding-bottom: 0.4em;\n",
              "  background-color: var(--sklearn-color-background);\n",
              "}\n",
              "\n",
              "#sk-container-id-1 div.sk-container {\n",
              "  /* jupyter's `normalize.less` sets `[hidden] { display: none; }`\n",
              "     but bootstrap.min.css set `[hidden] { display: none !important; }`\n",
              "     so we also need the `!important` here to be able to override the\n",
              "     default hidden behavior on the sphinx rendered scikit-learn.org.\n",
              "     See: https://github.com/scikit-learn/scikit-learn/issues/21755 */\n",
              "  display: inline-block !important;\n",
              "  position: relative;\n",
              "}\n",
              "\n",
              "#sk-container-id-1 div.sk-text-repr-fallback {\n",
              "  display: none;\n",
              "}\n",
              "\n",
              "div.sk-parallel-item,\n",
              "div.sk-serial,\n",
              "div.sk-item {\n",
              "  /* draw centered vertical line to link estimators */\n",
              "  background-image: linear-gradient(var(--sklearn-color-text-on-default-background), var(--sklearn-color-text-on-default-background));\n",
              "  background-size: 2px 100%;\n",
              "  background-repeat: no-repeat;\n",
              "  background-position: center center;\n",
              "}\n",
              "\n",
              "/* Parallel-specific style estimator block */\n",
              "\n",
              "#sk-container-id-1 div.sk-parallel-item::after {\n",
              "  content: \"\";\n",
              "  width: 100%;\n",
              "  border-bottom: 2px solid var(--sklearn-color-text-on-default-background);\n",
              "  flex-grow: 1;\n",
              "}\n",
              "\n",
              "#sk-container-id-1 div.sk-parallel {\n",
              "  display: flex;\n",
              "  align-items: stretch;\n",
              "  justify-content: center;\n",
              "  background-color: var(--sklearn-color-background);\n",
              "  position: relative;\n",
              "}\n",
              "\n",
              "#sk-container-id-1 div.sk-parallel-item {\n",
              "  display: flex;\n",
              "  flex-direction: column;\n",
              "}\n",
              "\n",
              "#sk-container-id-1 div.sk-parallel-item:first-child::after {\n",
              "  align-self: flex-end;\n",
              "  width: 50%;\n",
              "}\n",
              "\n",
              "#sk-container-id-1 div.sk-parallel-item:last-child::after {\n",
              "  align-self: flex-start;\n",
              "  width: 50%;\n",
              "}\n",
              "\n",
              "#sk-container-id-1 div.sk-parallel-item:only-child::after {\n",
              "  width: 0;\n",
              "}\n",
              "\n",
              "/* Serial-specific style estimator block */\n",
              "\n",
              "#sk-container-id-1 div.sk-serial {\n",
              "  display: flex;\n",
              "  flex-direction: column;\n",
              "  align-items: center;\n",
              "  background-color: var(--sklearn-color-background);\n",
              "  padding-right: 1em;\n",
              "  padding-left: 1em;\n",
              "}\n",
              "\n",
              "\n",
              "/* Toggleable style: style used for estimator/Pipeline/ColumnTransformer box that is\n",
              "clickable and can be expanded/collapsed.\n",
              "- Pipeline and ColumnTransformer use this feature and define the default style\n",
              "- Estimators will overwrite some part of the style using the `sk-estimator` class\n",
              "*/\n",
              "\n",
              "/* Pipeline and ColumnTransformer style (default) */\n",
              "\n",
              "#sk-container-id-1 div.sk-toggleable {\n",
              "  /* Default theme specific background. It is overwritten whether we have a\n",
              "  specific estimator or a Pipeline/ColumnTransformer */\n",
              "  background-color: var(--sklearn-color-background);\n",
              "}\n",
              "\n",
              "/* Toggleable label */\n",
              "#sk-container-id-1 label.sk-toggleable__label {\n",
              "  cursor: pointer;\n",
              "  display: flex;\n",
              "  width: 100%;\n",
              "  margin-bottom: 0;\n",
              "  padding: 0.5em;\n",
              "  box-sizing: border-box;\n",
              "  text-align: center;\n",
              "  align-items: start;\n",
              "  justify-content: space-between;\n",
              "  gap: 0.5em;\n",
              "}\n",
              "\n",
              "#sk-container-id-1 label.sk-toggleable__label .caption {\n",
              "  font-size: 0.6rem;\n",
              "  font-weight: lighter;\n",
              "  color: var(--sklearn-color-text-muted);\n",
              "}\n",
              "\n",
              "#sk-container-id-1 label.sk-toggleable__label-arrow:before {\n",
              "  /* Arrow on the left of the label */\n",
              "  content: \"▸\";\n",
              "  float: left;\n",
              "  margin-right: 0.25em;\n",
              "  color: var(--sklearn-color-icon);\n",
              "}\n",
              "\n",
              "#sk-container-id-1 label.sk-toggleable__label-arrow:hover:before {\n",
              "  color: var(--sklearn-color-text);\n",
              "}\n",
              "\n",
              "/* Toggleable content - dropdown */\n",
              "\n",
              "#sk-container-id-1 div.sk-toggleable__content {\n",
              "  max-height: 0;\n",
              "  max-width: 0;\n",
              "  overflow: hidden;\n",
              "  text-align: left;\n",
              "  /* unfitted */\n",
              "  background-color: var(--sklearn-color-unfitted-level-0);\n",
              "}\n",
              "\n",
              "#sk-container-id-1 div.sk-toggleable__content.fitted {\n",
              "  /* fitted */\n",
              "  background-color: var(--sklearn-color-fitted-level-0);\n",
              "}\n",
              "\n",
              "#sk-container-id-1 div.sk-toggleable__content pre {\n",
              "  margin: 0.2em;\n",
              "  border-radius: 0.25em;\n",
              "  color: var(--sklearn-color-text);\n",
              "  /* unfitted */\n",
              "  background-color: var(--sklearn-color-unfitted-level-0);\n",
              "}\n",
              "\n",
              "#sk-container-id-1 div.sk-toggleable__content.fitted pre {\n",
              "  /* unfitted */\n",
              "  background-color: var(--sklearn-color-fitted-level-0);\n",
              "}\n",
              "\n",
              "#sk-container-id-1 input.sk-toggleable__control:checked~div.sk-toggleable__content {\n",
              "  /* Expand drop-down */\n",
              "  max-height: 200px;\n",
              "  max-width: 100%;\n",
              "  overflow: auto;\n",
              "}\n",
              "\n",
              "#sk-container-id-1 input.sk-toggleable__control:checked~label.sk-toggleable__label-arrow:before {\n",
              "  content: \"▾\";\n",
              "}\n",
              "\n",
              "/* Pipeline/ColumnTransformer-specific style */\n",
              "\n",
              "#sk-container-id-1 div.sk-label input.sk-toggleable__control:checked~label.sk-toggleable__label {\n",
              "  color: var(--sklearn-color-text);\n",
              "  background-color: var(--sklearn-color-unfitted-level-2);\n",
              "}\n",
              "\n",
              "#sk-container-id-1 div.sk-label.fitted input.sk-toggleable__control:checked~label.sk-toggleable__label {\n",
              "  background-color: var(--sklearn-color-fitted-level-2);\n",
              "}\n",
              "\n",
              "/* Estimator-specific style */\n",
              "\n",
              "/* Colorize estimator box */\n",
              "#sk-container-id-1 div.sk-estimator input.sk-toggleable__control:checked~label.sk-toggleable__label {\n",
              "  /* unfitted */\n",
              "  background-color: var(--sklearn-color-unfitted-level-2);\n",
              "}\n",
              "\n",
              "#sk-container-id-1 div.sk-estimator.fitted input.sk-toggleable__control:checked~label.sk-toggleable__label {\n",
              "  /* fitted */\n",
              "  background-color: var(--sklearn-color-fitted-level-2);\n",
              "}\n",
              "\n",
              "#sk-container-id-1 div.sk-label label.sk-toggleable__label,\n",
              "#sk-container-id-1 div.sk-label label {\n",
              "  /* The background is the default theme color */\n",
              "  color: var(--sklearn-color-text-on-default-background);\n",
              "}\n",
              "\n",
              "/* On hover, darken the color of the background */\n",
              "#sk-container-id-1 div.sk-label:hover label.sk-toggleable__label {\n",
              "  color: var(--sklearn-color-text);\n",
              "  background-color: var(--sklearn-color-unfitted-level-2);\n",
              "}\n",
              "\n",
              "/* Label box, darken color on hover, fitted */\n",
              "#sk-container-id-1 div.sk-label.fitted:hover label.sk-toggleable__label.fitted {\n",
              "  color: var(--sklearn-color-text);\n",
              "  background-color: var(--sklearn-color-fitted-level-2);\n",
              "}\n",
              "\n",
              "/* Estimator label */\n",
              "\n",
              "#sk-container-id-1 div.sk-label label {\n",
              "  font-family: monospace;\n",
              "  font-weight: bold;\n",
              "  display: inline-block;\n",
              "  line-height: 1.2em;\n",
              "}\n",
              "\n",
              "#sk-container-id-1 div.sk-label-container {\n",
              "  text-align: center;\n",
              "}\n",
              "\n",
              "/* Estimator-specific */\n",
              "#sk-container-id-1 div.sk-estimator {\n",
              "  font-family: monospace;\n",
              "  border: 1px dotted var(--sklearn-color-border-box);\n",
              "  border-radius: 0.25em;\n",
              "  box-sizing: border-box;\n",
              "  margin-bottom: 0.5em;\n",
              "  /* unfitted */\n",
              "  background-color: var(--sklearn-color-unfitted-level-0);\n",
              "}\n",
              "\n",
              "#sk-container-id-1 div.sk-estimator.fitted {\n",
              "  /* fitted */\n",
              "  background-color: var(--sklearn-color-fitted-level-0);\n",
              "}\n",
              "\n",
              "/* on hover */\n",
              "#sk-container-id-1 div.sk-estimator:hover {\n",
              "  /* unfitted */\n",
              "  background-color: var(--sklearn-color-unfitted-level-2);\n",
              "}\n",
              "\n",
              "#sk-container-id-1 div.sk-estimator.fitted:hover {\n",
              "  /* fitted */\n",
              "  background-color: var(--sklearn-color-fitted-level-2);\n",
              "}\n",
              "\n",
              "/* Specification for estimator info (e.g. \"i\" and \"?\") */\n",
              "\n",
              "/* Common style for \"i\" and \"?\" */\n",
              "\n",
              ".sk-estimator-doc-link,\n",
              "a:link.sk-estimator-doc-link,\n",
              "a:visited.sk-estimator-doc-link {\n",
              "  float: right;\n",
              "  font-size: smaller;\n",
              "  line-height: 1em;\n",
              "  font-family: monospace;\n",
              "  background-color: var(--sklearn-color-background);\n",
              "  border-radius: 1em;\n",
              "  height: 1em;\n",
              "  width: 1em;\n",
              "  text-decoration: none !important;\n",
              "  margin-left: 0.5em;\n",
              "  text-align: center;\n",
              "  /* unfitted */\n",
              "  border: var(--sklearn-color-unfitted-level-1) 1pt solid;\n",
              "  color: var(--sklearn-color-unfitted-level-1);\n",
              "}\n",
              "\n",
              ".sk-estimator-doc-link.fitted,\n",
              "a:link.sk-estimator-doc-link.fitted,\n",
              "a:visited.sk-estimator-doc-link.fitted {\n",
              "  /* fitted */\n",
              "  border: var(--sklearn-color-fitted-level-1) 1pt solid;\n",
              "  color: var(--sklearn-color-fitted-level-1);\n",
              "}\n",
              "\n",
              "/* On hover */\n",
              "div.sk-estimator:hover .sk-estimator-doc-link:hover,\n",
              ".sk-estimator-doc-link:hover,\n",
              "div.sk-label-container:hover .sk-estimator-doc-link:hover,\n",
              ".sk-estimator-doc-link:hover {\n",
              "  /* unfitted */\n",
              "  background-color: var(--sklearn-color-unfitted-level-3);\n",
              "  color: var(--sklearn-color-background);\n",
              "  text-decoration: none;\n",
              "}\n",
              "\n",
              "div.sk-estimator.fitted:hover .sk-estimator-doc-link.fitted:hover,\n",
              ".sk-estimator-doc-link.fitted:hover,\n",
              "div.sk-label-container:hover .sk-estimator-doc-link.fitted:hover,\n",
              ".sk-estimator-doc-link.fitted:hover {\n",
              "  /* fitted */\n",
              "  background-color: var(--sklearn-color-fitted-level-3);\n",
              "  color: var(--sklearn-color-background);\n",
              "  text-decoration: none;\n",
              "}\n",
              "\n",
              "/* Span, style for the box shown on hovering the info icon */\n",
              ".sk-estimator-doc-link span {\n",
              "  display: none;\n",
              "  z-index: 9999;\n",
              "  position: relative;\n",
              "  font-weight: normal;\n",
              "  right: .2ex;\n",
              "  padding: .5ex;\n",
              "  margin: .5ex;\n",
              "  width: min-content;\n",
              "  min-width: 20ex;\n",
              "  max-width: 50ex;\n",
              "  color: var(--sklearn-color-text);\n",
              "  box-shadow: 2pt 2pt 4pt #999;\n",
              "  /* unfitted */\n",
              "  background: var(--sklearn-color-unfitted-level-0);\n",
              "  border: .5pt solid var(--sklearn-color-unfitted-level-3);\n",
              "}\n",
              "\n",
              ".sk-estimator-doc-link.fitted span {\n",
              "  /* fitted */\n",
              "  background: var(--sklearn-color-fitted-level-0);\n",
              "  border: var(--sklearn-color-fitted-level-3);\n",
              "}\n",
              "\n",
              ".sk-estimator-doc-link:hover span {\n",
              "  display: block;\n",
              "}\n",
              "\n",
              "/* \"?\"-specific style due to the `<a>` HTML tag */\n",
              "\n",
              "#sk-container-id-1 a.estimator_doc_link {\n",
              "  float: right;\n",
              "  font-size: 1rem;\n",
              "  line-height: 1em;\n",
              "  font-family: monospace;\n",
              "  background-color: var(--sklearn-color-background);\n",
              "  border-radius: 1rem;\n",
              "  height: 1rem;\n",
              "  width: 1rem;\n",
              "  text-decoration: none;\n",
              "  /* unfitted */\n",
              "  color: var(--sklearn-color-unfitted-level-1);\n",
              "  border: var(--sklearn-color-unfitted-level-1) 1pt solid;\n",
              "}\n",
              "\n",
              "#sk-container-id-1 a.estimator_doc_link.fitted {\n",
              "  /* fitted */\n",
              "  border: var(--sklearn-color-fitted-level-1) 1pt solid;\n",
              "  color: var(--sklearn-color-fitted-level-1);\n",
              "}\n",
              "\n",
              "/* On hover */\n",
              "#sk-container-id-1 a.estimator_doc_link:hover {\n",
              "  /* unfitted */\n",
              "  background-color: var(--sklearn-color-unfitted-level-3);\n",
              "  color: var(--sklearn-color-background);\n",
              "  text-decoration: none;\n",
              "}\n",
              "\n",
              "#sk-container-id-1 a.estimator_doc_link.fitted:hover {\n",
              "  /* fitted */\n",
              "  background-color: var(--sklearn-color-fitted-level-3);\n",
              "}\n",
              "</style><div id=\"sk-container-id-1\" class=\"sk-top-container\"><div class=\"sk-text-repr-fallback\"><pre>LogisticRegression(max_iter=1000, random_state=0)</pre><b>In a Jupyter environment, please rerun this cell to show the HTML representation or trust the notebook. <br />On GitHub, the HTML representation is unable to render, please try loading this page with nbviewer.org.</b></div><div class=\"sk-container\" hidden><div class=\"sk-item\"><div class=\"sk-estimator fitted sk-toggleable\"><input class=\"sk-toggleable__control sk-hidden--visually\" id=\"sk-estimator-id-1\" type=\"checkbox\" checked><label for=\"sk-estimator-id-1\" class=\"sk-toggleable__label fitted sk-toggleable__label-arrow\"><div><div>LogisticRegression</div></div><div><a class=\"sk-estimator-doc-link fitted\" rel=\"noreferrer\" target=\"_blank\" href=\"https://scikit-learn.org/1.6/modules/generated/sklearn.linear_model.LogisticRegression.html\">?<span>Documentation for LogisticRegression</span></a><span class=\"sk-estimator-doc-link fitted\">i<span>Fitted</span></span></div></label><div class=\"sk-toggleable__content fitted\"><pre>LogisticRegression(max_iter=1000, random_state=0)</pre></div> </div></div></div></div>"
            ]
          },
          "metadata": {},
          "execution_count": 8
        }
      ]
    },
    {
      "cell_type": "code",
      "source": [
        "#In training set\n",
        "y_pred_tr = model.predict(x_train)\n",
        "#print(y_pred_tr)\n",
        "\n",
        "accuracy = accuracy_score(y_train, y_pred_tr)\n",
        "accuracy_percentage = round(accuracy*100, 2)\n",
        "\n",
        "print(f'The accuracy of the model is: {accuracy_percentage}')\n",
        "\n",
        "\n",
        "#In testing set (named val)\n",
        "y_pred = model.predict(x_val)\n",
        "#print(y_pred)\n",
        "\n",
        "accuracy = accuracy_score(y_val, y_pred)\n",
        "accuracy_percentage = round(accuracy*100, 2)\n",
        "\n",
        "print(f'The accuracy of the model is: {accuracy_percentage}')"
      ],
      "metadata": {
        "colab": {
          "base_uri": "https://localhost:8080/"
        },
        "id": "WBENmLLr0He8",
        "outputId": "9c8b35d8-a78c-49ec-e24f-c3bb621f5c0c"
      },
      "execution_count": null,
      "outputs": [
        {
          "output_type": "stream",
          "name": "stdout",
          "text": [
            "The accuracy of the model is: 76.54\n",
            "The accuracy of the model is: 77.92\n"
          ]
        }
      ]
    },
    {
      "cell_type": "markdown",
      "source": [
        "Παρατηρείται ότι η ακρίβεια του test set είναι λίγο μεγαλύτερη από αυτή του train set, κάτι που μπορεί να αποτελεί ένδειξη ότι το μοντέλο αποδίδει καλά σε νέα δεδομένα που δεν έχει ξαναδεί και ότι δεν υπάρχει overfitting."
      ],
      "metadata": {
        "id": "FdYEt9jw2onn"
      }
    },
    {
      "cell_type": "markdown",
      "source": [
        "#ΕΡΩΤΗΜΑ 7"
      ],
      "metadata": {
        "id": "7ctUxvFO25Wu"
      }
    },
    {
      "cell_type": "code",
      "source": [
        "mask_1 = x_val[:, 7] < 26\n",
        "x_val_1=x_val[mask_1]\n",
        "y_val_1=y_val[mask_1]\n",
        "\n",
        "mask_2 = (x_val[:, 7] > 24) & (x_val[:, 7] < 51)\n",
        "x_val_2=x_val[mask_2]\n",
        "y_val_2=y_val[mask_2]\n",
        "\n",
        "mask_3 = x_val[:, 7] > 49\n",
        "x_val_3=x_val[mask_3]\n",
        "y_val_3=y_val[mask_3]\n",
        "\n",
        "y_pred_1 = model.predict(x_val_1)\n",
        "accuracy_1 = accuracy_score(y_val_1, y_pred_1)\n",
        "accuracy_percentage_1 = round(accuracy_1*100, 2)\n",
        "print(f'The accuracy of the model 0-25 is: {accuracy_percentage_1}')\n",
        "\n",
        "y_pred_2 = model.predict(x_val_2)\n",
        "accuracy_2 = accuracy_score(y_val_2, y_pred_2)\n",
        "accuracy_percentage_2 = round(accuracy_2*100, 2)\n",
        "print(f'The accuracy of the model 25-50 is: {accuracy_percentage_2}')\n",
        "\n",
        "y_pred_3 = model.predict(x_val_3)\n",
        "\n",
        "accuracy_3 = accuracy_score(y_val_3, y_pred_3)\n",
        "accuracy_percentage_3 = round(accuracy_3*100, 2)\n",
        "print(f'The accuracy of the model >50 is: {accuracy_percentage_3}')"
      ],
      "metadata": {
        "colab": {
          "base_uri": "https://localhost:8080/"
        },
        "id": "xnIWbJFx5biL",
        "outputId": "09f0eab6-8c0a-4534-8c0c-cd5d4ee1f2a9"
      },
      "execution_count": null,
      "outputs": [
        {
          "output_type": "stream",
          "name": "stdout",
          "text": [
            "The accuracy of the model 0-25 is: 85.56\n",
            "The accuracy of the model 25-50 is: 72.79\n",
            "The accuracy of the model >50 is: 87.5\n"
          ]
        }
      ]
    },
    {
      "cell_type": "markdown",
      "source": [
        "Bar Plot"
      ],
      "metadata": {
        "id": "ylO0TkD1BhKC"
      }
    },
    {
      "cell_type": "code",
      "source": [
        "import matplotlib.pyplot as plt\n",
        "\n",
        "# Ετικέτες και τιμές ακρίβειας\n",
        "labels = ['0–25', '25–50', '>50']\n",
        "accuracies = [accuracy_percentage_1, accuracy_percentage_2, accuracy_percentage_3]\n",
        "\n",
        "plt.bar(labels, accuracies)\n",
        "plt.title('Ακρίβεια ανά ομάδα ηλικιών')\n",
        "plt.xlabel('Ηλικιακή ομάδα')\n",
        "plt.ylabel('Ακρίβεια')\n",
        "plt.ylim(0, 100)\n",
        "plt.grid(axis='y')\n",
        "plt.show()\n"
      ],
      "metadata": {
        "colab": {
          "base_uri": "https://localhost:8080/",
          "height": 473
        },
        "id": "R1zkBdBj_pLy",
        "outputId": "2f086ca9-ee84-47ea-e467-ebd115396113"
      },
      "execution_count": null,
      "outputs": [
        {
          "output_type": "display_data",
          "data": {
            "text/plain": [
              "<Figure size 640x480 with 1 Axes>"
            ],
            "image/png": "[encoded data removed]"
          },
          "metadata": {}
        }
      ]
    },
    {
      "cell_type": "markdown",
      "source": [
        "Παρατηρείται ότι για τις ηλικιακές ομάδες 0-25 και >50, ο ταξινομητής φαίνεται να προβλέπει καλά, καθώς η ακρίβεια είναι πάνω από 80%. Στην ηλικιακή ομάδα 25-50 η ακρίβεια είναι χαμηλότερη (70%), που σημαίνει πως για αυτήν την ομάδα ο ταξινομητής πετυχαίνει λιγότερα σωστά συγκριτικά με τις άλλες."
      ],
      "metadata": {
        "id": "37HGIIm_CfNm"
      }
    },
    {
      "cell_type": "markdown",
      "source": [
        "#ΕΡΩΤΗΜΑ 8"
      ],
      "metadata": {
        "id": "DqwtxzWBEwhy"
      }
    },
    {
      "cell_type": "markdown",
      "source": [
        "Εφόσον πρόκειται για ιατρική εφαρμογή, χειρότερο είναι η πρόβλεψη ότι κάποιος δεν έχει διαβήτη ενώ έχει παρά το αντίθετο. Στην περίπτωση που προβλέπει έναν ασθενή άνθρωπο ως υγιή, υπάρχουν άμεσες επιπτώσεις στην υγεία του καθώς παραβλέπει το πρόβλημα, ενώ στην αντίθετη περίπτωση οι περαιτέρω εξετάσεις θα δείξουν τη λάθος διάγνωση, χωρίς κίνδυνο στην υγεία του."
      ],
      "metadata": {
        "id": "04V7PmX2E0-j"
      }
    },
    {
      "cell_type": "markdown",
      "source": [
        "#ΕΡΩΤΗΜΑ 9"
      ],
      "metadata": {
        "id": "sgH96Cc0E1pT"
      }
    },
    {
      "cell_type": "code",
      "source": [
        "test_size = 0.3\n",
        "accuracies_tr = []\n",
        "accuracies = []\n",
        "\n",
        "\n",
        "for i in range(10):\n",
        "  x_train, x_val, y_train, y_val = train_test_split(x, y, test_size=test_size, random_state=i)\n",
        "  #6\n",
        "  model = LogisticRegression(max_iter=1000, random_state=i)\n",
        "  model.fit(x_train, y_train)\n",
        "\n",
        "  #In training set\n",
        "  y_pred_tr = model.predict(x_train)\n",
        "  accuracy1 = accuracy_score(y_train, y_pred_tr)\n",
        "  accuracies_tr.append(accuracy1)\n",
        "\n",
        "  #In testing set (named val)\n",
        "  y_pred = model.predict(x_val)\n",
        "  accuracy = accuracy_score(y_val, y_pred)\n",
        "  accuracies.append(accuracy)\n",
        "\n",
        "\n",
        "mean_accuracy = np.mean(accuracies_tr)\n",
        "std_accuracy = np.std(accuracies_tr)\n",
        "print(f'Μέσος όρος ακρίβειας: {round(mean_accuracy*100, 2)}')\n",
        "print(f'Τυπική απόκλιση ακρίβειας: {round(std_accuracy*100, 2)}')\n",
        "\n",
        "mean_accuracy = np.mean(accuracies)\n",
        "std_accuracy = np.std(accuracies)\n",
        "print(f'Μέσος όρος ακρίβειας: {round(mean_accuracy*100, 2)}')\n",
        "print(f'Τυπική απόκλιση ακρίβειας: {round(std_accuracy*100, 2)}')\n",
        "\n",
        "\n",
        "\n",
        "\n"
      ],
      "metadata": {
        "colab": {
          "base_uri": "https://localhost:8080/"
        },
        "id": "sM_tamuiE3Zd",
        "outputId": "69d89080-717d-4248-c7c0-c50504d9ccfc"
      },
      "execution_count": null,
      "outputs": [
        {
          "output_type": "stream",
          "name": "stdout",
          "text": [
            "Μέσος όρος ακρίβειας: 77.65\n",
            "Τυπική απόκλιση ακρίβειας: 1.22\n",
            "Μέσος όρος ακρίβειας: 77.27\n",
            "Τυπική απόκλιση ακρίβειας: 1.87\n"
          ]
        }
      ]
    },
    {
      "cell_type": "markdown",
      "source": [
        "#ΕΡΩΤΗΜΑ 10"
      ],
      "metadata": {
        "id": "yd4GAVMLKyLa"
      }
    },
    {
      "cell_type": "code",
      "source": [
        "seed = 0\n",
        "test_size = 0.3\n",
        "\n",
        "x_train, x_val, y_train, y_val = train_test_split(x, y, test_size=test_size, random_state=seed)\n",
        "x_train.shape, y_train.shape, x_val.shape, y_val.shape\n",
        "\n",
        "#Κανονικοποίηση\n",
        "scaler = MinMaxScaler()\n",
        "x_train_scaled = scaler.fit_transform(x_train)\n",
        "x_val_scaled = scaler.transform(x_val)\n",
        "\n",
        "model = LogisticRegression(max_iter=1000, random_state=seed)\n",
        "model.fit(x_train_scaled, y_train)\n",
        "y_pred_tr = model.predict(x_val_scaled)\n",
        "\n",
        "\n",
        "coeffs = model.coef_[0]\n",
        "importance_weights = np.abs(coeffs)\n",
        "plt.barh(input_df.columns, importance_weights)\n",
        "plt.title('Logistic Regression Weights')\n",
        "plt.xlabel('Features')\n",
        "plt.ylabel('Coefficients')\n",
        "plt.show()"
      ],
      "metadata": {
        "colab": {
          "base_uri": "https://localhost:8080/",
          "height": 472
        },
        "id": "mA9M1E3sK0SQ",
        "outputId": "807f1095-e8dd-436a-b2ec-d8b68e106ecb"
      },
      "execution_count": null,
      "outputs": [
        {
          "output_type": "display_data",
          "data": {
            "text/plain": [
              "<Figure size 640x480 with 1 Axes>"
            ],
            "image/png": "[encoded data removed]"
          },
          "metadata": {}
        }
      ]
    },
    {
      "cell_type": "markdown",
      "source": [
        "Οι μεταβλητές που φαίνεται να επηρρεαζουν περισσότερο το μοντέλο είναι αρχικά η γλυκόζη (Glucose), μετά το BMI, και τέλος η ηλικία, καθώς αυτές έχουν την μεγαλύτερη απόλυτη τιμή."
      ],
      "metadata": {
        "id": "_Xys5IX6Wyou"
      }
    },
    {
      "cell_type": "markdown",
      "source": [
        "#Μέρος 2- Γραμμική Παλινδρόμηση"
      ],
      "metadata": {
        "id": "k7YhlD7aaEGu"
      }
    },
    {
      "cell_type": "markdown",
      "source": [
        "#ΕΡΩΤΗΜΑ 1"
      ],
      "metadata": {
        "id": "6FYCij68bmWh"
      }
    },
    {
      "cell_type": "code",
      "source": [
        "df = pd.read_csv('diabetes.csv')\n",
        "df.head()"
      ],
      "metadata": {
        "colab": {
          "base_uri": "https://localhost:8080/",
          "height": 206
        },
        "id": "1qU5r4i_dgYa",
        "outputId": "de6a2f08-4974-40b3-8e1f-aa3ab0884ecb"
      },
      "execution_count": null,
      "outputs": [
        {
          "output_type": "execute_result",
          "data": {
            "text/plain": [
              "   Pregnancies  Glucose  BloodPressure  SkinThickness  Insulin   BMI  \\\n",
              "0            6      148             72             35        0  33.6   \n",
              "1            1       85             66             29        0  26.6   \n",
              "2            8      183             64              0        0  23.3   \n",
              "3            1       89             66             23       94  28.1   \n",
              "4            0      137             40             35      168  43.1   \n",
              "\n",
              "   DiabetesPedigreeFunction  Age  Outcome  \n",
              "0                     0.627   50        1  \n",
              "1                     0.351   31        0  \n",
              "2                     0.672   32        1  \n",
              "3                     0.167   21        0  \n",
              "4                     2.288   33        1  "
            ],
            "text/html": [
              "\n",
              "  <div id=\"df-aab7fa1c-cd6b-468e-a301-40a084fecc37\" class=\"colab-df-container\">\n",
              "    <div>\n",
              "<style scoped>\n",
              "    .dataframe tbody tr th:only-of-type {\n",
              "        vertical-align: middle;\n",
              "    }\n",
              "\n",
              "    .dataframe tbody tr th {\n",
              "        vertical-align: top;\n",
              "    }\n",
              "\n",
              "    .dataframe thead th {\n",
              "        text-align: right;\n",
              "    }\n",
              "</style>\n",
              "<table border=\"1\" class=\"dataframe\">\n",
              "  <thead>\n",
              "    <tr style=\"text-align: right;\">\n",
              "      <th></th>\n",
              "      <th>Pregnancies</th>\n",
              "      <th>Glucose</th>\n",
              "      <th>BloodPressure</th>\n",
              "      <th>SkinThickness</th>\n",
              "      <th>Insulin</th>\n",
              "      <th>BMI</th>\n",
              "      <th>DiabetesPedigreeFunction</th>\n",
              "      <th>Age</th>\n",
              "      <th>Outcome</th>\n",
              "    </tr>\n",
              "  </thead>\n",
              "  <tbody>\n",
              "    <tr>\n",
              "      <th>0</th>\n",
              "      <td>6</td>\n",
              "      <td>148</td>\n",
              "      <td>72</td>\n",
              "      <td>35</td>\n",
              "      <td>0</td>\n",
              "      <td>33.6</td>\n",
              "      <td>0.627</td>\n",
              "      <td>50</td>\n",
              "      <td>1</td>\n",
              "    </tr>\n",
              "    <tr>\n",
              "      <th>1</th>\n",
              "      <td>1</td>\n",
              "      <td>85</td>\n",
              "      <td>66</td>\n",
              "      <td>29</td>\n",
              "      <td>0</td>\n",
              "      <td>26.6</td>\n",
              "      <td>0.351</td>\n",
              "      <td>31</td>\n",
              "      <td>0</td>\n",
              "    </tr>\n",
              "    <tr>\n",
              "      <th>2</th>\n",
              "      <td>8</td>\n",
              "      <td>183</td>\n",
              "      <td>64</td>\n",
              "      <td>0</td>\n",
              "      <td>0</td>\n",
              "      <td>23.3</td>\n",
              "      <td>0.672</td>\n",
              "      <td>32</td>\n",
              "      <td>1</td>\n",
              "    </tr>\n",
              "    <tr>\n",
              "      <th>3</th>\n",
              "      <td>1</td>\n",
              "      <td>89</td>\n",
              "      <td>66</td>\n",
              "      <td>23</td>\n",
              "      <td>94</td>\n",
              "      <td>28.1</td>\n",
              "      <td>0.167</td>\n",
              "      <td>21</td>\n",
              "      <td>0</td>\n",
              "    </tr>\n",
              "    <tr>\n",
              "      <th>4</th>\n",
              "      <td>0</td>\n",
              "      <td>137</td>\n",
              "      <td>40</td>\n",
              "      <td>35</td>\n",
              "      <td>168</td>\n",
              "      <td>43.1</td>\n",
              "      <td>2.288</td>\n",
              "      <td>33</td>\n",
              "      <td>1</td>\n",
              "    </tr>\n",
              "  </tbody>\n",
              "</table>\n",
              "</div>\n",
              "    <div class=\"colab-df-buttons\">\n",
              "\n",
              "  <div class=\"colab-df-container\">\n",
              "    <button class=\"colab-df-convert\" onclick=\"convertToInteractive('df-aab7fa1c-cd6b-468e-a301-40a084fecc37')\"\n",
              "            title=\"Convert this dataframe to an interactive table.\"\n",
              "            style=\"display:none;\">\n",
              "\n",
              "  <svg xmlns=\"http://www.w3.org/2000/svg\" height=\"24px\" viewBox=\"0 -960 960 960\">\n",
              "    <path d=\"M120-120v-720h720v720H120Zm60-500h600v-160H180v160Zm220 220h160v-160H400v160Zm0 220h160v-160H400v160ZM180-400h160v-160H180v160Zm440 0h160v-160H620v160ZM180-180h160v-160H180v160Zm440 0h160v-160H620v160Z\"/>\n",
              "  </svg>\n",
              "    </button>\n",
              "\n",
              "  <style>\n",
              "    .colab-df-container {\n",
              "      display:flex;\n",
              "      gap: 12px;\n",
              "    }\n",
              "\n",
              "    .colab-df-convert {\n",
              "      background-color: #E8F0FE;\n",
              "      border: none;\n",
              "      border-radius: 50%;\n",
              "      cursor: pointer;\n",
              "      display: none;\n",
              "      fill: #1967D2;\n",
              "      height: 32px;\n",
              "      padding: 0 0 0 0;\n",
              "      width: 32px;\n",
              "    }\n",
              "\n",
              "    .colab-df-convert:hover {\n",
              "      background-color: #E2EBFA;\n",
              "      box-shadow: 0px 1px 2px rgba(60, 64, 67, 0.3), 0px 1px 3px 1px rgba(60, 64, 67, 0.15);\n",
              "      fill: #174EA6;\n",
              "    }\n",
              "\n",
              "    .colab-df-buttons div {\n",
              "      margin-bottom: 4px;\n",
              "    }\n",
              "\n",
              "    [theme=dark] .colab-df-convert {\n",
              "      background-color: #3B4455;\n",
              "      fill: #D2E3FC;\n",
              "    }\n",
              "\n",
              "    [theme=dark] .colab-df-convert:hover {\n",
              "      background-color: #434B5C;\n",
              "      box-shadow: 0px 1px 3px 1px rgba(0, 0, 0, 0.15);\n",
              "      filter: drop-shadow(0px 1px 2px rgba(0, 0, 0, 0.3));\n",
              "      fill: #FFFFFF;\n",
              "    }\n",
              "  </style>\n",
              "\n",
              "    <script>\n",
              "      const buttonEl =\n",
              "        document.querySelector('#df-aab7fa1c-cd6b-468e-a301-40a084fecc37 button.colab-df-convert');\n",
              "      buttonEl.style.display =\n",
              "        google.colab.kernel.accessAllowed ? 'block' : 'none';\n",
              "\n",
              "      async function convertToInteractive(key) {\n",
              "        const element = document.querySelector('#df-aab7fa1c-cd6b-468e-a301-40a084fecc37');\n",
              "        const dataTable =\n",
              "          await google.colab.kernel.invokeFunction('convertToInteractive',\n",
              "                                                    [key], {});\n",
              "        if (!dataTable) return;\n",
              "\n",
              "        const docLinkHtml = 'Like what you see? Visit the ' +\n",
              "          '<a target=\"_blank\" href=https://colab.research.google.com/notebooks/data_table.ipynb>data table notebook</a>'\n",
              "          + ' to learn more about interactive tables.';\n",
              "        element.innerHTML = '';\n",
              "        dataTable['output_type'] = 'display_data';\n",
              "        await google.colab.output.renderOutput(dataTable, element);\n",
              "        const docLink = document.createElement('div');\n",
              "        docLink.innerHTML = docLinkHtml;\n",
              "        element.appendChild(docLink);\n",
              "      }\n",
              "    </script>\n",
              "  </div>\n",
              "\n",
              "\n",
              "    <div id=\"df-d0fb500e-fa1a-4de6-a868-4c581f8f6696\">\n",
              "      <button class=\"colab-df-quickchart\" onclick=\"quickchart('df-d0fb500e-fa1a-4de6-a868-4c581f8f6696')\"\n",
              "                title=\"Suggest charts\"\n",
              "                style=\"display:none;\">\n",
              "\n",
              "<svg xmlns=\"http://www.w3.org/2000/svg\" height=\"24px\"viewBox=\"0 0 24 24\"\n",
              "     width=\"24px\">\n",
              "    <g>\n",
              "        <path d=\"M19 3H5c-1.1 0-2 .9-2 2v14c0 1.1.9 2 2 2h14c1.1 0 2-.9 2-2V5c0-1.1-.9-2-2-2zM9 17H7v-7h2v7zm4 0h-2V7h2v10zm4 0h-2v-4h2v4z\"/>\n",
              "    </g>\n",
              "</svg>\n",
              "      </button>\n",
              "\n",
              "<style>\n",
              "  .colab-df-quickchart {\n",
              "      --bg-color: #E8F0FE;\n",
              "      --fill-color: #1967D2;\n",
              "      --hover-bg-color: #E2EBFA;\n",
              "      --hover-fill-color: #174EA6;\n",
              "      --disabled-fill-color: #AAA;\n",
              "      --disabled-bg-color: #DDD;\n",
              "  }\n",
              "\n",
              "  [theme=dark] .colab-df-quickchart {\n",
              "      --bg-color: #3B4455;\n",
              "      --fill-color: #D2E3FC;\n",
              "      --hover-bg-color: #434B5C;\n",
              "      --hover-fill-color: #FFFFFF;\n",
              "      --disabled-bg-color: #3B4455;\n",
              "      --disabled-fill-color: #666;\n",
              "  }\n",
              "\n",
              "  .colab-df-quickchart {\n",
              "    background-color: var(--bg-color);\n",
              "    border: none;\n",
              "    border-radius: 50%;\n",
              "    cursor: pointer;\n",
              "    display: none;\n",
              "    fill: var(--fill-color);\n",
              "    height: 32px;\n",
              "    padding: 0;\n",
              "    width: 32px;\n",
              "  }\n",
              "\n",
              "  .colab-df-quickchart:hover {\n",
              "    background-color: var(--hover-bg-color);\n",
              "    box-shadow: 0 1px 2px rgba(60, 64, 67, 0.3), 0 1px 3px 1px rgba(60, 64, 67, 0.15);\n",
              "    fill: var(--button-hover-fill-color);\n",
              "  }\n",
              "\n",
              "  .colab-df-quickchart-complete:disabled,\n",
              "  .colab-df-quickchart-complete:disabled:hover {\n",
              "    background-color: var(--disabled-bg-color);\n",
              "    fill: var(--disabled-fill-color);\n",
              "    box-shadow: none;\n",
              "  }\n",
              "\n",
              "  .colab-df-spinner {\n",
              "    border: 2px solid var(--fill-color);\n",
              "    border-color: transparent;\n",
              "    border-bottom-color: var(--fill-color);\n",
              "    animation:\n",
              "      spin 1s steps(1) infinite;\n",
              "  }\n",
              "\n",
              "  @keyframes spin {\n",
              "    0% {\n",
              "      border-color: transparent;\n",
              "      border-bottom-color: var(--fill-color);\n",
              "      border-left-color: var(--fill-color);\n",
              "    }\n",
              "    20% {\n",
              "      border-color: transparent;\n",
              "      border-left-color: var(--fill-color);\n",
              "      border-top-color: var(--fill-color);\n",
              "    }\n",
              "    30% {\n",
              "      border-color: transparent;\n",
              "      border-left-color: var(--fill-color);\n",
              "      border-top-color: var(--fill-color);\n",
              "      border-right-color: var(--fill-color);\n",
              "    }\n",
              "    40% {\n",
              "      border-color: transparent;\n",
              "      border-right-color: var(--fill-color);\n",
              "      border-top-color: var(--fill-color);\n",
              "    }\n",
              "    60% {\n",
              "      border-color: transparent;\n",
              "      border-right-color: var(--fill-color);\n",
              "    }\n",
              "    80% {\n",
              "      border-color: transparent;\n",
              "      border-right-color: var(--fill-color);\n",
              "      border-bottom-color: var(--fill-color);\n",
              "    }\n",
              "    90% {\n",
              "      border-color: transparent;\n",
              "      border-bottom-color: var(--fill-color);\n",
              "    }\n",
              "  }\n",
              "</style>\n",
              "\n",
              "      <script>\n",
              "        async function quickchart(key) {\n",
              "          const quickchartButtonEl =\n",
              "            document.querySelector('#' + key + ' button');\n",
              "          quickchartButtonEl.disabled = true;  // To prevent multiple clicks.\n",
              "          quickchartButtonEl.classList.add('colab-df-spinner');\n",
              "          try {\n",
              "            const charts = await google.colab.kernel.invokeFunction(\n",
              "                'suggestCharts', [key], {});\n",
              "          } catch (error) {\n",
              "            console.error('Error during call to suggestCharts:', error);\n",
              "          }\n",
              "          quickchartButtonEl.classList.remove('colab-df-spinner');\n",
              "          quickchartButtonEl.classList.add('colab-df-quickchart-complete');\n",
              "        }\n",
              "        (() => {\n",
              "          let quickchartButtonEl =\n",
              "            document.querySelector('#df-d0fb500e-fa1a-4de6-a868-4c581f8f6696 button');\n",
              "          quickchartButtonEl.style.display =\n",
              "            google.colab.kernel.accessAllowed ? 'block' : 'none';\n",
              "        })();\n",
              "      </script>\n",
              "    </div>\n",
              "\n",
              "    </div>\n",
              "  </div>\n"
            ],
            "application/vnd.google.colaboratory.intrinsic+json": {
              "type": "dataframe",
              "variable_name": "df",
              "summary": "{\n  \"name\": \"df\",\n  \"rows\": 768,\n  \"fields\": [\n    {\n      \"column\": \"Pregnancies\",\n      \"properties\": {\n        \"dtype\": \"number\",\n        \"std\": 3,\n        \"min\": 0,\n        \"max\": 17,\n        \"num_unique_values\": 17,\n        \"samples\": [\n          6,\n          1,\n          3\n        ],\n        \"semantic_type\": \"\",\n        \"description\": \"\"\n      }\n    },\n    {\n      \"column\": \"Glucose\",\n      \"properties\": {\n        \"dtype\": \"number\",\n        \"std\": 31,\n        \"min\": 0,\n        \"max\": 199,\n        \"num_unique_values\": 136,\n        \"samples\": [\n          151,\n          101,\n          112\n        ],\n        \"semantic_type\": \"\",\n        \"description\": \"\"\n      }\n    },\n    {\n      \"column\": \"BloodPressure\",\n      \"properties\": {\n        \"dtype\": \"number\",\n        \"std\": 19,\n        \"min\": 0,\n        \"max\": 122,\n        \"num_unique_values\": 47,\n        \"samples\": [\n          86,\n          46,\n          85\n        ],\n        \"semantic_type\": \"\",\n        \"description\": \"\"\n      }\n    },\n    {\n      \"column\": \"SkinThickness\",\n      \"properties\": {\n        \"dtype\": \"number\",\n        \"std\": 15,\n        \"min\": 0,\n        \"max\": 99,\n        \"num_unique_values\": 51,\n        \"samples\": [\n          7,\n          12,\n          48\n        ],\n        \"semantic_type\": \"\",\n        \"description\": \"\"\n      }\n    },\n    {\n      \"column\": \"Insulin\",\n      \"properties\": {\n        \"dtype\": \"number\",\n        \"std\": 115,\n        \"min\": 0,\n        \"max\": 846,\n        \"num_unique_values\": 186,\n        \"samples\": [\n          52,\n          41,\n          183\n        ],\n        \"semantic_type\": \"\",\n        \"description\": \"\"\n      }\n    },\n    {\n      \"column\": \"BMI\",\n      \"properties\": {\n        \"dtype\": \"number\",\n        \"std\": 7.8841603203754405,\n        \"min\": 0.0,\n        \"max\": 67.1,\n        \"num_unique_values\": 248,\n        \"samples\": [\n          19.9,\n          31.0,\n          38.1\n        ],\n        \"semantic_type\": \"\",\n        \"description\": \"\"\n      }\n    },\n    {\n      \"column\": \"DiabetesPedigreeFunction\",\n      \"properties\": {\n        \"dtype\": \"number\",\n        \"std\": 0.33132859501277484,\n        \"min\": 0.078,\n        \"max\": 2.42,\n        \"num_unique_values\": 517,\n        \"samples\": [\n          1.731,\n          0.426,\n          0.138\n        ],\n        \"semantic_type\": \"\",\n        \"description\": \"\"\n      }\n    },\n    {\n      \"column\": \"Age\",\n      \"properties\": {\n        \"dtype\": \"number\",\n        \"std\": 11,\n        \"min\": 21,\n        \"max\": 81,\n        \"num_unique_values\": 52,\n        \"samples\": [\n          60,\n          47,\n          72\n        ],\n        \"semantic_type\": \"\",\n        \"description\": \"\"\n      }\n    },\n    {\n      \"column\": \"Outcome\",\n      \"properties\": {\n        \"dtype\": \"number\",\n        \"std\": 0,\n        \"min\": 0,\n        \"max\": 1,\n        \"num_unique_values\": 2,\n        \"samples\": [\n          0,\n          1\n        ],\n        \"semantic_type\": \"\",\n        \"description\": \"\"\n      }\n    }\n  ]\n}"
            }
          },
          "metadata": {},
          "execution_count": 16
        }
      ]
    },
    {
      "cell_type": "code",
      "source": [
        "df = pd.read_csv('diabetes.csv')\n",
        "targets_df = df['Glucose']\n",
        "\n",
        "x = df[['Pregnancies', 'BloodPressure', 'BMI', 'Age']].to_numpy()\n",
        "y = targets_df.to_numpy()\n",
        "print(x.shape, y.shape)\n",
        "\n",
        "seed = 0\n",
        "test_size = 0.3\n",
        "\n",
        "x_train, x_val, y_train, y_val = train_test_split(x, y, test_size=test_size, random_state=seed)\n",
        "x_train.shape, y_train.shape, x_val.shape, y_val.shape"
      ],
      "metadata": {
        "colab": {
          "base_uri": "https://localhost:8080/"
        },
        "id": "CpjmInpibqyk",
        "outputId": "8d1a7b17-80fb-4245-b1d6-9c33cc4ffc21"
      },
      "execution_count": null,
      "outputs": [
        {
          "output_type": "stream",
          "name": "stdout",
          "text": [
            "(768, 4) (768,)\n"
          ]
        },
        {
          "output_type": "execute_result",
          "data": {
            "text/plain": [
              "((537, 4), (537,), (231, 4), (231,))"
            ]
          },
          "metadata": {},
          "execution_count": 19
        }
      ]
    },
    {
      "cell_type": "markdown",
      "source": [
        "#ΕΡΩΤΗΜΑ 2"
      ],
      "metadata": {
        "id": "VaVbLctkgP3L"
      }
    },
    {
      "cell_type": "code",
      "source": [
        "model = LinearRegression()\n",
        "model.fit(x_train, y_train)\n",
        "y_pred = model.predict(x_val)\n",
        "\n",
        "mse = mean_squared_error(y_val, y_pred)\n",
        "mae = mean_absolute_error(y_val, y_pred)\n",
        "\n",
        "print(f'Mean Squared Error (MSE): {mse:.2f}')\n",
        "print(f'Mean Absolute Error (MAE): {mae:.2f}')"
      ],
      "metadata": {
        "colab": {
          "base_uri": "https://localhost:8080/"
        },
        "id": "g4jNgkpjgRyC",
        "outputId": "d34a38f6-a52d-4afb-996d-c26ad2319d1b"
      },
      "execution_count": null,
      "outputs": [
        {
          "output_type": "stream",
          "name": "stdout",
          "text": [
            "Mean Squared Error (MSE): 929.89\n",
            "Mean Absolute Error (MAE): 23.60\n"
          ]
        }
      ]
    },
    {
      "cell_type": "markdown",
      "source": [
        "Το MAE χρησιμοποιεί απόλυτη τιμή, οπότε έχει μεγαλύτερη ανθεκτικότητα σε outliers, ενώ το MSE λόγω των τετραγώνων, είναι πιο ευαισθητο σε σημαντικά λάθη, καθώς μεγαλώνει τις τιμές τους ακόμα περισσότερο. Γενικά όσο πιο χαμηλές οι τιμές των MSE, MAE τόσο καλύτερα προβλέπει το μοντέλο. Από τις δύο, χαμηλότερη είναι το MAE. Εφόσον στα δεδομένα, παρατηρούνται αρκετά outliers και σημεία με υψήλοτερη σχνότητα εμφάνισης από αλλα, το MAE φαίνεται να είναι καλύτερη επιλογή."
      ],
      "metadata": {
        "id": "cSECnVT0iHhC"
      }
    },
    {
      "cell_type": "markdown",
      "source": [
        "#ΕΡΩΤΗΜΑ 3"
      ],
      "metadata": {
        "id": "RuIfaRaCkB6N"
      }
    },
    {
      "cell_type": "code",
      "source": [
        "# Δημιουργία μοντέλου\n",
        "clf = linear_model.Lasso(alpha=0.1)\n",
        "\n",
        "# Εκπαίδευση\n",
        "clf.fit(x_train, y_train)\n",
        "\n",
        "# Πρόβλεψη\n",
        "y_pred = clf.predict(x_val)\n",
        "\n",
        "# Αξιολόγηση\n",
        "mse = mean_squared_error(y_val, y_pred)\n",
        "mae = mean_absolute_error(y_val, y_pred)\n",
        "\n",
        "alphas=[0.2, 0.4, 0.6, 0.8, 1.0]\n",
        "metrics=[]\n",
        "\n",
        "for a in alphas:\n",
        "  clf = linear_model.Lasso(alpha=a)\n",
        "  clf.fit(x_train, y_train)\n",
        "  y_pred = clf.predict(x_val)\n",
        "  mae = mean_absolute_error(y_val, y_pred)\n",
        "  metrics.append({'Alpha':a, 'MAE':mae})\n",
        "\n",
        "\n",
        "metrics_f = pd.DataFrame(metrics)\n",
        "print(metrics_f)"
      ],
      "metadata": {
        "colab": {
          "base_uri": "https://localhost:8080/"
        },
        "id": "W3NjANaGlOkI",
        "outputId": "b5919724-2b2c-406c-98a3-e5f9b2cf41b7"
      },
      "execution_count": null,
      "outputs": [
        {
          "output_type": "stream",
          "name": "stdout",
          "text": [
            "   Alpha        MAE\n",
            "0    0.2  23.594203\n",
            "1    0.4  23.588415\n",
            "2    0.6  23.582629\n",
            "3    0.8  23.576843\n",
            "4    1.0  23.571058\n"
          ]
        }
      ]
    },
    {
      "cell_type": "markdown",
      "source": [
        "#ΕΡΩΤΗΜΑ 4"
      ],
      "metadata": {
        "id": "Db9szo4Jm7I2"
      }
    },
    {
      "cell_type": "code",
      "source": [
        "seed = 0\n",
        "test_size = 0.3\n",
        "feature_names = ['Pregnancies', 'BloodPressure', 'BMI', 'Age']\n",
        "x_train, x_val, y_train, y_val = train_test_split(x, y, test_size=test_size, random_state=seed)\n",
        "\n",
        "# Κανονικοποίηση\n",
        "scaler = MinMaxScaler()\n",
        "x_train_scaled = scaler.fit_transform(x_train)\n",
        "x_val_scaled = scaler.transform(x_val)\n",
        "\n",
        "model = LinearRegression()\n",
        "model.fit(x_train_scaled, y_train)\n",
        "y_pred = model.predict(x_val_scaled)\n",
        "\n",
        "coeffs = model.coef_\n",
        "importance_weights = np.abs(coeffs)\n",
        "plt.barh(feature_names, importance_weights)\n",
        "plt.title('Linear Regression Feature Weights')\n",
        "plt.xlabel('Weight Magnitude')\n",
        "plt.ylabel('Features')\n",
        "plt.show()\n"
      ],
      "metadata": {
        "colab": {
          "base_uri": "https://localhost:8080/",
          "height": 472
        },
        "id": "y-rragBnm86U",
        "outputId": "d78e6c5b-dc82-4d45-886c-5b783e3a9c1a"
      },
      "execution_count": null,
      "outputs": [
        {
          "output_type": "display_data",
          "data": {
            "text/plain": [
              "<Figure size 640x480 with 1 Axes>"
            ],
            "image/png": "[encoded data removed]"
          },
          "metadata": {}
        }
      ]
    },
    {
      "cell_type": "markdown",
      "source": [
        "Λιγότερο σημαντικός φαίνεται να είναι ο δείκτης Pregnancies, καθώς έχει τη μικρότερη τιμή."
      ],
      "metadata": {
        "id": "Qo0JHF7EpVKO"
      }
    },
    {
      "cell_type": "markdown",
      "source": [
        "Αφαίρεση του χαρακτηριστικού Pregnancies"
      ],
      "metadata": {
        "id": "MeXG0yJTphVR"
      }
    },
    {
      "cell_type": "code",
      "source": [
        "x = df[['BloodPressure', 'BMI', 'Age']].to_numpy()\n",
        "y = targets_df.to_numpy()\n",
        "print(x.shape, y.shape)\n",
        "\n",
        "seed = 0\n",
        "test_size = 0.3\n",
        "\n",
        "x_train, x_val, y_train, y_val = train_test_split(x, y, test_size=test_size, random_state=seed)\n",
        "x_train.shape, y_train.shape, x_val.shape, y_val.shape\n",
        "\n",
        "model = LinearRegression()\n",
        "model.fit(x_train, y_train)\n",
        "y_pred = model.predict(x_val)\n",
        "\n",
        "mse = mean_squared_error(y_val, y_pred)\n",
        "mae = mean_absolute_error(y_val, y_pred)\n",
        "\n",
        "print(f'Mean Squared Error (MSE): {mse:.2f}')\n",
        "print(f'Mean Absolute Error (MAE): {mae:.2f}')"
      ],
      "metadata": {
        "colab": {
          "base_uri": "https://localhost:8080/"
        },
        "id": "YelQGsfFpgBs",
        "outputId": "97c61647-30a1-4ea6-f241-efcff82a3a90"
      },
      "execution_count": null,
      "outputs": [
        {
          "output_type": "stream",
          "name": "stdout",
          "text": [
            "(768, 3) (768,)\n",
            "Mean Squared Error (MSE): 930.40\n",
            "Mean Absolute Error (MAE): 23.59\n"
          ]
        }
      ]
    },
    {
      "cell_type": "markdown",
      "source": [
        "Στο ερώτημα 2 το μοντέλο έδωσε MSE: 929.89 , MAE:23.60 και τώρα χωρίς τη μεταβλητή έδωσε MSE:930.40, MAE: 23.59. Παρατηροείται ότι στο MAE η διαφορά είναι πολύ μικρή, ενώ στο MSE είναι λίγο μεγαλύτερη ( 0.51). Και στις δύο περιπτώσεις πάντως η διαφορά δεν ήταν ιδιαίτερα σημαντικη. Το συγκεκριμένο χαρακτηριστικό δηλαδή δεν φαίνεται να έχει σημαντική συνεισφορά στην πρόβλεψη γλυκόζης και θα μπορούσε να αφαιρεθεί."
      ],
      "metadata": {
        "id": "RxJI7DU7qG1P"
      }
    }
  ]
}