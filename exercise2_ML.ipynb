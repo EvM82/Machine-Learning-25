{
  "nbformat": 4,
  "nbformat_minor": 0,
  "metadata": {
    "colab": {
      "provenance": [],
      "authorship_tag": "ABX9TyNPvVKgYNpEK2aDsMWxZMMS",
      "include_colab_link": true
    },
    "kernelspec": {
      "name": "python3",
      "display_name": "Python 3"
    },
    "language_info": {
      "name": "python"
    }
  },
  "cells": [
    {
      "cell_type": "markdown",
      "metadata": {
        "id": "view-in-github",
        "colab_type": "text"
      },
      "source": [
        "<a href=\"https://colab.research.google.com/github/EvM82/Machine-Learning-25/blob/main/exercise2_ML.ipynb\" target=\"_parent\"><img src=\"https://colab.research.google.com/assets/colab-badge.svg\" alt=\"Open In Colab\"/></a>"
      ]
    },
    {
      "cell_type": "code",
      "source": [
        "import kagglehub\n",
        "import pandas as pd\n",
        "import matplotlib.pyplot as plt\n",
        "import seaborn as sns\n",
        "import numpy as np\n",
        "from sklearn.model_selection import train_test_split\n",
        "from sklearn.tree import DecisionTreeClassifier\n",
        "from sklearn.metrics import accuracy_score, precision_score, recall_score, f1_score\n",
        "from itertools import product\n",
        "from sklearn import tree\n",
        "from sklearn.ensemble import RandomForestClassifier"
      ],
      "metadata": {
        "id": "pkdcIgWTS9mn"
      },
      "execution_count": 1,
      "outputs": []
    },
    {
      "cell_type": "code",
      "execution_count": 2,
      "metadata": {
        "id": "9LK9FLDNcjy7",
        "colab": {
          "base_uri": "https://localhost:8080/"
        },
        "outputId": "c0555b73-e375-4749-cff5-3b6cf9c30cf2"
      },
      "outputs": [
        {
          "output_type": "stream",
          "name": "stdout",
          "text": [
            "Downloading from https://www.kaggle.com/api/v1/datasets/download/adityakadiwal/water-potability?dataset_version_number=3...\n"
          ]
        },
        {
          "output_type": "stream",
          "name": "stderr",
          "text": [
            "100%|██████████| 251k/251k [00:00<00:00, 23.1MB/s]"
          ]
        },
        {
          "output_type": "stream",
          "name": "stdout",
          "text": [
            "Extracting files...\n",
            "Path to dataset files: /root/.cache/kagglehub/datasets/adityakadiwal/water-potability/versions/3\n"
          ]
        },
        {
          "output_type": "stream",
          "name": "stderr",
          "text": [
            "\n"
          ]
        }
      ],
      "source": [
        "#load the dataset (file path) from kaggle\n",
        "path = kagglehub.dataset_download(\"adityakadiwal/water-potability\")\n",
        "print(\"Path to dataset files:\", path)"
      ]
    },
    {
      "cell_type": "markdown",
      "source": [
        "## Ερώτημα 1"
      ],
      "metadata": {
        "id": "GjjH-pGla6G_"
      }
    },
    {
      "cell_type": "code",
      "source": [
        "df = pd.read_csv(f'{path}/water_potability.csv')\n",
        "print(df.head())\n",
        "print('\\n \\n ----Dataset description----\\n')\n",
        "print(df.describe())"
      ],
      "metadata": {
        "colab": {
          "base_uri": "https://localhost:8080/"
        },
        "id": "xLS5nUFlMUoH",
        "outputId": "a1529ebc-80cc-45cf-8cf4-5040f4bf1aca"
      },
      "execution_count": 3,
      "outputs": [
        {
          "output_type": "stream",
          "name": "stdout",
          "text": [
            "         ph    Hardness        Solids  Chloramines     Sulfate  Conductivity  \\\n",
            "0       NaN  204.890455  20791.318981     7.300212  368.516441    564.308654   \n",
            "1  3.716080  129.422921  18630.057858     6.635246         NaN    592.885359   \n",
            "2  8.099124  224.236259  19909.541732     9.275884         NaN    418.606213   \n",
            "3  8.316766  214.373394  22018.417441     8.059332  356.886136    363.266516   \n",
            "4  9.092223  181.101509  17978.986339     6.546600  310.135738    398.410813   \n",
            "\n",
            "   Organic_carbon  Trihalomethanes  Turbidity  Potability  \n",
            "0       10.379783        86.990970   2.963135           0  \n",
            "1       15.180013        56.329076   4.500656           0  \n",
            "2       16.868637        66.420093   3.055934           0  \n",
            "3       18.436524       100.341674   4.628771           0  \n",
            "4       11.558279        31.997993   4.075075           0  \n",
            "\n",
            " \n",
            " ----Dataset description----\n",
            "\n",
            "                ph     Hardness        Solids  Chloramines      Sulfate  \\\n",
            "count  2785.000000  3276.000000   3276.000000  3276.000000  2495.000000   \n",
            "mean      7.080795   196.369496  22014.092526     7.122277   333.775777   \n",
            "std       1.594320    32.879761   8768.570828     1.583085    41.416840   \n",
            "min       0.000000    47.432000    320.942611     0.352000   129.000000   \n",
            "25%       6.093092   176.850538  15666.690297     6.127421   307.699498   \n",
            "50%       7.036752   196.967627  20927.833607     7.130299   333.073546   \n",
            "75%       8.062066   216.667456  27332.762127     8.114887   359.950170   \n",
            "max      14.000000   323.124000  61227.196008    13.127000   481.030642   \n",
            "\n",
            "       Conductivity  Organic_carbon  Trihalomethanes    Turbidity   Potability  \n",
            "count   3276.000000     3276.000000      3114.000000  3276.000000  3276.000000  \n",
            "mean     426.205111       14.284970        66.396293     3.966786     0.390110  \n",
            "std       80.824064        3.308162        16.175008     0.780382     0.487849  \n",
            "min      181.483754        2.200000         0.738000     1.450000     0.000000  \n",
            "25%      365.734414       12.065801        55.844536     3.439711     0.000000  \n",
            "50%      421.884968       14.218338        66.622485     3.955028     0.000000  \n",
            "75%      481.792304       16.557652        77.337473     4.500320     1.000000  \n",
            "max      753.342620       28.300000       124.000000     6.739000     1.000000  \n"
          ]
        }
      ]
    },
    {
      "cell_type": "markdown",
      "source": [
        "Δημιουργία ιστοηγράμματος για καθε μεταβλητή, εκτός της 'Potability', το όνομα της οποίας αφαιρείται από τη λίστα ονομάτων με τις μεταβλητές που δίνω στην hist."
      ],
      "metadata": {
        "id": "mA_nJfSjOGUz"
      }
    },
    {
      "cell_type": "code",
      "source": [
        "clm=list(df.columns)\n",
        "clm.remove('Potability')\n",
        "df.hist(column=clm,figsize=(15, 10), bins=30)"
      ],
      "metadata": {
        "colab": {
          "base_uri": "https://localhost:8080/",
          "height": 1000
        },
        "id": "0-NTaGMDVd0c",
        "outputId": "0fdbb09b-40bd-4982-de9c-723be7fc14b5"
      },
      "execution_count": 4,
      "outputs": [
        {
          "output_type": "execute_result",
          "data": {
            "text/plain": [
              "array([[<Axes: title={'center': 'ph'}>,\n",
              "        <Axes: title={'center': 'Hardness'}>,\n",
              "        <Axes: title={'center': 'Solids'}>],\n",
              "       [<Axes: title={'center': 'Chloramines'}>,\n",
              "        <Axes: title={'center': 'Sulfate'}>,\n",
              "        <Axes: title={'center': 'Conductivity'}>],\n",
              "       [<Axes: title={'center': 'Organic_carbon'}>,\n",
              "        <Axes: title={'center': 'Trihalomethanes'}>,\n",
              "        <Axes: title={'center': 'Turbidity'}>]], dtype=object)"
            ]
          },
          "metadata": {},
          "execution_count": 4
        },
        {
          "output_type": "display_data",
          "data": {
            "text/plain": [
              "<Figure size 1500x1000 with 9 Axes>"
            ],
            "image/png": "[encoded data removed]"
          },
          "metadata": {}
        }
      ]
    },
    {
      "cell_type": "markdown",
      "source": [
        "Δημιουργία ραβδόγραμματος για τη 'Potability'."
      ],
      "metadata": {
        "id": "ZBMRug_DasvG"
      }
    },
    {
      "cell_type": "code",
      "source": [
        "plt.bar(df['Potability'].value_counts().index, df['Potability'].value_counts().values, width=0.1)\n",
        "plt.title('Potability Bar Plot')\n",
        "plt.xlabel('Potability')\n",
        "plt.ylabel('Counts')\n",
        "plt.show()"
      ],
      "metadata": {
        "colab": {
          "base_uri": "https://localhost:8080/",
          "height": 472
        },
        "id": "I4DZQnRzXMTs",
        "outputId": "96a941ae-79dd-4740-db26-7346676134d2"
      },
      "execution_count": 5,
      "outputs": [
        {
          "output_type": "display_data",
          "data": {
            "text/plain": [
              "<Figure size 640x480 with 1 Axes>"
            ],
            "image/png": "[encoded data removed]"
          },
          "metadata": {}
        }
      ]
    },
    {
      "cell_type": "markdown",
      "source": [
        "Όπως παρατηρώ από το outcome της describe, στο count οι μεταβλητές δεν έχουν το ίδο πλήθος τιμών, κάτι που αποτελέι ένδειξη ότι υπάρχουν ελλιπείς τιμές στα χαρακτηριστικά. Συγκεκριμένα όλες εκτός από τις ph, Sulfate, Trihalomethanes έχουν count=3276."
      ],
      "metadata": {
        "id": "D2X6segpbLQo"
      }
    },
    {
      "cell_type": "markdown",
      "source": [
        "Εύρεση πλήθους ελλιπών τιμών. Παρατηρώ ότι τα ph,Sulfate,Trihalomethanes δίνουν ελλιπείς τιμές."
      ],
      "metadata": {
        "id": "nxSgARRbcH4O"
      }
    },
    {
      "cell_type": "code",
      "source": [
        "print(df.isnull().sum())"
      ],
      "metadata": {
        "colab": {
          "base_uri": "https://localhost:8080/"
        },
        "id": "PsbCTB_ScRV4",
        "outputId": "1ff85094-a858-45d2-e634-15c644df9ea0"
      },
      "execution_count": 6,
      "outputs": [
        {
          "output_type": "stream",
          "name": "stdout",
          "text": [
            "ph                 491\n",
            "Hardness             0\n",
            "Solids               0\n",
            "Chloramines          0\n",
            "Sulfate            781\n",
            "Conductivity         0\n",
            "Organic_carbon       0\n",
            "Trihalomethanes    162\n",
            "Turbidity            0\n",
            "Potability           0\n",
            "dtype: int64\n"
          ]
        }
      ]
    },
    {
      "cell_type": "markdown",
      "source": [
        "Ποσοστά πόσιμου και μη πόσιμου νερού. <br> <br> Η συννάρτηση υπολογίζει το ποσοστό παίρνοντας ως arguments το συνολικό πλήθος παραδειγμάτων και το πλήθος των δειγμάτων το ποσοστό των οποίων θέλω να βρω. Τα l1, l2 είναι το πλήθος των δειγμάτων που έχουν 'Potability' τιμή 0 ή 1 αντίστοιχα (0 μη πόσιμο και 1 πόσιμο). Εναλλακτικά μπορούσε να χρησιμοποιηθεί η value.counts() για τη μεταβλητή 'Potability'. Στην αρχή, τυπώνονται οι μοναδικές τιμές της μεταβλητής για εξακρύβωση ότι πρόκειται για δυαδική τιμή."
      ],
      "metadata": {
        "id": "mp7sJ27ndSq3"
      }
    },
    {
      "cell_type": "code",
      "source": [
        "def find_perc(len,len_total):\n",
        "  x=(len*100)/len_total\n",
        "  return x\n",
        "\n",
        "print('Unique values in Potability: ', df['Potability'].unique())\n",
        "\n",
        "\n",
        "l1=(df['Potability'] == 0).sum()\n",
        "l2=(df['Potability'] == 1).sum()\n",
        "p1=find_perc(l1,len(df))\n",
        "p2=find_perc(l2,len(df))\n",
        "print(f'The percentage of potable is {p2:.2f}% and of non potable {p1:.2f}%')"
      ],
      "metadata": {
        "colab": {
          "base_uri": "https://localhost:8080/"
        },
        "id": "aaFiaF8ndZko",
        "outputId": "e87231c3-f7b9-4d75-f66e-2188288a56bd"
      },
      "execution_count": 7,
      "outputs": [
        {
          "output_type": "stream",
          "name": "stdout",
          "text": [
            "Unique values in Potability:  [0 1]\n",
            "The percentage of potable is 39.01% and of non potable 60.99%\n"
          ]
        }
      ]
    },
    {
      "cell_type": "markdown",
      "source": [
        "Στα δεδομένα, από τα ιστογράμματα των χαρακτηριστικών φαίνεται ότι όλες οι μεταβλητές ακολουθούν ή προσεγγίζουν (πχ  Chloramines, Sulfate, Condactivity) την κανονική κατανομή, κάτι το οποίο διευκολύνει την διαχείριση των δεδομένων και την πρόβλεψη του μοντέλου που θα χρησιμοποιηθεί. Επίσης, ο διαχωρισμός των κλάσεων είναι 40 με 60 που σημαίνει ότι δεν υπάρχει έντονη ανομοιομορφία και οι δύο κλάσεις είναι σχετικά ισορροπημένες, οπότε δεν θα δημιουργείται πρόβλημα στο μοντέλου εφόσον θα έχει αρκετά δείγματα και για τις δύο κατηγορίες προς διαχωρισμό και δεν θα μεροληπτεί υπέρ κάποιας. Παρατηρείται ότι υπάρχουν ελλιπείς τιμές, οι οποίες όμως είναι λίγες συγκριτικά με το συνολικό πλήθος των δειγμάτων (από τις 3276 γραμμές(δείγματα) που περιέχονται σε κάθε μεταβλητή, οι περισσότερες ελλιπείς τιμές που υπάρχουν σε μία  μεταβλητή είναι 781), ενώ μόνο 3 από τις 10 μεταβλητές έχουν ελλιπείς τιμές. Τέλος, εφόσον το πλήθος των ελλιπών τιμών δεν είναι μεγάλο, αν χρησιμοποιηθούν αλγόριθμοι όπως τα δέντρα αυτό δεν αναμένεται να δημιουργήσουν μεγάλο πρόβλημα, καθώς υπάρχουν τρόποι διαχείρισής τους.Επόμενως η ποιότητα των δεδομένων είναι ικανοποιητική."
      ],
      "metadata": {
        "id": "M47qkJgwlUSh"
      }
    },
    {
      "cell_type": "markdown",
      "source": [
        "## Ερώτημα 2"
      ],
      "metadata": {
        "id": "G1rjScTHtZ4O"
      }
    },
    {
      "cell_type": "markdown",
      "source": [
        "Παρακάτω χωρίζονται τα δεδομένα βάση της τιμής pH που έχουν και μετριέται το πλήθος πόσιμων και μη πόσιμων δειγμάτων για κάθε κατηγορία ( groupby('Potability').size() )"
      ],
      "metadata": {
        "id": "cRJo9vCmTpok"
      }
    },
    {
      "cell_type": "code",
      "source": [
        "df_pt=df[['Potability', 'ph']]\n",
        "\n",
        "filtered = df_pt[df_pt['ph'] < 6.5]\n",
        "s1 = filtered.groupby('Potability').size()\n",
        "s1_0=s1[0]\n",
        "s1_1=s1[1]\n",
        "\n",
        "filtered = df_pt[(df_pt['ph'] >= 6.5) & (df_pt['ph'] <= 8.5)]\n",
        "s2 = filtered.groupby('Potability').size()\n",
        "s2_0=s2[0]\n",
        "s2_1=s2[1]\n",
        "\n",
        "filtered = df_pt[df_pt['ph'] > 8.5]\n",
        "s3 = filtered.groupby('Potability').size()\n",
        "s3_0=s3[0]\n",
        "s3_1=s3[1]\n",
        "\n",
        "print(f'{s1},{s2},{s3}')\n",
        "print('\\nCounts in s1,s2,s3: ', s1.sum() + s2.sum() + s3.sum(),'Length of dataframe: ',len(df_pt))\n",
        "#print('Counts in s1,s2,s3 for check: ', s1_0 + s1_1 + s2_0 + s2_1 + s3_0 + s3_1)\n"
      ],
      "metadata": {
        "colab": {
          "base_uri": "https://localhost:8080/"
        },
        "id": "EFQMeARYtbmm",
        "outputId": "2e4d4e1f-bff8-4494-dece-3d250b88e568"
      },
      "execution_count": 8,
      "outputs": [
        {
          "output_type": "stream",
          "name": "stdout",
          "text": [
            "Potability\n",
            "0    612\n",
            "1    356\n",
            "dtype: int64,Potability\n",
            "0    745\n",
            "1    583\n",
            "dtype: int64,Potability\n",
            "0    327\n",
            "1    162\n",
            "dtype: int64\n",
            "\n",
            "Counts in s1,s2,s3:  2785 Length of dataframe:  3276\n"
          ]
        }
      ]
    },
    {
      "cell_type": "markdown",
      "source": [
        "Υπάρχει διαφορά στο μήκος (3276 και 2785) γιατί το ph όπως είδαμε παραπάνω έχει ελλιπείς 491 τιμές (3276-2785=491)."
      ],
      "metadata": {
        "id": "U-BVG0XB0_uS"
      }
    },
    {
      "cell_type": "markdown",
      "source": [
        "Ποσοστά για κάθε κατηγορία χρησιμοποιώντας τη συνάρτηση find_perc που ορίστηκε παραπάνω."
      ],
      "metadata": {
        "id": "IPne6hDo2v7O"
      }
    },
    {
      "cell_type": "code",
      "source": [
        "#percentage for each category for potable ('Potable'=1)\n",
        "s_total=s1_1 + s2_1 + s3_1\n",
        "p4=find_perc(s1_1,s_total)\n",
        "p5=find_perc(s2_1,s_total)\n",
        "p6=find_perc(s3_1,s_total)\n",
        "print(f'Potable. The percentage of ph<6.5 is {p4:.2f}%, of 6.5<=ph<=8.5 is {p5:.2f}% and of ph>8.5 {p6:.2f}%')\n",
        "\n",
        "#percentage for each category for non potable ('Potable'=0)\n",
        "s_total=s1_0 + s2_0 + s3_0\n",
        "p7=find_perc(s1_0,s_total)\n",
        "p8=find_perc(s2_0,s_total)\n",
        "p9=find_perc(s3_0,s_total)\n",
        "print(f'Non Potable. The percentage of ph<6.5 is {p7:.2f}%, of 6.5<=ph<=8.5 is {p8:.2f}% and of ph>8.5 {p9:.2f}%')\n",
        "\n",
        "print('\\nChecking- the total percentages for each (portable and non portable must give 100) ',p4+p5+p6, 'and ', p7+p8+p9)"
      ],
      "metadata": {
        "colab": {
          "base_uri": "https://localhost:8080/"
        },
        "id": "NNVmf5AG2vq5",
        "outputId": "e35c626f-086b-437d-d6a5-9da5831f1dda"
      },
      "execution_count": 9,
      "outputs": [
        {
          "output_type": "stream",
          "name": "stdout",
          "text": [
            "Potable. The percentage of ph<6.5 is 32.33%, of 6.5<=ph<=8.5 is 52.95% and of ph>8.5 14.71%\n",
            "Non Potable. The percentage of ph<6.5 is 36.34%, of 6.5<=ph<=8.5 is 44.24% and of ph>8.5 19.42%\n",
            "\n",
            "Checking- the total percentages for each (portable and non portable must give 100)  100.0 and  100.0\n"
          ]
        }
      ]
    },
    {
      "cell_type": "markdown",
      "source": [
        "Παρακάτω παρουσιάζεται ραβδόγραμμα για τα πόσιμα και για τα μη πόσιμα με το πλήθος τους σε κάθε διάστημα για ευκολότερη ανάλυση. Τα ποσοστά που υπολογίζονται και τυπώνονται (πάνω) είναι ως προς το πλήθος των πόσιμων και μη πόσιμων αντίστοιχα. Δηλαδή για παράδειγμα, πόσα από τα πόσιμα δείγματα ανήκουν στην κατηγορία PH μικρότερο του 6.5 και ούτω καθεξής. Ενώ στο ραβδόγραμμα τυπώνονται οι τιμές σχετικά με το πλήθος όλων των δειγμάτων πόσιμων και μη πόσιμων που υπάρχουν στα δεδομένα. Δηλαδή για παράδειγμα περίπου 600 από όλα τα δείγματα των δεδομένων είναι μη πόσιμα με PH<6.5.\n",
        "<br>Παρατηρείται (από ραβδόγραμμα αλλά και από τα εκτυπωμένα ποσοστά) ότι για PH μικρότερο του 6.5 η πλειοψηφία των δειγμάτων είναι μη πόσιμα (σχεδόν τα διπλάσια από τα πόσιμα), για PH>8.5 επίσης τα περισσότερα δείγματα που βρίσκονται σε αυτό το εύρος είναι μη πόσιμα (πάλι σχεδόν τα διπλάσια είναι μη πόσιμα από ότι πόσιμα). Στην περίπτωση του εύρους 6.5 με 8.5 τα πόσιμα είναι περισσότερα από ό,τι στα άλλα εύρη αλλά το πλήθος μη πόσιμων είναι περισσότερο αν και η διαφορά τους δεν είναι τόσο έντονη. Αν λάβουμε υπόψιν και ότι συνολικά ο αριθμός των μη πόσιμων είναι μεγαλύτερος από αυτόν των πόσιμων (60-40)και άρα υπάρχουν περισσότερα δείγματα για αυτήν την κατηγορία, τα αποτελέσματα πιθανώς να σημαίνουν ότι όντως το πιο κατάλληλο PH είναι μεταξύ 6.5 και 8.5 αλλά αυτό δεν μπορεί να αποτελέσει μοναδικό κριτήριο, καθώς αρκετά μη πόσιμα δείγματα εμπίπτουν κι αυτά σε αυτό το εύρος και θα έπρεπε να εξεταστούν κι άλλες παράμετροι για τον χαρακτηρισμό ενός δείγματος ως πόσιμου ή μη."
      ],
      "metadata": {
        "id": "8SXb4-WT66mW"
      }
    },
    {
      "cell_type": "code",
      "source": [
        "\n",
        "labels = ['pH < 6.5', '6.5 ≤ pH ≤ 8.5', 'pH > 8.5']\n",
        "potable = [s1_1, s2_1, s3_1]\n",
        "non_potable = [s1_0, s2_0, s3_0]\n",
        "\n",
        "\n",
        "x = range(len(labels))\n",
        "\n",
        "plt.bar(x, potable, width=0.4, label='Potable', align='center')\n",
        "plt.bar([i + 0.4 for i in x], non_potable, width=0.4, label='Non Potable', align='center')\n",
        "\n",
        "plt.xticks([i + 0.2 for i in x], labels)\n",
        "plt.ylabel('Counts')\n",
        "plt.title('Ranges based on PH')\n",
        "plt.legend()\n",
        "plt.tight_layout()\n",
        "plt.show()\n"
      ],
      "metadata": {
        "colab": {
          "base_uri": "https://localhost:8080/",
          "height": 487
        },
        "id": "05LuEXVO6P94",
        "outputId": "9e8ec7d2-a7dd-4d13-f44c-ca637ef639f8"
      },
      "execution_count": 10,
      "outputs": [
        {
          "output_type": "display_data",
          "data": {
            "text/plain": [
              "<Figure size 640x480 with 1 Axes>"
            ],
            "image/png": "[encoded data removed]"
          },
          "metadata": {}
        }
      ]
    },
    {
      "cell_type": "markdown",
      "source": [
        "## Ερώτημα 3"
      ],
      "metadata": {
        "id": "EnROpCs8bBw5"
      }
    },
    {
      "cell_type": "markdown",
      "source": [
        "Από το scatter plot τα δείγματα των ποσιμων και των μη πόσιμων φαίνεται να μην είναι ξεχωριστά αλλά αναμειγμένα στο διάγραμμα (επικαλύπτονται). Οπότε δεν φαίνεται κάποια συσχέτιση ως προς τα επίπεδα επίπεδα χλωραμίνης πέρα του ότι γενικότερα όλα τα δείγματα εινια συγκεντρωμένα στην περιοχή με επίπεδα χλωραμίνης περίπου 4-11 και pH επίσης περίπου 4-11. Αυτό μπορεί να σημαίνει ότι όπως και με το pH, τα επίπεδα χλωραμίνης δεν αρκούν από μόνα τους για τον χαρακτηρισμό ενός δείγματος ως πόσιμο ή μη πόσιμο, δηλαδή δεν αρκόυν για τον διχωρισμό των δεδομένων σε πόσιμα και μη."
      ],
      "metadata": {
        "id": "jMIWdTq6fWjm"
      }
    },
    {
      "cell_type": "code",
      "source": [
        "sns.scatterplot(data=df, x='ph', y='Chloramines', hue='Potability', palette={1:'blue', 0:'red'})"
      ],
      "metadata": {
        "colab": {
          "base_uri": "https://localhost:8080/",
          "height": 467
        },
        "id": "6-m4ZPiMbPAB",
        "outputId": "d3e417ad-4723-4ae1-a557-fd30aa13e499"
      },
      "execution_count": 11,
      "outputs": [
        {
          "output_type": "execute_result",
          "data": {
            "text/plain": [
              "<Axes: xlabel='ph', ylabel='Chloramines'>"
            ]
          },
          "metadata": {},
          "execution_count": 11
        },
        {
          "output_type": "display_data",
          "data": {
            "text/plain": [
              "<Figure size 640x480 with 1 Axes>"
            ],
            "image/png": "[encoded data removed]"
          },
          "metadata": {}
        }
      ]
    },
    {
      "cell_type": "markdown",
      "source": [
        "## Ερώτημα 4"
      ],
      "metadata": {
        "id": "kkdervpWi04n"
      }
    },
    {
      "cell_type": "markdown",
      "source": [
        "Από το ερώτημα 1 γνωρίζουμε ότι κενές τιμές έχουν οι μεταβλητές Trihalomethanes ph και Sulfate. Επομένως οι κενές τιμές των μεταβλητών αυτών γεμίστηκαν βάση της τιμής Potability της ομάδας που ανήκουν, βάση  μέσου όρου.\n",
        "Ο κώδικας θα χωρίσει τα δεδομένα βάση της τιμής στο 'Potability' και στις στήλες 'Trihalomethanes', 'ph', 'Sulfate' (βάση της τιμής col κάθε φορά) θα υπολογίσει τον μέσο όρο για κάθε μία από τις 2 κατηγορίες (πόσιμο και μη πόσιμο). Τις κενές τιμές των τριών αυτών στηλών που υπάρχουν θα τις συμπληρώσει βάση του σε ποια κατηγορία ανήκουν με τον μέσο όρο. Χρησιμοποιείται το transform, οπότε το dataframe που θα επιστραφεί θα έχει ίδιο αριθμό στηλών με το αρχικό, απλά θα έχει γίνει η αλλαγή των κενών τιμών με τον αντίστοιχο μέσο όρο."
      ],
      "metadata": {
        "id": "jtUUF6Poi3NG"
      }
    },
    {
      "cell_type": "code",
      "source": [
        "for col in ['Trihalomethanes', 'ph', 'Sulfate']:\n",
        "    df[col] = df.groupby('Potability')[col].transform(lambda x: x.fillna(x.mean()))\n"
      ],
      "metadata": {
        "id": "SKKEBa3ml2Fd"
      },
      "execution_count": 12,
      "outputs": []
    },
    {
      "cell_type": "markdown",
      "source": [
        "Έλγχος ότι πλέον δεν υπάρχουν κενές τιμές στα δεδομένα."
      ],
      "metadata": {
        "id": "WE-oAwbJoIG3"
      }
    },
    {
      "cell_type": "code",
      "source": [
        "print(df.isnull().sum())"
      ],
      "metadata": {
        "colab": {
          "base_uri": "https://localhost:8080/"
        },
        "id": "B5pGJoeVoG_F",
        "outputId": "3d258ef7-60c8-4f7c-eca6-18868218f8db"
      },
      "execution_count": 13,
      "outputs": [
        {
          "output_type": "stream",
          "name": "stdout",
          "text": [
            "ph                 0\n",
            "Hardness           0\n",
            "Solids             0\n",
            "Chloramines        0\n",
            "Sulfate            0\n",
            "Conductivity       0\n",
            "Organic_carbon     0\n",
            "Trihalomethanes    0\n",
            "Turbidity          0\n",
            "Potability         0\n",
            "dtype: int64\n"
          ]
        }
      ]
    },
    {
      "cell_type": "markdown",
      "source": [
        "## Ερώτημα 5"
      ],
      "metadata": {
        "id": "Poa2gWwZoPV_"
      }
    },
    {
      "cell_type": "markdown",
      "source": [
        "Δημιουργία των x(inputs) και y(target)."
      ],
      "metadata": {
        "id": "FaAFJd_Ks_Yg"
      }
    },
    {
      "cell_type": "code",
      "source": [
        "input_df = df.drop(columns=['Potability'])\n",
        "targets_df = df['Potability']\n",
        "\n",
        "x = input_df.to_numpy()\n",
        "y = targets_df.to_numpy()\n",
        "x.shape, y.shape"
      ],
      "metadata": {
        "colab": {
          "base_uri": "https://localhost:8080/"
        },
        "id": "mzQOtMz_oROO",
        "outputId": "bf97d043-8da1-4cbd-c369-cf06bed4ccda"
      },
      "execution_count": 14,
      "outputs": [
        {
          "output_type": "execute_result",
          "data": {
            "text/plain": [
              "((3276, 9), (3276,))"
            ]
          },
          "metadata": {},
          "execution_count": 14
        }
      ]
    },
    {
      "cell_type": "markdown",
      "source": [
        "Διαχωρισμός δεδομένων σε train-test με ποσοστό 70-30 και random seed:0."
      ],
      "metadata": {
        "id": "5tkTRIO5tGmr"
      }
    },
    {
      "cell_type": "code",
      "source": [
        "seed = 0\n",
        "test_size = 0.3\n",
        "\n",
        "x_train, x_test, y_train, y_test = train_test_split(x, y, test_size=test_size, random_state=seed)\n",
        "x_train.shape, y_train.shape, x_test.shape, y_test.shape"
      ],
      "metadata": {
        "colab": {
          "base_uri": "https://localhost:8080/"
        },
        "id": "VSdNybYQsojQ",
        "outputId": "870eb38b-bd24-49ec-a71a-5b4197a36a2f"
      },
      "execution_count": 15,
      "outputs": [
        {
          "output_type": "execute_result",
          "data": {
            "text/plain": [
              "((2293, 9), (2293,), (983, 9), (983,))"
            ]
          },
          "metadata": {},
          "execution_count": 15
        }
      ]
    },
    {
      "cell_type": "markdown",
      "source": [
        "## Ερώτημα 6"
      ],
      "metadata": {
        "id": "GheCCCkZtlfl"
      }
    },
    {
      "cell_type": "code",
      "source": [
        "clf = DecisionTreeClassifier()\n",
        "clf.fit(x_train, y_train)"
      ],
      "metadata": {
        "colab": {
          "base_uri": "https://localhost:8080/",
          "height": 80
        },
        "id": "Wix7sAa_tnnN",
        "outputId": "f1e73324-9a61-49ec-e827-d76bc47b743c"
      },
      "execution_count": 16,
      "outputs": [
        {
          "output_type": "execute_result",
          "data": {
            "text/plain": [
              "DecisionTreeClassifier()"
            ],
            "text/html": [
              "<style>#sk-container-id-1 {\n",
              "  /* Definition of color scheme common for light and dark mode */\n",
              "  --sklearn-color-text: #000;\n",
              "  --sklearn-color-text-muted: #666;\n",
              "  --sklearn-color-line: gray;\n",
              "  /* Definition of color scheme for unfitted estimators */\n",
              "  --sklearn-color-unfitted-level-0: #fff5e6;\n",
              "  --sklearn-color-unfitted-level-1: #f6e4d2;\n",
              "  --sklearn-color-unfitted-level-2: #ffe0b3;\n",
              "  --sklearn-color-unfitted-level-3: chocolate;\n",
              "  /* Definition of color scheme for fitted estimators */\n",
              "  --sklearn-color-fitted-level-0: #f0f8ff;\n",
              "  --sklearn-color-fitted-level-1: #d4ebff;\n",
              "  --sklearn-color-fitted-level-2: #b3dbfd;\n",
              "  --sklearn-color-fitted-level-3: cornflowerblue;\n",
              "\n",
              "  /* Specific color for light theme */\n",
              "  --sklearn-color-text-on-default-background: var(--sg-text-color, var(--theme-code-foreground, var(--jp-content-font-color1, black)));\n",
              "  --sklearn-color-background: var(--sg-background-color, var(--theme-background, var(--jp-layout-color0, white)));\n",
              "  --sklearn-color-border-box: var(--sg-text-color, var(--theme-code-foreground, var(--jp-content-font-color1, black)));\n",
              "  --sklearn-color-icon: #696969;\n",
              "\n",
              "  @media (prefers-color-scheme: dark) {\n",
              "    /* Redefinition of color scheme for dark theme */\n",
              "    --sklearn-color-text-on-default-background: var(--sg-text-color, var(--theme-code-foreground, var(--jp-content-font-color1, white)));\n",
              "    --sklearn-color-background: var(--sg-background-color, var(--theme-background, var(--jp-layout-color0, #111)));\n",
              "    --sklearn-color-border-box: var(--sg-text-color, var(--theme-code-foreground, var(--jp-content-font-color1, white)));\n",
              "    --sklearn-color-icon: #878787;\n",
              "  }\n",
              "}\n",
              "\n",
              "#sk-container-id-1 {\n",
              "  color: var(--sklearn-color-text);\n",
              "}\n",
              "\n",
              "#sk-container-id-1 pre {\n",
              "  padding: 0;\n",
              "}\n",
              "\n",
              "#sk-container-id-1 input.sk-hidden--visually {\n",
              "  border: 0;\n",
              "  clip: rect(1px 1px 1px 1px);\n",
              "  clip: rect(1px, 1px, 1px, 1px);\n",
              "  height: 1px;\n",
              "  margin: -1px;\n",
              "  overflow: hidden;\n",
              "  padding: 0;\n",
              "  position: absolute;\n",
              "  width: 1px;\n",
              "}\n",
              "\n",
              "#sk-container-id-1 div.sk-dashed-wrapped {\n",
              "  border: 1px dashed var(--sklearn-color-line);\n",
              "  margin: 0 0.4em 0.5em 0.4em;\n",
              "  box-sizing: border-box;\n",
              "  padding-bottom: 0.4em;\n",
              "  background-color: var(--sklearn-color-background);\n",
              "}\n",
              "\n",
              "#sk-container-id-1 div.sk-container {\n",
              "  /* jupyter's `normalize.less` sets `[hidden] { display: none; }`\n",
              "     but bootstrap.min.css set `[hidden] { display: none !important; }`\n",
              "     so we also need the `!important` here to be able to override the\n",
              "     default hidden behavior on the sphinx rendered scikit-learn.org.\n",
              "     See: https://github.com/scikit-learn/scikit-learn/issues/21755 */\n",
              "  display: inline-block !important;\n",
              "  position: relative;\n",
              "}\n",
              "\n",
              "#sk-container-id-1 div.sk-text-repr-fallback {\n",
              "  display: none;\n",
              "}\n",
              "\n",
              "div.sk-parallel-item,\n",
              "div.sk-serial,\n",
              "div.sk-item {\n",
              "  /* draw centered vertical line to link estimators */\n",
              "  background-image: linear-gradient(var(--sklearn-color-text-on-default-background), var(--sklearn-color-text-on-default-background));\n",
              "  background-size: 2px 100%;\n",
              "  background-repeat: no-repeat;\n",
              "  background-position: center center;\n",
              "}\n",
              "\n",
              "/* Parallel-specific style estimator block */\n",
              "\n",
              "#sk-container-id-1 div.sk-parallel-item::after {\n",
              "  content: \"\";\n",
              "  width: 100%;\n",
              "  border-bottom: 2px solid var(--sklearn-color-text-on-default-background);\n",
              "  flex-grow: 1;\n",
              "}\n",
              "\n",
              "#sk-container-id-1 div.sk-parallel {\n",
              "  display: flex;\n",
              "  align-items: stretch;\n",
              "  justify-content: center;\n",
              "  background-color: var(--sklearn-color-background);\n",
              "  position: relative;\n",
              "}\n",
              "\n",
              "#sk-container-id-1 div.sk-parallel-item {\n",
              "  display: flex;\n",
              "  flex-direction: column;\n",
              "}\n",
              "\n",
              "#sk-container-id-1 div.sk-parallel-item:first-child::after {\n",
              "  align-self: flex-end;\n",
              "  width: 50%;\n",
              "}\n",
              "\n",
              "#sk-container-id-1 div.sk-parallel-item:last-child::after {\n",
              "  align-self: flex-start;\n",
              "  width: 50%;\n",
              "}\n",
              "\n",
              "#sk-container-id-1 div.sk-parallel-item:only-child::after {\n",
              "  width: 0;\n",
              "}\n",
              "\n",
              "/* Serial-specific style estimator block */\n",
              "\n",
              "#sk-container-id-1 div.sk-serial {\n",
              "  display: flex;\n",
              "  flex-direction: column;\n",
              "  align-items: center;\n",
              "  background-color: var(--sklearn-color-background);\n",
              "  padding-right: 1em;\n",
              "  padding-left: 1em;\n",
              "}\n",
              "\n",
              "\n",
              "/* Toggleable style: style used for estimator/Pipeline/ColumnTransformer box that is\n",
              "clickable and can be expanded/collapsed.\n",
              "- Pipeline and ColumnTransformer use this feature and define the default style\n",
              "- Estimators will overwrite some part of the style using the `sk-estimator` class\n",
              "*/\n",
              "\n",
              "/* Pipeline and ColumnTransformer style (default) */\n",
              "\n",
              "#sk-container-id-1 div.sk-toggleable {\n",
              "  /* Default theme specific background. It is overwritten whether we have a\n",
              "  specific estimator or a Pipeline/ColumnTransformer */\n",
              "  background-color: var(--sklearn-color-background);\n",
              "}\n",
              "\n",
              "/* Toggleable label */\n",
              "#sk-container-id-1 label.sk-toggleable__label {\n",
              "  cursor: pointer;\n",
              "  display: flex;\n",
              "  width: 100%;\n",
              "  margin-bottom: 0;\n",
              "  padding: 0.5em;\n",
              "  box-sizing: border-box;\n",
              "  text-align: center;\n",
              "  align-items: start;\n",
              "  justify-content: space-between;\n",
              "  gap: 0.5em;\n",
              "}\n",
              "\n",
              "#sk-container-id-1 label.sk-toggleable__label .caption {\n",
              "  font-size: 0.6rem;\n",
              "  font-weight: lighter;\n",
              "  color: var(--sklearn-color-text-muted);\n",
              "}\n",
              "\n",
              "#sk-container-id-1 label.sk-toggleable__label-arrow:before {\n",
              "  /* Arrow on the left of the label */\n",
              "  content: \"▸\";\n",
              "  float: left;\n",
              "  margin-right: 0.25em;\n",
              "  color: var(--sklearn-color-icon);\n",
              "}\n",
              "\n",
              "#sk-container-id-1 label.sk-toggleable__label-arrow:hover:before {\n",
              "  color: var(--sklearn-color-text);\n",
              "}\n",
              "\n",
              "/* Toggleable content - dropdown */\n",
              "\n",
              "#sk-container-id-1 div.sk-toggleable__content {\n",
              "  max-height: 0;\n",
              "  max-width: 0;\n",
              "  overflow: hidden;\n",
              "  text-align: left;\n",
              "  /* unfitted */\n",
              "  background-color: var(--sklearn-color-unfitted-level-0);\n",
              "}\n",
              "\n",
              "#sk-container-id-1 div.sk-toggleable__content.fitted {\n",
              "  /* fitted */\n",
              "  background-color: var(--sklearn-color-fitted-level-0);\n",
              "}\n",
              "\n",
              "#sk-container-id-1 div.sk-toggleable__content pre {\n",
              "  margin: 0.2em;\n",
              "  border-radius: 0.25em;\n",
              "  color: var(--sklearn-color-text);\n",
              "  /* unfitted */\n",
              "  background-color: var(--sklearn-color-unfitted-level-0);\n",
              "}\n",
              "\n",
              "#sk-container-id-1 div.sk-toggleable__content.fitted pre {\n",
              "  /* unfitted */\n",
              "  background-color: var(--sklearn-color-fitted-level-0);\n",
              "}\n",
              "\n",
              "#sk-container-id-1 input.sk-toggleable__control:checked~div.sk-toggleable__content {\n",
              "  /* Expand drop-down */\n",
              "  max-height: 200px;\n",
              "  max-width: 100%;\n",
              "  overflow: auto;\n",
              "}\n",
              "\n",
              "#sk-container-id-1 input.sk-toggleable__control:checked~label.sk-toggleable__label-arrow:before {\n",
              "  content: \"▾\";\n",
              "}\n",
              "\n",
              "/* Pipeline/ColumnTransformer-specific style */\n",
              "\n",
              "#sk-container-id-1 div.sk-label input.sk-toggleable__control:checked~label.sk-toggleable__label {\n",
              "  color: var(--sklearn-color-text);\n",
              "  background-color: var(--sklearn-color-unfitted-level-2);\n",
              "}\n",
              "\n",
              "#sk-container-id-1 div.sk-label.fitted input.sk-toggleable__control:checked~label.sk-toggleable__label {\n",
              "  background-color: var(--sklearn-color-fitted-level-2);\n",
              "}\n",
              "\n",
              "/* Estimator-specific style */\n",
              "\n",
              "/* Colorize estimator box */\n",
              "#sk-container-id-1 div.sk-estimator input.sk-toggleable__control:checked~label.sk-toggleable__label {\n",
              "  /* unfitted */\n",
              "  background-color: var(--sklearn-color-unfitted-level-2);\n",
              "}\n",
              "\n",
              "#sk-container-id-1 div.sk-estimator.fitted input.sk-toggleable__control:checked~label.sk-toggleable__label {\n",
              "  /* fitted */\n",
              "  background-color: var(--sklearn-color-fitted-level-2);\n",
              "}\n",
              "\n",
              "#sk-container-id-1 div.sk-label label.sk-toggleable__label,\n",
              "#sk-container-id-1 div.sk-label label {\n",
              "  /* The background is the default theme color */\n",
              "  color: var(--sklearn-color-text-on-default-background);\n",
              "}\n",
              "\n",
              "/* On hover, darken the color of the background */\n",
              "#sk-container-id-1 div.sk-label:hover label.sk-toggleable__label {\n",
              "  color: var(--sklearn-color-text);\n",
              "  background-color: var(--sklearn-color-unfitted-level-2);\n",
              "}\n",
              "\n",
              "/* Label box, darken color on hover, fitted */\n",
              "#sk-container-id-1 div.sk-label.fitted:hover label.sk-toggleable__label.fitted {\n",
              "  color: var(--sklearn-color-text);\n",
              "  background-color: var(--sklearn-color-fitted-level-2);\n",
              "}\n",
              "\n",
              "/* Estimator label */\n",
              "\n",
              "#sk-container-id-1 div.sk-label label {\n",
              "  font-family: monospace;\n",
              "  font-weight: bold;\n",
              "  display: inline-block;\n",
              "  line-height: 1.2em;\n",
              "}\n",
              "\n",
              "#sk-container-id-1 div.sk-label-container {\n",
              "  text-align: center;\n",
              "}\n",
              "\n",
              "/* Estimator-specific */\n",
              "#sk-container-id-1 div.sk-estimator {\n",
              "  font-family: monospace;\n",
              "  border: 1px dotted var(--sklearn-color-border-box);\n",
              "  border-radius: 0.25em;\n",
              "  box-sizing: border-box;\n",
              "  margin-bottom: 0.5em;\n",
              "  /* unfitted */\n",
              "  background-color: var(--sklearn-color-unfitted-level-0);\n",
              "}\n",
              "\n",
              "#sk-container-id-1 div.sk-estimator.fitted {\n",
              "  /* fitted */\n",
              "  background-color: var(--sklearn-color-fitted-level-0);\n",
              "}\n",
              "\n",
              "/* on hover */\n",
              "#sk-container-id-1 div.sk-estimator:hover {\n",
              "  /* unfitted */\n",
              "  background-color: var(--sklearn-color-unfitted-level-2);\n",
              "}\n",
              "\n",
              "#sk-container-id-1 div.sk-estimator.fitted:hover {\n",
              "  /* fitted */\n",
              "  background-color: var(--sklearn-color-fitted-level-2);\n",
              "}\n",
              "\n",
              "/* Specification for estimator info (e.g. \"i\" and \"?\") */\n",
              "\n",
              "/* Common style for \"i\" and \"?\" */\n",
              "\n",
              ".sk-estimator-doc-link,\n",
              "a:link.sk-estimator-doc-link,\n",
              "a:visited.sk-estimator-doc-link {\n",
              "  float: right;\n",
              "  font-size: smaller;\n",
              "  line-height: 1em;\n",
              "  font-family: monospace;\n",
              "  background-color: var(--sklearn-color-background);\n",
              "  border-radius: 1em;\n",
              "  height: 1em;\n",
              "  width: 1em;\n",
              "  text-decoration: none !important;\n",
              "  margin-left: 0.5em;\n",
              "  text-align: center;\n",
              "  /* unfitted */\n",
              "  border: var(--sklearn-color-unfitted-level-1) 1pt solid;\n",
              "  color: var(--sklearn-color-unfitted-level-1);\n",
              "}\n",
              "\n",
              ".sk-estimator-doc-link.fitted,\n",
              "a:link.sk-estimator-doc-link.fitted,\n",
              "a:visited.sk-estimator-doc-link.fitted {\n",
              "  /* fitted */\n",
              "  border: var(--sklearn-color-fitted-level-1) 1pt solid;\n",
              "  color: var(--sklearn-color-fitted-level-1);\n",
              "}\n",
              "\n",
              "/* On hover */\n",
              "div.sk-estimator:hover .sk-estimator-doc-link:hover,\n",
              ".sk-estimator-doc-link:hover,\n",
              "div.sk-label-container:hover .sk-estimator-doc-link:hover,\n",
              ".sk-estimator-doc-link:hover {\n",
              "  /* unfitted */\n",
              "  background-color: var(--sklearn-color-unfitted-level-3);\n",
              "  color: var(--sklearn-color-background);\n",
              "  text-decoration: none;\n",
              "}\n",
              "\n",
              "div.sk-estimator.fitted:hover .sk-estimator-doc-link.fitted:hover,\n",
              ".sk-estimator-doc-link.fitted:hover,\n",
              "div.sk-label-container:hover .sk-estimator-doc-link.fitted:hover,\n",
              ".sk-estimator-doc-link.fitted:hover {\n",
              "  /* fitted */\n",
              "  background-color: var(--sklearn-color-fitted-level-3);\n",
              "  color: var(--sklearn-color-background);\n",
              "  text-decoration: none;\n",
              "}\n",
              "\n",
              "/* Span, style for the box shown on hovering the info icon */\n",
              ".sk-estimator-doc-link span {\n",
              "  display: none;\n",
              "  z-index: 9999;\n",
              "  position: relative;\n",
              "  font-weight: normal;\n",
              "  right: .2ex;\n",
              "  padding: .5ex;\n",
              "  margin: .5ex;\n",
              "  width: min-content;\n",
              "  min-width: 20ex;\n",
              "  max-width: 50ex;\n",
              "  color: var(--sklearn-color-text);\n",
              "  box-shadow: 2pt 2pt 4pt #999;\n",
              "  /* unfitted */\n",
              "  background: var(--sklearn-color-unfitted-level-0);\n",
              "  border: .5pt solid var(--sklearn-color-unfitted-level-3);\n",
              "}\n",
              "\n",
              ".sk-estimator-doc-link.fitted span {\n",
              "  /* fitted */\n",
              "  background: var(--sklearn-color-fitted-level-0);\n",
              "  border: var(--sklearn-color-fitted-level-3);\n",
              "}\n",
              "\n",
              ".sk-estimator-doc-link:hover span {\n",
              "  display: block;\n",
              "}\n",
              "\n",
              "/* \"?\"-specific style due to the `<a>` HTML tag */\n",
              "\n",
              "#sk-container-id-1 a.estimator_doc_link {\n",
              "  float: right;\n",
              "  font-size: 1rem;\n",
              "  line-height: 1em;\n",
              "  font-family: monospace;\n",
              "  background-color: var(--sklearn-color-background);\n",
              "  border-radius: 1rem;\n",
              "  height: 1rem;\n",
              "  width: 1rem;\n",
              "  text-decoration: none;\n",
              "  /* unfitted */\n",
              "  color: var(--sklearn-color-unfitted-level-1);\n",
              "  border: var(--sklearn-color-unfitted-level-1) 1pt solid;\n",
              "}\n",
              "\n",
              "#sk-container-id-1 a.estimator_doc_link.fitted {\n",
              "  /* fitted */\n",
              "  border: var(--sklearn-color-fitted-level-1) 1pt solid;\n",
              "  color: var(--sklearn-color-fitted-level-1);\n",
              "}\n",
              "\n",
              "/* On hover */\n",
              "#sk-container-id-1 a.estimator_doc_link:hover {\n",
              "  /* unfitted */\n",
              "  background-color: var(--sklearn-color-unfitted-level-3);\n",
              "  color: var(--sklearn-color-background);\n",
              "  text-decoration: none;\n",
              "}\n",
              "\n",
              "#sk-container-id-1 a.estimator_doc_link.fitted:hover {\n",
              "  /* fitted */\n",
              "  background-color: var(--sklearn-color-fitted-level-3);\n",
              "}\n",
              "</style><div id=\"sk-container-id-1\" class=\"sk-top-container\"><div class=\"sk-text-repr-fallback\"><pre>DecisionTreeClassifier()</pre><b>In a Jupyter environment, please rerun this cell to show the HTML representation or trust the notebook. <br />On GitHub, the HTML representation is unable to render, please try loading this page with nbviewer.org.</b></div><div class=\"sk-container\" hidden><div class=\"sk-item\"><div class=\"sk-estimator fitted sk-toggleable\"><input class=\"sk-toggleable__control sk-hidden--visually\" id=\"sk-estimator-id-1\" type=\"checkbox\" checked><label for=\"sk-estimator-id-1\" class=\"sk-toggleable__label fitted sk-toggleable__label-arrow\"><div><div>DecisionTreeClassifier</div></div><div><a class=\"sk-estimator-doc-link fitted\" rel=\"noreferrer\" target=\"_blank\" href=\"https://scikit-learn.org/1.6/modules/generated/sklearn.tree.DecisionTreeClassifier.html\">?<span>Documentation for DecisionTreeClassifier</span></a><span class=\"sk-estimator-doc-link fitted\">i<span>Fitted</span></span></div></label><div class=\"sk-toggleable__content fitted\"><pre>DecisionTreeClassifier()</pre></div> </div></div></div></div>"
            ]
          },
          "metadata": {},
          "execution_count": 16
        }
      ]
    },
    {
      "cell_type": "code",
      "source": [
        "#Predict in train dataset\n",
        "y_pred_tr = clf.predict(x_train)\n",
        "\n",
        "accuracy = accuracy_score(y_train, y_pred_tr)\n",
        "print(f'Accuracy in train: {accuracy}')\n",
        "\n",
        "#Predict in test dataset\n",
        "y_pred = clf.predict(x_test)\n",
        "\n",
        "accuracy = accuracy_score(y_test, y_pred)\n",
        "print(f'Accuracy in test: {accuracy}')"
      ],
      "metadata": {
        "colab": {
          "base_uri": "https://localhost:8080/"
        },
        "id": "xyLL4vHuuL27",
        "outputId": "72ae42c4-c4ad-4399-b346-8986c1071df8"
      },
      "execution_count": 17,
      "outputs": [
        {
          "output_type": "stream",
          "name": "stdout",
          "text": [
            "Accuracy in train: 1.0\n",
            "Accuracy in test: 0.7344862665310274\n"
          ]
        }
      ]
    },
    {
      "cell_type": "markdown",
      "source": [
        "Παρατηρείται ότι το μοντέλο προβλέπει τέλεια τα δεδομένα εκπαίδευσης και λειτουργεί αρκετά καλά σε άγνωστα δεδομένα. Αυτό μπορεί να είναι σημάδι υπερπορσαρμογής καθώς στο train dataset έχει ακρίβεια 100%, άρα τα βρίσκει όλα σωστά ενώ στο test dataset κάνει λάθη."
      ],
      "metadata": {
        "id": "8LQSmVyqvAW_"
      }
    },
    {
      "cell_type": "markdown",
      "source": [
        "## Ερώτημα 7"
      ],
      "metadata": {
        "id": "akb3UovAxBpH"
      }
    },
    {
      "cell_type": "markdown",
      "source": [
        "Για τη δοκιμή των διαφορετικών συνδυασμών χρησιμοποιείται το product, το οποίο βάση των λιστών με τις τιμές που ζητούνται για κάθε argument θα δημιουργήσει όλους τους πιθανούς συνδυασμούς για τους οποίους στη συνέχεια θα οριστεί, εκπαιδευτεί και δοκιμαστεί το μοντέλο. <br>\n",
        "Από τα argument, το criterion ορίζει με ποιον τρόπο θα επιλέγει ο αλγόριθμος την καταλληλότερη διαδρομή. Το max_depth ορίζει το μέγιστο βάθος (αν δεν δωθεί αριθμός, συνεχίζει μέχρι τέλους, δηλαδή δημιουργία αμιγών κόμβων). Το min_samples_split ορίζει πόσα δείγματα τουλάχιστον χρειάζεται για να διαχωρίσει τα παραδείγματα ενός κόμβου. Το min_samples_leaf οριζει τον ελάχιστο αριθμό παραδειγμάτων για κάθε φύλλο. Το max_features ορίζει τον αριθμό  των χαρακτηριστικών προς εξέταση κάθε φορά που ψάχνει κατλάλληλο διαχωρισμό ο αλγόριθμος και το ccp_alpha ορίζει αν και κατά πόσο θα γίνεται κλάδεμμα."
      ],
      "metadata": {
        "id": "uhZkSL3iyYra"
      }
    },
    {
      "cell_type": "code",
      "source": [
        "criteria = ['gini', 'entropy']\n",
        "max_depths = [None, 3, 5]\n",
        "min_samples_splits = [2, 5]\n",
        "min_samples_leafs = [1, 2]\n",
        "max_features_list = [None, 'sqrt']\n",
        "ccp_alphas = [0, 0.01]\n",
        "results = []\n",
        "\n",
        "for crit, depth, split, leaf, feat, alpha in product(\n",
        "    criteria, max_depths, min_samples_splits, min_samples_leafs, max_features_list, ccp_alphas\n",
        "):\n",
        "    clf = DecisionTreeClassifier(\n",
        "        criterion=crit,\n",
        "        max_depth=depth,\n",
        "        min_samples_split=split,\n",
        "        min_samples_leaf=leaf,\n",
        "        max_features=feat,\n",
        "        ccp_alpha=alpha,\n",
        "        random_state=1\n",
        "    )\n",
        "    clf.fit(x_train, y_train)\n",
        "\n",
        "    #Predict in train dataset\n",
        "    y_pred_tr = clf.predict(x_train)\n",
        "    train_acc = accuracy_score(y_train, y_pred_tr)\n",
        "\n",
        "    #Predict in test dataset\n",
        "    y_pred = clf.predict(x_test)\n",
        "    test_acc = accuracy_score(y_test, y_pred)\n",
        "\n",
        "    results.append({\n",
        "        'criterion': crit,\n",
        "        'max_depth': depth,\n",
        "        'min_samples_split': split,\n",
        "        'min_samples_leaf': leaf,\n",
        "        'max_features': feat,\n",
        "        'ccp_alpha': alpha,\n",
        "        'train_acc': train_acc,\n",
        "        'test_acc': test_acc\n",
        "    })\n",
        "\n",
        "results_df = pd.DataFrame(results)\n",
        "results_df\n"
      ],
      "metadata": {
        "colab": {
          "base_uri": "https://localhost:8080/",
          "height": 423
        },
        "id": "cUJIOyVDxw5y",
        "outputId": "a16f1f04-45e1-4d8f-e7b3-cd013ee1d9df"
      },
      "execution_count": 18,
      "outputs": [
        {
          "output_type": "execute_result",
          "data": {
            "text/plain": [
              "   criterion  max_depth  min_samples_split  min_samples_leaf max_features  \\\n",
              "0       gini        NaN                  2                 1         None   \n",
              "1       gini        NaN                  2                 1         None   \n",
              "2       gini        NaN                  2                 1         sqrt   \n",
              "3       gini        NaN                  2                 1         sqrt   \n",
              "4       gini        NaN                  2                 2         None   \n",
              "..       ...        ...                ...               ...          ...   \n",
              "91   entropy        5.0                  5                 1         sqrt   \n",
              "92   entropy        5.0                  5                 2         None   \n",
              "93   entropy        5.0                  5                 2         None   \n",
              "94   entropy        5.0                  5                 2         sqrt   \n",
              "95   entropy        5.0                  5                 2         sqrt   \n",
              "\n",
              "    ccp_alpha  train_acc  test_acc  \n",
              "0        0.00   1.000000  0.739573  \n",
              "1        0.01   0.716529  0.729400  \n",
              "2        0.00   1.000000  0.724313  \n",
              "3        0.01   0.675970  0.671414  \n",
              "4        0.00   0.966856  0.733469  \n",
              "..        ...        ...       ...  \n",
              "91       0.01   0.732665  0.719227  \n",
              "92       0.00   0.759267  0.746694  \n",
              "93       0.01   0.733101  0.739573  \n",
              "94       0.00   0.736590  0.719227  \n",
              "95       0.01   0.732665  0.719227  \n",
              "\n",
              "[96 rows x 8 columns]"
            ],
            "text/html": [
              "\n",
              "  <div id=\"df-6c355e8c-854a-4299-80fe-c13230f05a97\" class=\"colab-df-container\">\n",
              "    <div>\n",
              "<style scoped>\n",
              "    .dataframe tbody tr th:only-of-type {\n",
              "        vertical-align: middle;\n",
              "    }\n",
              "\n",
              "    .dataframe tbody tr th {\n",
              "        vertical-align: top;\n",
              "    }\n",
              "\n",
              "    .dataframe thead th {\n",
              "        text-align: right;\n",
              "    }\n",
              "</style>\n",
              "<table border=\"1\" class=\"dataframe\">\n",
              "  <thead>\n",
              "    <tr style=\"text-align: right;\">\n",
              "      <th></th>\n",
              "      <th>criterion</th>\n",
              "      <th>max_depth</th>\n",
              "      <th>min_samples_split</th>\n",
              "      <th>min_samples_leaf</th>\n",
              "      <th>max_features</th>\n",
              "      <th>ccp_alpha</th>\n",
              "      <th>train_acc</th>\n",
              "      <th>test_acc</th>\n",
              "    </tr>\n",
              "  </thead>\n",
              "  <tbody>\n",
              "    <tr>\n",
              "      <th>0</th>\n",
              "      <td>gini</td>\n",
              "      <td>NaN</td>\n",
              "      <td>2</td>\n",
              "      <td>1</td>\n",
              "      <td>None</td>\n",
              "      <td>0.00</td>\n",
              "      <td>1.000000</td>\n",
              "      <td>0.739573</td>\n",
              "    </tr>\n",
              "    <tr>\n",
              "      <th>1</th>\n",
              "      <td>gini</td>\n",
              "      <td>NaN</td>\n",
              "      <td>2</td>\n",
              "      <td>1</td>\n",
              "      <td>None</td>\n",
              "      <td>0.01</td>\n",
              "      <td>0.716529</td>\n",
              "      <td>0.729400</td>\n",
              "    </tr>\n",
              "    <tr>\n",
              "      <th>2</th>\n",
              "      <td>gini</td>\n",
              "      <td>NaN</td>\n",
              "      <td>2</td>\n",
              "      <td>1</td>\n",
              "      <td>sqrt</td>\n",
              "      <td>0.00</td>\n",
              "      <td>1.000000</td>\n",
              "      <td>0.724313</td>\n",
              "    </tr>\n",
              "    <tr>\n",
              "      <th>3</th>\n",
              "      <td>gini</td>\n",
              "      <td>NaN</td>\n",
              "      <td>2</td>\n",
              "      <td>1</td>\n",
              "      <td>sqrt</td>\n",
              "      <td>0.01</td>\n",
              "      <td>0.675970</td>\n",
              "      <td>0.671414</td>\n",
              "    </tr>\n",
              "    <tr>\n",
              "      <th>4</th>\n",
              "      <td>gini</td>\n",
              "      <td>NaN</td>\n",
              "      <td>2</td>\n",
              "      <td>2</td>\n",
              "      <td>None</td>\n",
              "      <td>0.00</td>\n",
              "      <td>0.966856</td>\n",
              "      <td>0.733469</td>\n",
              "    </tr>\n",
              "    <tr>\n",
              "      <th>...</th>\n",
              "      <td>...</td>\n",
              "      <td>...</td>\n",
              "      <td>...</td>\n",
              "      <td>...</td>\n",
              "      <td>...</td>\n",
              "      <td>...</td>\n",
              "      <td>...</td>\n",
              "      <td>...</td>\n",
              "    </tr>\n",
              "    <tr>\n",
              "      <th>91</th>\n",
              "      <td>entropy</td>\n",
              "      <td>5.0</td>\n",
              "      <td>5</td>\n",
              "      <td>1</td>\n",
              "      <td>sqrt</td>\n",
              "      <td>0.01</td>\n",
              "      <td>0.732665</td>\n",
              "      <td>0.719227</td>\n",
              "    </tr>\n",
              "    <tr>\n",
              "      <th>92</th>\n",
              "      <td>entropy</td>\n",
              "      <td>5.0</td>\n",
              "      <td>5</td>\n",
              "      <td>2</td>\n",
              "      <td>None</td>\n",
              "      <td>0.00</td>\n",
              "      <td>0.759267</td>\n",
              "      <td>0.746694</td>\n",
              "    </tr>\n",
              "    <tr>\n",
              "      <th>93</th>\n",
              "      <td>entropy</td>\n",
              "      <td>5.0</td>\n",
              "      <td>5</td>\n",
              "      <td>2</td>\n",
              "      <td>None</td>\n",
              "      <td>0.01</td>\n",
              "      <td>0.733101</td>\n",
              "      <td>0.739573</td>\n",
              "    </tr>\n",
              "    <tr>\n",
              "      <th>94</th>\n",
              "      <td>entropy</td>\n",
              "      <td>5.0</td>\n",
              "      <td>5</td>\n",
              "      <td>2</td>\n",
              "      <td>sqrt</td>\n",
              "      <td>0.00</td>\n",
              "      <td>0.736590</td>\n",
              "      <td>0.719227</td>\n",
              "    </tr>\n",
              "    <tr>\n",
              "      <th>95</th>\n",
              "      <td>entropy</td>\n",
              "      <td>5.0</td>\n",
              "      <td>5</td>\n",
              "      <td>2</td>\n",
              "      <td>sqrt</td>\n",
              "      <td>0.01</td>\n",
              "      <td>0.732665</td>\n",
              "      <td>0.719227</td>\n",
              "    </tr>\n",
              "  </tbody>\n",
              "</table>\n",
              "<p>96 rows × 8 columns</p>\n",
              "</div>\n",
              "    <div class=\"colab-df-buttons\">\n",
              "\n",
              "  <div class=\"colab-df-container\">\n",
              "    <button class=\"colab-df-convert\" onclick=\"convertToInteractive('df-6c355e8c-854a-4299-80fe-c13230f05a97')\"\n",
              "            title=\"Convert this dataframe to an interactive table.\"\n",
              "            style=\"display:none;\">\n",
              "\n",
              "  <svg xmlns=\"http://www.w3.org/2000/svg\" height=\"24px\" viewBox=\"0 -960 960 960\">\n",
              "    <path d=\"M120-120v-720h720v720H120Zm60-500h600v-160H180v160Zm220 220h160v-160H400v160Zm0 220h160v-160H400v160ZM180-400h160v-160H180v160Zm440 0h160v-160H620v160ZM180-180h160v-160H180v160Zm440 0h160v-160H620v160Z\"/>\n",
              "  </svg>\n",
              "    </button>\n",
              "\n",
              "  <style>\n",
              "    .colab-df-container {\n",
              "      display:flex;\n",
              "      gap: 12px;\n",
              "    }\n",
              "\n",
              "    .colab-df-convert {\n",
              "      background-color: #E8F0FE;\n",
              "      border: none;\n",
              "      border-radius: 50%;\n",
              "      cursor: pointer;\n",
              "      display: none;\n",
              "      fill: #1967D2;\n",
              "      height: 32px;\n",
              "      padding: 0 0 0 0;\n",
              "      width: 32px;\n",
              "    }\n",
              "\n",
              "    .colab-df-convert:hover {\n",
              "      background-color: #E2EBFA;\n",
              "      box-shadow: 0px 1px 2px rgba(60, 64, 67, 0.3), 0px 1px 3px 1px rgba(60, 64, 67, 0.15);\n",
              "      fill: #174EA6;\n",
              "    }\n",
              "\n",
              "    .colab-df-buttons div {\n",
              "      margin-bottom: 4px;\n",
              "    }\n",
              "\n",
              "    [theme=dark] .colab-df-convert {\n",
              "      background-color: #3B4455;\n",
              "      fill: #D2E3FC;\n",
              "    }\n",
              "\n",
              "    [theme=dark] .colab-df-convert:hover {\n",
              "      background-color: #434B5C;\n",
              "      box-shadow: 0px 1px 3px 1px rgba(0, 0, 0, 0.15);\n",
              "      filter: drop-shadow(0px 1px 2px rgba(0, 0, 0, 0.3));\n",
              "      fill: #FFFFFF;\n",
              "    }\n",
              "  </style>\n",
              "\n",
              "    <script>\n",
              "      const buttonEl =\n",
              "        document.querySelector('#df-6c355e8c-854a-4299-80fe-c13230f05a97 button.colab-df-convert');\n",
              "      buttonEl.style.display =\n",
              "        google.colab.kernel.accessAllowed ? 'block' : 'none';\n",
              "\n",
              "      async function convertToInteractive(key) {\n",
              "        const element = document.querySelector('#df-6c355e8c-854a-4299-80fe-c13230f05a97');\n",
              "        const dataTable =\n",
              "          await google.colab.kernel.invokeFunction('convertToInteractive',\n",
              "                                                    [key], {});\n",
              "        if (!dataTable) return;\n",
              "\n",
              "        const docLinkHtml = 'Like what you see? Visit the ' +\n",
              "          '<a target=\"_blank\" href=https://colab.research.google.com/notebooks/data_table.ipynb>data table notebook</a>'\n",
              "          + ' to learn more about interactive tables.';\n",
              "        element.innerHTML = '';\n",
              "        dataTable['output_type'] = 'display_data';\n",
              "        await google.colab.output.renderOutput(dataTable, element);\n",
              "        const docLink = document.createElement('div');\n",
              "        docLink.innerHTML = docLinkHtml;\n",
              "        element.appendChild(docLink);\n",
              "      }\n",
              "    </script>\n",
              "  </div>\n",
              "\n",
              "\n",
              "    <div id=\"df-9e4abc4a-d500-4b35-ae52-f1443892993e\">\n",
              "      <button class=\"colab-df-quickchart\" onclick=\"quickchart('df-9e4abc4a-d500-4b35-ae52-f1443892993e')\"\n",
              "                title=\"Suggest charts\"\n",
              "                style=\"display:none;\">\n",
              "\n",
              "<svg xmlns=\"http://www.w3.org/2000/svg\" height=\"24px\"viewBox=\"0 0 24 24\"\n",
              "     width=\"24px\">\n",
              "    <g>\n",
              "        <path d=\"M19 3H5c-1.1 0-2 .9-2 2v14c0 1.1.9 2 2 2h14c1.1 0 2-.9 2-2V5c0-1.1-.9-2-2-2zM9 17H7v-7h2v7zm4 0h-2V7h2v10zm4 0h-2v-4h2v4z\"/>\n",
              "    </g>\n",
              "</svg>\n",
              "      </button>\n",
              "\n",
              "<style>\n",
              "  .colab-df-quickchart {\n",
              "      --bg-color: #E8F0FE;\n",
              "      --fill-color: #1967D2;\n",
              "      --hover-bg-color: #E2EBFA;\n",
              "      --hover-fill-color: #174EA6;\n",
              "      --disabled-fill-color: #AAA;\n",
              "      --disabled-bg-color: #DDD;\n",
              "  }\n",
              "\n",
              "  [theme=dark] .colab-df-quickchart {\n",
              "      --bg-color: #3B4455;\n",
              "      --fill-color: #D2E3FC;\n",
              "      --hover-bg-color: #434B5C;\n",
              "      --hover-fill-color: #FFFFFF;\n",
              "      --disabled-bg-color: #3B4455;\n",
              "      --disabled-fill-color: #666;\n",
              "  }\n",
              "\n",
              "  .colab-df-quickchart {\n",
              "    background-color: var(--bg-color);\n",
              "    border: none;\n",
              "    border-radius: 50%;\n",
              "    cursor: pointer;\n",
              "    display: none;\n",
              "    fill: var(--fill-color);\n",
              "    height: 32px;\n",
              "    padding: 0;\n",
              "    width: 32px;\n",
              "  }\n",
              "\n",
              "  .colab-df-quickchart:hover {\n",
              "    background-color: var(--hover-bg-color);\n",
              "    box-shadow: 0 1px 2px rgba(60, 64, 67, 0.3), 0 1px 3px 1px rgba(60, 64, 67, 0.15);\n",
              "    fill: var(--button-hover-fill-color);\n",
              "  }\n",
              "\n",
              "  .colab-df-quickchart-complete:disabled,\n",
              "  .colab-df-quickchart-complete:disabled:hover {\n",
              "    background-color: var(--disabled-bg-color);\n",
              "    fill: var(--disabled-fill-color);\n",
              "    box-shadow: none;\n",
              "  }\n",
              "\n",
              "  .colab-df-spinner {\n",
              "    border: 2px solid var(--fill-color);\n",
              "    border-color: transparent;\n",
              "    border-bottom-color: var(--fill-color);\n",
              "    animation:\n",
              "      spin 1s steps(1) infinite;\n",
              "  }\n",
              "\n",
              "  @keyframes spin {\n",
              "    0% {\n",
              "      border-color: transparent;\n",
              "      border-bottom-color: var(--fill-color);\n",
              "      border-left-color: var(--fill-color);\n",
              "    }\n",
              "    20% {\n",
              "      border-color: transparent;\n",
              "      border-left-color: var(--fill-color);\n",
              "      border-top-color: var(--fill-color);\n",
              "    }\n",
              "    30% {\n",
              "      border-color: transparent;\n",
              "      border-left-color: var(--fill-color);\n",
              "      border-top-color: var(--fill-color);\n",
              "      border-right-color: var(--fill-color);\n",
              "    }\n",
              "    40% {\n",
              "      border-color: transparent;\n",
              "      border-right-color: var(--fill-color);\n",
              "      border-top-color: var(--fill-color);\n",
              "    }\n",
              "    60% {\n",
              "      border-color: transparent;\n",
              "      border-right-color: var(--fill-color);\n",
              "    }\n",
              "    80% {\n",
              "      border-color: transparent;\n",
              "      border-right-color: var(--fill-color);\n",
              "      border-bottom-color: var(--fill-color);\n",
              "    }\n",
              "    90% {\n",
              "      border-color: transparent;\n",
              "      border-bottom-color: var(--fill-color);\n",
              "    }\n",
              "  }\n",
              "</style>\n",
              "\n",
              "      <script>\n",
              "        async function quickchart(key) {\n",
              "          const quickchartButtonEl =\n",
              "            document.querySelector('#' + key + ' button');\n",
              "          quickchartButtonEl.disabled = true;  // To prevent multiple clicks.\n",
              "          quickchartButtonEl.classList.add('colab-df-spinner');\n",
              "          try {\n",
              "            const charts = await google.colab.kernel.invokeFunction(\n",
              "                'suggestCharts', [key], {});\n",
              "          } catch (error) {\n",
              "            console.error('Error during call to suggestCharts:', error);\n",
              "          }\n",
              "          quickchartButtonEl.classList.remove('colab-df-spinner');\n",
              "          quickchartButtonEl.classList.add('colab-df-quickchart-complete');\n",
              "        }\n",
              "        (() => {\n",
              "          let quickchartButtonEl =\n",
              "            document.querySelector('#df-9e4abc4a-d500-4b35-ae52-f1443892993e button');\n",
              "          quickchartButtonEl.style.display =\n",
              "            google.colab.kernel.accessAllowed ? 'block' : 'none';\n",
              "        })();\n",
              "      </script>\n",
              "    </div>\n",
              "\n",
              "  <div id=\"id_526aa746-e4cf-404a-845d-a533f59bdc83\">\n",
              "    <style>\n",
              "      .colab-df-generate {\n",
              "        background-color: #E8F0FE;\n",
              "        border: none;\n",
              "        border-radius: 50%;\n",
              "        cursor: pointer;\n",
              "        display: none;\n",
              "        fill: #1967D2;\n",
              "        height: 32px;\n",
              "        padding: 0 0 0 0;\n",
              "        width: 32px;\n",
              "      }\n",
              "\n",
              "      .colab-df-generate:hover {\n",
              "        background-color: #E2EBFA;\n",
              "        box-shadow: 0px 1px 2px rgba(60, 64, 67, 0.3), 0px 1px 3px 1px rgba(60, 64, 67, 0.15);\n",
              "        fill: #174EA6;\n",
              "      }\n",
              "\n",
              "      [theme=dark] .colab-df-generate {\n",
              "        background-color: #3B4455;\n",
              "        fill: #D2E3FC;\n",
              "      }\n",
              "\n",
              "      [theme=dark] .colab-df-generate:hover {\n",
              "        background-color: #434B5C;\n",
              "        box-shadow: 0px 1px 3px 1px rgba(0, 0, 0, 0.15);\n",
              "        filter: drop-shadow(0px 1px 2px rgba(0, 0, 0, 0.3));\n",
              "        fill: #FFFFFF;\n",
              "      }\n",
              "    </style>\n",
              "    <button class=\"colab-df-generate\" onclick=\"generateWithVariable('results_df')\"\n",
              "            title=\"Generate code using this dataframe.\"\n",
              "            style=\"display:none;\">\n",
              "\n",
              "  <svg xmlns=\"http://www.w3.org/2000/svg\" height=\"24px\"viewBox=\"0 0 24 24\"\n",
              "       width=\"24px\">\n",
              "    <path d=\"M7,19H8.4L18.45,9,17,7.55,7,17.6ZM5,21V16.75L18.45,3.32a2,2,0,0,1,2.83,0l1.4,1.43a1.91,1.91,0,0,1,.58,1.4,1.91,1.91,0,0,1-.58,1.4L9.25,21ZM18.45,9,17,7.55Zm-12,3A5.31,5.31,0,0,0,4.9,8.1,5.31,5.31,0,0,0,1,6.5,5.31,5.31,0,0,0,4.9,4.9,5.31,5.31,0,0,0,6.5,1,5.31,5.31,0,0,0,8.1,4.9,5.31,5.31,0,0,0,12,6.5,5.46,5.46,0,0,0,6.5,12Z\"/>\n",
              "  </svg>\n",
              "    </button>\n",
              "    <script>\n",
              "      (() => {\n",
              "      const buttonEl =\n",
              "        document.querySelector('#id_526aa746-e4cf-404a-845d-a533f59bdc83 button.colab-df-generate');\n",
              "      buttonEl.style.display =\n",
              "        google.colab.kernel.accessAllowed ? 'block' : 'none';\n",
              "\n",
              "      buttonEl.onclick = () => {\n",
              "        google.colab.notebook.generateWithVariable('results_df');\n",
              "      }\n",
              "      })();\n",
              "    </script>\n",
              "  </div>\n",
              "\n",
              "    </div>\n",
              "  </div>\n"
            ],
            "application/vnd.google.colaboratory.intrinsic+json": {
              "type": "dataframe",
              "variable_name": "results_df",
              "summary": "{\n  \"name\": \"results_df\",\n  \"rows\": 96,\n  \"fields\": [\n    {\n      \"column\": \"criterion\",\n      \"properties\": {\n        \"dtype\": \"category\",\n        \"num_unique_values\": 2,\n        \"samples\": [\n          \"entropy\",\n          \"gini\"\n        ],\n        \"semantic_type\": \"\",\n        \"description\": \"\"\n      }\n    },\n    {\n      \"column\": \"max_depth\",\n      \"properties\": {\n        \"dtype\": \"number\",\n        \"std\": 1.0079052613579393,\n        \"min\": 3.0,\n        \"max\": 5.0,\n        \"num_unique_values\": 2,\n        \"samples\": [\n          5.0,\n          3.0\n        ],\n        \"semantic_type\": \"\",\n        \"description\": \"\"\n      }\n    },\n    {\n      \"column\": \"min_samples_split\",\n      \"properties\": {\n        \"dtype\": \"number\",\n        \"std\": 1,\n        \"min\": 2,\n        \"max\": 5,\n        \"num_unique_values\": 2,\n        \"samples\": [\n          5,\n          2\n        ],\n        \"semantic_type\": \"\",\n        \"description\": \"\"\n      }\n    },\n    {\n      \"column\": \"min_samples_leaf\",\n      \"properties\": {\n        \"dtype\": \"number\",\n        \"std\": 0,\n        \"min\": 1,\n        \"max\": 2,\n        \"num_unique_values\": 2,\n        \"samples\": [\n          2,\n          1\n        ],\n        \"semantic_type\": \"\",\n        \"description\": \"\"\n      }\n    },\n    {\n      \"column\": \"max_features\",\n      \"properties\": {\n        \"dtype\": \"category\",\n        \"num_unique_values\": 1,\n        \"samples\": [\n          \"sqrt\"\n        ],\n        \"semantic_type\": \"\",\n        \"description\": \"\"\n      }\n    },\n    {\n      \"column\": \"ccp_alpha\",\n      \"properties\": {\n        \"dtype\": \"number\",\n        \"std\": 0.0050262468995003464,\n        \"min\": 0.0,\n        \"max\": 0.01,\n        \"num_unique_values\": 2,\n        \"samples\": [\n          0.01\n        ],\n        \"semantic_type\": \"\",\n        \"description\": \"\"\n      }\n    },\n    {\n      \"column\": \"train_acc\",\n      \"properties\": {\n        \"dtype\": \"number\",\n        \"std\": 0.09802706576751574,\n        \"min\": 0.6759703445268208,\n        \"max\": 1.0,\n        \"num_unique_values\": 37,\n        \"samples\": [\n          0.741822939380724\n        ],\n        \"semantic_type\": \"\",\n        \"description\": \"\"\n      }\n    },\n    {\n      \"column\": \"test_acc\",\n      \"properties\": {\n        \"dtype\": \"number\",\n        \"std\": 0.015525804932896707,\n        \"min\": 0.669379450661241,\n        \"max\": 0.7548321464903357,\n        \"num_unique_values\": 29,\n        \"samples\": [\n          0.7466937945066124\n        ],\n        \"semantic_type\": \"\",\n        \"description\": \"\"\n      }\n    }\n  ]\n}"
            }
          },
          "metadata": {},
          "execution_count": 18
        }
      ]
    },
    {
      "cell_type": "markdown",
      "source": [
        "## Ερώτημα 8"
      ],
      "metadata": {
        "id": "TStm10E60lRg"
      }
    },
    {
      "cell_type": "markdown",
      "source": [
        "Από το result_df όπου υπάρχουν οι δυνατοί συνδυασμοί με τις τιμές ακρίβειας στα test, train, κρατώνται μόνο όσοι έχουν max_depth=3 για να βρεθεί ο συνδυασμός που δίνει τη μεγαλύτερη ακρίβεια για αυτή τη τιμή. Και στη συνέχεια βρίσκεται η μεγαλύτερη τιμή για το 'test_acc' και επιστρέφεται όλη γραμμή (οι τιμές όλων των arguments που έδωσαν τον συνδυασμό αυτόν)."
      ],
      "metadata": {
        "id": "9SdqxbtBRiIY"
      }
    },
    {
      "cell_type": "code",
      "source": [
        "dpt=results_df[results_df['max_depth']==3]\n",
        "best_row = dpt.loc[dpt['test_acc'].idxmax()]\n",
        "print(best_row)"
      ],
      "metadata": {
        "id": "xdkOfPxJ0m94",
        "colab": {
          "base_uri": "https://localhost:8080/"
        },
        "outputId": "ac2b2a47-b65c-4cbe-ed81-3ac13a44d834"
      },
      "execution_count": 19,
      "outputs": [
        {
          "output_type": "stream",
          "name": "stdout",
          "text": [
            "criterion                gini\n",
            "max_depth                 3.0\n",
            "min_samples_split           2\n",
            "min_samples_leaf            1\n",
            "max_features             None\n",
            "ccp_alpha                 0.0\n",
            "train_acc            0.716092\n",
            "test_acc             0.726348\n",
            "Name: 16, dtype: object\n"
          ]
        }
      ]
    },
    {
      "cell_type": "markdown",
      "source": [
        "Επανεκπαίδευση για τον δυνδυασμό που βρέθηκε να δίνει τη μεγαλύτερη ακρίβεια στο test για max_depth=3.0"
      ],
      "metadata": {
        "id": "NPYZ3ZjmS-24"
      }
    },
    {
      "cell_type": "code",
      "source": [
        "clf = DecisionTreeClassifier(\n",
        "        criterion='gini',\n",
        "        max_depth=3,\n",
        "        min_samples_split=2,\n",
        "        min_samples_leaf=1,\n",
        "        max_features=None,\n",
        "        ccp_alpha=0.0,\n",
        "        random_state=1\n",
        "    )\n",
        "clf.fit(x_train, y_train)\n",
        "\n",
        "\n",
        "#Predict in train dataset\n",
        "y_pred_tr = clf.predict(x_train)\n",
        "accuracy = accuracy_score(y_train, y_pred_tr)\n",
        "print(f'Accuracy in train: {accuracy}')\n",
        "\n",
        "#Predict in test dataset\n",
        "y_pred = clf.predict(x_test)\n",
        "accuracy = accuracy_score(y_test, y_pred)\n",
        "print(f'Accuracy in test: {accuracy}')"
      ],
      "metadata": {
        "colab": {
          "base_uri": "https://localhost:8080/"
        },
        "id": "d10g9pLUTaWM",
        "outputId": "faee6430-e8ed-4c39-da97-a6de75061338"
      },
      "execution_count": 20,
      "outputs": [
        {
          "output_type": "stream",
          "name": "stdout",
          "text": [
            "Accuracy in train: 0.7160924552987353\n",
            "Accuracy in test: 0.7263479145473042\n"
          ]
        }
      ]
    },
    {
      "cell_type": "code",
      "source": [
        "tree.plot_tree(clf)"
      ],
      "metadata": {
        "id": "9R4VUtXmVgxD",
        "outputId": "c509b772-5ca9-4a05-e5d1-ecf2ec6bacf9",
        "colab": {
          "base_uri": "https://localhost:8080/",
          "height": 716
        },
        "collapsed": true
      },
      "execution_count": 21,
      "outputs": [
        {
          "output_type": "execute_result",
          "data": {
            "text/plain": [
              "[Text(0.5, 0.875, 'x[4] <= 333.327\\ngini = 0.478\\nsamples = 2293\\nvalue = [1388, 905]'),\n",
              " Text(0.25, 0.625, 'x[4] <= 332.527\\ngini = 0.499\\nsamples = 1077\\nvalue = [513, 564]'),\n",
              " Text(0.375, 0.75, 'True  '),\n",
              " Text(0.125, 0.375, 'x[0] <= 6.16\\ngini = 0.485\\nsamples = 862\\nvalue = [505, 357]'),\n",
              " Text(0.0625, 0.125, 'gini = 0.353\\nsamples = 205\\nvalue = [158, 47]'),\n",
              " Text(0.1875, 0.125, 'gini = 0.498\\nsamples = 657\\nvalue = [347, 310]'),\n",
              " Text(0.375, 0.375, 'x[4] <= 332.68\\ngini = 0.072\\nsamples = 215\\nvalue = [8, 207]'),\n",
              " Text(0.3125, 0.125, 'gini = 0.0\\nsamples = 200\\nvalue = [0, 200]'),\n",
              " Text(0.4375, 0.125, 'gini = 0.498\\nsamples = 15\\nvalue = [8, 7]'),\n",
              " Text(0.75, 0.625, 'x[4] <= 334.681\\ngini = 0.404\\nsamples = 1216\\nvalue = [875, 341]'),\n",
              " Text(0.625, 0.75, '  False'),\n",
              " Text(0.625, 0.375, 'x[4] <= 334.054\\ngini = 0.022\\nsamples = 366\\nvalue = [362, 4]'),\n",
              " Text(0.5625, 0.125, 'gini = 0.408\\nsamples = 14\\nvalue = [10, 4]'),\n",
              " Text(0.6875, 0.125, 'gini = 0.0\\nsamples = 352\\nvalue = [352, 0]'),\n",
              " Text(0.875, 0.375, 'x[0] <= 7.082\\ngini = 0.479\\nsamples = 850\\nvalue = [513, 337]'),\n",
              " Text(0.8125, 0.125, 'gini = 0.491\\nsamples = 412\\nvalue = [179, 233]'),\n",
              " Text(0.9375, 0.125, 'gini = 0.362\\nsamples = 438\\nvalue = [334, 104]')]"
            ]
          },
          "metadata": {},
          "execution_count": 21
        },
        {
          "output_type": "display_data",
          "data": {
            "text/plain": [
              "<Figure size 640x480 with 1 Axes>"
            ],
            "image/png": "[encoded data removed]"
          },
          "metadata": {}
        }
      ]
    },
    {
      "cell_type": "markdown",
      "source": [
        "<mark>Κανόνας 1</mark> (ρίζα): Η τιμή του  χαρακτηριστικού 5 (x[4]) μικρότερη ή ίση από 333.327.<br>\n",
        "--Αριστερό υπόδεντρο---<br>\n",
        "<mark>Κανόνας 2</mark> -Αν ισχύει ο Κανόνας 1: Η τιμή του  χαρακτηριστικού 5 (x[4]) μικρότερη ή ίση από 332.527.<br>\n",
        "<mark>Κανόνας 3</mark> -Αν ισχύει ο Κανόνας 2: Η τιμή του  χαρακτηριστικού 1 (x[0]) μικρότερη ή ίση από 6.16.<br>\n",
        "Αν ισχύει ο Κανόνας 3 έχω την κατηγορία 0 αλλά κι αν δεν ισχύει πάλι έχω την κατηγορία 0, με άλλες τιμές gini (λίγο μεγαλύτερη, δηλαδή ο κόμβος στην περίπτωση που ισχύει ο κανόνας, η κατανομή δηλαδή εκέι είναι πιο ομοιογενής).<br>\n",
        "<mark>Κανόνας 4</mark> -Αν δεν ισχύει ο Κανόνας 2: Η τιμή του χαρακτηριστικού 5 (x[4]) μικρότερη ή ίση από 332.68.<br>\n",
        "Αν ισχύει ο Κανόνας 4 έχω αμιγής κατηγορία 1 ενώ αν δεν ισχύει έχω την κατηγορία 0 με gini 0.498.<br>\n",
        "\n",
        "--Δεξί υπόδεντρο-- <br>\n",
        "<mark>Κανόνας 5</mark> -Αν δεν ισχύει ο Κανόνας 1: Η τιμή του χαρακτηριστικού 5 (x[4]) μικρότερη ή ίση από 334.681.<br>\n",
        "<mark>Κανόνας 6</mark>- Αν ισχύει ο Κανόνας 5: Η τιμή του χαρακτηριστικού 5 (x[4]) μικρότερη ή ίση από 334.054.<br>\n",
        "Αν ισχύει έχω την κατηγορία 0 με gini 0.408 και αν δεν ισχύει έχω την κατηγορία 0 με αμιγή κόμβο (gini=0.0).<br>\n",
        "<mark>Κανόνας 7</mark> -Αν δεν ισχύει ο Κανόνας 5: Η τιμή του χαρακτηριστικού 1 (x[0]) μικρότερη ή ίση από 7.082.<br>\n",
        "Αν ισχύει έχω την κατηγορία 1 με gini 0.491 και αν δεν ισχύει έχω την κατηγορία 0 με gini 0.362.\n",
        "\n"
      ],
      "metadata": {
        "id": "R3odM3kJm_tp"
      }
    },
    {
      "cell_type": "markdown",
      "source": [
        "Παρατηρείται ότι σε κάποια φύλλα το gini είναι κοντά στο 0.5 που σημαίνει ότι υπάρχουν δείγματα και από τις δύο κατηγορίες και επιλέγεται αυτή που επικρατεί πιο πολύ. Επίσης φαίνεται ότι το δέντρο βασίζεται στο πρώτο και πέμπτο χαρακτηριστικό για τον διαχωρισμό."
      ],
      "metadata": {
        "id": "XGmieK4foCuA"
      }
    },
    {
      "cell_type": "markdown",
      "source": [
        "## Ερώτημα 9"
      ],
      "metadata": {
        "id": "YPiNWWHypZwS"
      }
    },
    {
      "cell_type": "markdown",
      "source": [
        "Εύρεση συνδυασμού που έχει τη μεγαλύτερη ακρίβεια στο test."
      ],
      "metadata": {
        "id": "Zel8r0P1XT12"
      }
    },
    {
      "cell_type": "code",
      "source": [
        "best_row = results_df.loc[results_df['test_acc'].idxmax()]\n",
        "print(best_row)"
      ],
      "metadata": {
        "colab": {
          "base_uri": "https://localhost:8080/"
        },
        "id": "O76dXsEgpcYi",
        "outputId": "da8164db-a0ed-4a04-8d2d-f09bb8d780d3"
      },
      "execution_count": 23,
      "outputs": [
        {
          "output_type": "stream",
          "name": "stdout",
          "text": [
            "criterion                gini\n",
            "max_depth                 5.0\n",
            "min_samples_split           2\n",
            "min_samples_leaf            2\n",
            "max_features             None\n",
            "ccp_alpha                 0.0\n",
            "train_acc            0.777148\n",
            "test_acc             0.754832\n",
            "Name: 36, dtype: object\n"
          ]
        }
      ]
    },
    {
      "cell_type": "markdown",
      "source": [
        "Επανεκπαίδευση για τον δυνδυασμό που βρέθηκε να δίνει τη μεγαλύτερη ακρίβεια στο test."
      ],
      "metadata": {
        "id": "bb0jxZzUpsRC"
      }
    },
    {
      "cell_type": "code",
      "source": [
        "clf = DecisionTreeClassifier(\n",
        "        criterion='gini',\n",
        "        max_depth=5,\n",
        "        min_samples_split=2,\n",
        "        min_samples_leaf=2,\n",
        "        max_features=None,\n",
        "        ccp_alpha=0.0,\n",
        "        random_state=1\n",
        "    )\n",
        "clf.fit(x_train, y_train)\n",
        "\n",
        "\n",
        "#Predict in train dataset\n",
        "y_pred_tr = clf.predict(x_train)\n",
        "accuracy = accuracy_score(y_train, y_pred_tr)\n",
        "print(f'Accuracy in train: {accuracy}')\n",
        "\n",
        "#Predict in test dataset\n",
        "y_pred = clf.predict(x_test)\n",
        "accuracy = accuracy_score(y_test, y_pred)\n",
        "print(f'Accuracy in test: {accuracy}')"
      ],
      "metadata": {
        "colab": {
          "base_uri": "https://localhost:8080/"
        },
        "id": "qRYe9icmp107",
        "outputId": "4fb0b5b1-54d3-4515-c971-dde2eeb4205c"
      },
      "execution_count": 24,
      "outputs": [
        {
          "output_type": "stream",
          "name": "stdout",
          "text": [
            "Accuracy in train: 0.7771478412559966\n",
            "Accuracy in test: 0.7548321464903357\n"
          ]
        }
      ]
    },
    {
      "cell_type": "markdown",
      "source": [
        "Ραβδόγραμμα με τη σημαντικότητα κάθε χαρακτηριστικού (feature importance) σύμφωνα με το νέο δέντρο που εκπαιδεύτηκε. Χρησιμοποιείται το feature_importances_ για εύρεση σειράς με την σημαντικότητα του κάθε χαρακτηριστικού στο δέντρο και στη συνέχεια σχεδιάζεται το ραβδόγραμμά τους."
      ],
      "metadata": {
        "id": "whk-4E4HqJVX"
      }
    },
    {
      "cell_type": "code",
      "source": [
        "importance = clf.feature_importances_\n",
        "feature_names = [f\"feature {i}\" for i in range(x.shape[1])]\n",
        "forest_importances = pd.Series(importance, index=feature_names)\n",
        "\n",
        "fig, ax = plt.subplots()\n",
        "forest_importances.plot.bar(ax=ax)\n",
        "ax.set_title('Feature Importance Bar Plot')\n",
        "ax.set_ylabel('Importance')\n",
        "fig.tight_layout()"
      ],
      "metadata": {
        "colab": {
          "base_uri": "https://localhost:8080/",
          "height": 487
        },
        "id": "hq8MUUCeqQw3",
        "outputId": "aff671b9-ec2b-44cf-9be3-0f4f5f977933"
      },
      "execution_count": 25,
      "outputs": [
        {
          "output_type": "display_data",
          "data": {
            "text/plain": [
              "<Figure size 640x480 with 1 Axes>"
            ],
            "image/png": "[encoded data removed]"
          },
          "metadata": {}
        }
      ]
    },
    {
      "cell_type": "markdown",
      "source": [
        "Παρατηρούμε, οτι τα χαρακτηριστικά με την μεγαλύτερη συμβολή είναι το χαρακτηριστικό 4 και μετά το 0. Τα χαρακτηριστικά 5,6,8 έχουν ελάχιστη συνεισφορά ενώ τα 2, 7 σχεδόν μηδεική."
      ],
      "metadata": {
        "id": "XL06xNEhsKs8"
      }
    },
    {
      "cell_type": "markdown",
      "source": [
        "Αν μπορούν να υποστηριχθούν μέχρι 5 αναλύσεις, τότε προτιμότερο είναι να επιλεχθούν τα 5 χαρακτηριστικά με την μεγαλύτερη σημαντικότητα, δηλαδή τα χαρακτηριστικά 4, 0, 1, 3 και 8, καθώς αυτά φαίνεται να βοηθούν το μοντέλο περισσότερο στον διαχωρισμό."
      ],
      "metadata": {
        "id": "VZUCPQH4t-k6"
      }
    },
    {
      "cell_type": "markdown",
      "source": [
        "## Ερώτημα 11"
      ],
      "metadata": {
        "id": "yvCznf2WvO3i"
      }
    },
    {
      "cell_type": "markdown",
      "source": [
        "(το Ερώτημα 10 ήταν ίδιο με το 9)"
      ],
      "metadata": {
        "id": "aJr-ISCMvY5Z"
      }
    },
    {
      "cell_type": "markdown",
      "source": [
        "Ένα τυχαίο δάσος, δημιουργεί πολλά δέντρα, τα οποία εκπαιδεύονται σε διαφορετικά δεδομένα εκπαίδευσης (τα οποία είναι υποσύνολα που προκύπτουν από το αρχικό σύνολο δεδομένων) και κρατάνε διαφορετικά χαρακτηριστικά μεταξύ τους. Η τελική απόφαση προκύπτει από τη συνδυαστική έξοδο των δέντρων (πχ ποιο αποτέλεσμα επικρατεί). Αυτό επιτρέπει σε ένα τυχαίο δάσος να χειρίζεται καλύτερα πολλά χαρακτηριστικα ενώ δεν είναι τόσο επιρρεπές στην υπερπροσαρμογή όσο ένα δέντρο απόφασης, το οποίο επιρρεάζεται περισσότερο από θόρυβο ή outliers."
      ],
      "metadata": {
        "id": "IbgOVP8DQV6P"
      }
    },
    {
      "cell_type": "markdown",
      "source": [
        "## Ερώτημα 12"
      ],
      "metadata": {
        "id": "J2arRes3vcST"
      }
    },
    {
      "cell_type": "code",
      "source": [
        "clf2 = RandomForestClassifier()\n",
        "clf2.fit(x_train, y_train)"
      ],
      "metadata": {
        "colab": {
          "base_uri": "https://localhost:8080/",
          "height": 80
        },
        "id": "z0-1lmbCvgks",
        "outputId": "663b8b25-e0f7-4852-8ebe-4b840e192a9c"
      },
      "execution_count": 26,
      "outputs": [
        {
          "output_type": "execute_result",
          "data": {
            "text/plain": [
              "RandomForestClassifier()"
            ],
            "text/html": [
              "<style>#sk-container-id-2 {\n",
              "  /* Definition of color scheme common for light and dark mode */\n",
              "  --sklearn-color-text: #000;\n",
              "  --sklearn-color-text-muted: #666;\n",
              "  --sklearn-color-line: gray;\n",
              "  /* Definition of color scheme for unfitted estimators */\n",
              "  --sklearn-color-unfitted-level-0: #fff5e6;\n",
              "  --sklearn-color-unfitted-level-1: #f6e4d2;\n",
              "  --sklearn-color-unfitted-level-2: #ffe0b3;\n",
              "  --sklearn-color-unfitted-level-3: chocolate;\n",
              "  /* Definition of color scheme for fitted estimators */\n",
              "  --sklearn-color-fitted-level-0: #f0f8ff;\n",
              "  --sklearn-color-fitted-level-1: #d4ebff;\n",
              "  --sklearn-color-fitted-level-2: #b3dbfd;\n",
              "  --sklearn-color-fitted-level-3: cornflowerblue;\n",
              "\n",
              "  /* Specific color for light theme */\n",
              "  --sklearn-color-text-on-default-background: var(--sg-text-color, var(--theme-code-foreground, var(--jp-content-font-color1, black)));\n",
              "  --sklearn-color-background: var(--sg-background-color, var(--theme-background, var(--jp-layout-color0, white)));\n",
              "  --sklearn-color-border-box: var(--sg-text-color, var(--theme-code-foreground, var(--jp-content-font-color1, black)));\n",
              "  --sklearn-color-icon: #696969;\n",
              "\n",
              "  @media (prefers-color-scheme: dark) {\n",
              "    /* Redefinition of color scheme for dark theme */\n",
              "    --sklearn-color-text-on-default-background: var(--sg-text-color, var(--theme-code-foreground, var(--jp-content-font-color1, white)));\n",
              "    --sklearn-color-background: var(--sg-background-color, var(--theme-background, var(--jp-layout-color0, #111)));\n",
              "    --sklearn-color-border-box: var(--sg-text-color, var(--theme-code-foreground, var(--jp-content-font-color1, white)));\n",
              "    --sklearn-color-icon: #878787;\n",
              "  }\n",
              "}\n",
              "\n",
              "#sk-container-id-2 {\n",
              "  color: var(--sklearn-color-text);\n",
              "}\n",
              "\n",
              "#sk-container-id-2 pre {\n",
              "  padding: 0;\n",
              "}\n",
              "\n",
              "#sk-container-id-2 input.sk-hidden--visually {\n",
              "  border: 0;\n",
              "  clip: rect(1px 1px 1px 1px);\n",
              "  clip: rect(1px, 1px, 1px, 1px);\n",
              "  height: 1px;\n",
              "  margin: -1px;\n",
              "  overflow: hidden;\n",
              "  padding: 0;\n",
              "  position: absolute;\n",
              "  width: 1px;\n",
              "}\n",
              "\n",
              "#sk-container-id-2 div.sk-dashed-wrapped {\n",
              "  border: 1px dashed var(--sklearn-color-line);\n",
              "  margin: 0 0.4em 0.5em 0.4em;\n",
              "  box-sizing: border-box;\n",
              "  padding-bottom: 0.4em;\n",
              "  background-color: var(--sklearn-color-background);\n",
              "}\n",
              "\n",
              "#sk-container-id-2 div.sk-container {\n",
              "  /* jupyter's `normalize.less` sets `[hidden] { display: none; }`\n",
              "     but bootstrap.min.css set `[hidden] { display: none !important; }`\n",
              "     so we also need the `!important` here to be able to override the\n",
              "     default hidden behavior on the sphinx rendered scikit-learn.org.\n",
              "     See: https://github.com/scikit-learn/scikit-learn/issues/21755 */\n",
              "  display: inline-block !important;\n",
              "  position: relative;\n",
              "}\n",
              "\n",
              "#sk-container-id-2 div.sk-text-repr-fallback {\n",
              "  display: none;\n",
              "}\n",
              "\n",
              "div.sk-parallel-item,\n",
              "div.sk-serial,\n",
              "div.sk-item {\n",
              "  /* draw centered vertical line to link estimators */\n",
              "  background-image: linear-gradient(var(--sklearn-color-text-on-default-background), var(--sklearn-color-text-on-default-background));\n",
              "  background-size: 2px 100%;\n",
              "  background-repeat: no-repeat;\n",
              "  background-position: center center;\n",
              "}\n",
              "\n",
              "/* Parallel-specific style estimator block */\n",
              "\n",
              "#sk-container-id-2 div.sk-parallel-item::after {\n",
              "  content: \"\";\n",
              "  width: 100%;\n",
              "  border-bottom: 2px solid var(--sklearn-color-text-on-default-background);\n",
              "  flex-grow: 1;\n",
              "}\n",
              "\n",
              "#sk-container-id-2 div.sk-parallel {\n",
              "  display: flex;\n",
              "  align-items: stretch;\n",
              "  justify-content: center;\n",
              "  background-color: var(--sklearn-color-background);\n",
              "  position: relative;\n",
              "}\n",
              "\n",
              "#sk-container-id-2 div.sk-parallel-item {\n",
              "  display: flex;\n",
              "  flex-direction: column;\n",
              "}\n",
              "\n",
              "#sk-container-id-2 div.sk-parallel-item:first-child::after {\n",
              "  align-self: flex-end;\n",
              "  width: 50%;\n",
              "}\n",
              "\n",
              "#sk-container-id-2 div.sk-parallel-item:last-child::after {\n",
              "  align-self: flex-start;\n",
              "  width: 50%;\n",
              "}\n",
              "\n",
              "#sk-container-id-2 div.sk-parallel-item:only-child::after {\n",
              "  width: 0;\n",
              "}\n",
              "\n",
              "/* Serial-specific style estimator block */\n",
              "\n",
              "#sk-container-id-2 div.sk-serial {\n",
              "  display: flex;\n",
              "  flex-direction: column;\n",
              "  align-items: center;\n",
              "  background-color: var(--sklearn-color-background);\n",
              "  padding-right: 1em;\n",
              "  padding-left: 1em;\n",
              "}\n",
              "\n",
              "\n",
              "/* Toggleable style: style used for estimator/Pipeline/ColumnTransformer box that is\n",
              "clickable and can be expanded/collapsed.\n",
              "- Pipeline and ColumnTransformer use this feature and define the default style\n",
              "- Estimators will overwrite some part of the style using the `sk-estimator` class\n",
              "*/\n",
              "\n",
              "/* Pipeline and ColumnTransformer style (default) */\n",
              "\n",
              "#sk-container-id-2 div.sk-toggleable {\n",
              "  /* Default theme specific background. It is overwritten whether we have a\n",
              "  specific estimator or a Pipeline/ColumnTransformer */\n",
              "  background-color: var(--sklearn-color-background);\n",
              "}\n",
              "\n",
              "/* Toggleable label */\n",
              "#sk-container-id-2 label.sk-toggleable__label {\n",
              "  cursor: pointer;\n",
              "  display: flex;\n",
              "  width: 100%;\n",
              "  margin-bottom: 0;\n",
              "  padding: 0.5em;\n",
              "  box-sizing: border-box;\n",
              "  text-align: center;\n",
              "  align-items: start;\n",
              "  justify-content: space-between;\n",
              "  gap: 0.5em;\n",
              "}\n",
              "\n",
              "#sk-container-id-2 label.sk-toggleable__label .caption {\n",
              "  font-size: 0.6rem;\n",
              "  font-weight: lighter;\n",
              "  color: var(--sklearn-color-text-muted);\n",
              "}\n",
              "\n",
              "#sk-container-id-2 label.sk-toggleable__label-arrow:before {\n",
              "  /* Arrow on the left of the label */\n",
              "  content: \"▸\";\n",
              "  float: left;\n",
              "  margin-right: 0.25em;\n",
              "  color: var(--sklearn-color-icon);\n",
              "}\n",
              "\n",
              "#sk-container-id-2 label.sk-toggleable__label-arrow:hover:before {\n",
              "  color: var(--sklearn-color-text);\n",
              "}\n",
              "\n",
              "/* Toggleable content - dropdown */\n",
              "\n",
              "#sk-container-id-2 div.sk-toggleable__content {\n",
              "  max-height: 0;\n",
              "  max-width: 0;\n",
              "  overflow: hidden;\n",
              "  text-align: left;\n",
              "  /* unfitted */\n",
              "  background-color: var(--sklearn-color-unfitted-level-0);\n",
              "}\n",
              "\n",
              "#sk-container-id-2 div.sk-toggleable__content.fitted {\n",
              "  /* fitted */\n",
              "  background-color: var(--sklearn-color-fitted-level-0);\n",
              "}\n",
              "\n",
              "#sk-container-id-2 div.sk-toggleable__content pre {\n",
              "  margin: 0.2em;\n",
              "  border-radius: 0.25em;\n",
              "  color: var(--sklearn-color-text);\n",
              "  /* unfitted */\n",
              "  background-color: var(--sklearn-color-unfitted-level-0);\n",
              "}\n",
              "\n",
              "#sk-container-id-2 div.sk-toggleable__content.fitted pre {\n",
              "  /* unfitted */\n",
              "  background-color: var(--sklearn-color-fitted-level-0);\n",
              "}\n",
              "\n",
              "#sk-container-id-2 input.sk-toggleable__control:checked~div.sk-toggleable__content {\n",
              "  /* Expand drop-down */\n",
              "  max-height: 200px;\n",
              "  max-width: 100%;\n",
              "  overflow: auto;\n",
              "}\n",
              "\n",
              "#sk-container-id-2 input.sk-toggleable__control:checked~label.sk-toggleable__label-arrow:before {\n",
              "  content: \"▾\";\n",
              "}\n",
              "\n",
              "/* Pipeline/ColumnTransformer-specific style */\n",
              "\n",
              "#sk-container-id-2 div.sk-label input.sk-toggleable__control:checked~label.sk-toggleable__label {\n",
              "  color: var(--sklearn-color-text);\n",
              "  background-color: var(--sklearn-color-unfitted-level-2);\n",
              "}\n",
              "\n",
              "#sk-container-id-2 div.sk-label.fitted input.sk-toggleable__control:checked~label.sk-toggleable__label {\n",
              "  background-color: var(--sklearn-color-fitted-level-2);\n",
              "}\n",
              "\n",
              "/* Estimator-specific style */\n",
              "\n",
              "/* Colorize estimator box */\n",
              "#sk-container-id-2 div.sk-estimator input.sk-toggleable__control:checked~label.sk-toggleable__label {\n",
              "  /* unfitted */\n",
              "  background-color: var(--sklearn-color-unfitted-level-2);\n",
              "}\n",
              "\n",
              "#sk-container-id-2 div.sk-estimator.fitted input.sk-toggleable__control:checked~label.sk-toggleable__label {\n",
              "  /* fitted */\n",
              "  background-color: var(--sklearn-color-fitted-level-2);\n",
              "}\n",
              "\n",
              "#sk-container-id-2 div.sk-label label.sk-toggleable__label,\n",
              "#sk-container-id-2 div.sk-label label {\n",
              "  /* The background is the default theme color */\n",
              "  color: var(--sklearn-color-text-on-default-background);\n",
              "}\n",
              "\n",
              "/* On hover, darken the color of the background */\n",
              "#sk-container-id-2 div.sk-label:hover label.sk-toggleable__label {\n",
              "  color: var(--sklearn-color-text);\n",
              "  background-color: var(--sklearn-color-unfitted-level-2);\n",
              "}\n",
              "\n",
              "/* Label box, darken color on hover, fitted */\n",
              "#sk-container-id-2 div.sk-label.fitted:hover label.sk-toggleable__label.fitted {\n",
              "  color: var(--sklearn-color-text);\n",
              "  background-color: var(--sklearn-color-fitted-level-2);\n",
              "}\n",
              "\n",
              "/* Estimator label */\n",
              "\n",
              "#sk-container-id-2 div.sk-label label {\n",
              "  font-family: monospace;\n",
              "  font-weight: bold;\n",
              "  display: inline-block;\n",
              "  line-height: 1.2em;\n",
              "}\n",
              "\n",
              "#sk-container-id-2 div.sk-label-container {\n",
              "  text-align: center;\n",
              "}\n",
              "\n",
              "/* Estimator-specific */\n",
              "#sk-container-id-2 div.sk-estimator {\n",
              "  font-family: monospace;\n",
              "  border: 1px dotted var(--sklearn-color-border-box);\n",
              "  border-radius: 0.25em;\n",
              "  box-sizing: border-box;\n",
              "  margin-bottom: 0.5em;\n",
              "  /* unfitted */\n",
              "  background-color: var(--sklearn-color-unfitted-level-0);\n",
              "}\n",
              "\n",
              "#sk-container-id-2 div.sk-estimator.fitted {\n",
              "  /* fitted */\n",
              "  background-color: var(--sklearn-color-fitted-level-0);\n",
              "}\n",
              "\n",
              "/* on hover */\n",
              "#sk-container-id-2 div.sk-estimator:hover {\n",
              "  /* unfitted */\n",
              "  background-color: var(--sklearn-color-unfitted-level-2);\n",
              "}\n",
              "\n",
              "#sk-container-id-2 div.sk-estimator.fitted:hover {\n",
              "  /* fitted */\n",
              "  background-color: var(--sklearn-color-fitted-level-2);\n",
              "}\n",
              "\n",
              "/* Specification for estimator info (e.g. \"i\" and \"?\") */\n",
              "\n",
              "/* Common style for \"i\" and \"?\" */\n",
              "\n",
              ".sk-estimator-doc-link,\n",
              "a:link.sk-estimator-doc-link,\n",
              "a:visited.sk-estimator-doc-link {\n",
              "  float: right;\n",
              "  font-size: smaller;\n",
              "  line-height: 1em;\n",
              "  font-family: monospace;\n",
              "  background-color: var(--sklearn-color-background);\n",
              "  border-radius: 1em;\n",
              "  height: 1em;\n",
              "  width: 1em;\n",
              "  text-decoration: none !important;\n",
              "  margin-left: 0.5em;\n",
              "  text-align: center;\n",
              "  /* unfitted */\n",
              "  border: var(--sklearn-color-unfitted-level-1) 1pt solid;\n",
              "  color: var(--sklearn-color-unfitted-level-1);\n",
              "}\n",
              "\n",
              ".sk-estimator-doc-link.fitted,\n",
              "a:link.sk-estimator-doc-link.fitted,\n",
              "a:visited.sk-estimator-doc-link.fitted {\n",
              "  /* fitted */\n",
              "  border: var(--sklearn-color-fitted-level-1) 1pt solid;\n",
              "  color: var(--sklearn-color-fitted-level-1);\n",
              "}\n",
              "\n",
              "/* On hover */\n",
              "div.sk-estimator:hover .sk-estimator-doc-link:hover,\n",
              ".sk-estimator-doc-link:hover,\n",
              "div.sk-label-container:hover .sk-estimator-doc-link:hover,\n",
              ".sk-estimator-doc-link:hover {\n",
              "  /* unfitted */\n",
              "  background-color: var(--sklearn-color-unfitted-level-3);\n",
              "  color: var(--sklearn-color-background);\n",
              "  text-decoration: none;\n",
              "}\n",
              "\n",
              "div.sk-estimator.fitted:hover .sk-estimator-doc-link.fitted:hover,\n",
              ".sk-estimator-doc-link.fitted:hover,\n",
              "div.sk-label-container:hover .sk-estimator-doc-link.fitted:hover,\n",
              ".sk-estimator-doc-link.fitted:hover {\n",
              "  /* fitted */\n",
              "  background-color: var(--sklearn-color-fitted-level-3);\n",
              "  color: var(--sklearn-color-background);\n",
              "  text-decoration: none;\n",
              "}\n",
              "\n",
              "/* Span, style for the box shown on hovering the info icon */\n",
              ".sk-estimator-doc-link span {\n",
              "  display: none;\n",
              "  z-index: 9999;\n",
              "  position: relative;\n",
              "  font-weight: normal;\n",
              "  right: .2ex;\n",
              "  padding: .5ex;\n",
              "  margin: .5ex;\n",
              "  width: min-content;\n",
              "  min-width: 20ex;\n",
              "  max-width: 50ex;\n",
              "  color: var(--sklearn-color-text);\n",
              "  box-shadow: 2pt 2pt 4pt #999;\n",
              "  /* unfitted */\n",
              "  background: var(--sklearn-color-unfitted-level-0);\n",
              "  border: .5pt solid var(--sklearn-color-unfitted-level-3);\n",
              "}\n",
              "\n",
              ".sk-estimator-doc-link.fitted span {\n",
              "  /* fitted */\n",
              "  background: var(--sklearn-color-fitted-level-0);\n",
              "  border: var(--sklearn-color-fitted-level-3);\n",
              "}\n",
              "\n",
              ".sk-estimator-doc-link:hover span {\n",
              "  display: block;\n",
              "}\n",
              "\n",
              "/* \"?\"-specific style due to the `<a>` HTML tag */\n",
              "\n",
              "#sk-container-id-2 a.estimator_doc_link {\n",
              "  float: right;\n",
              "  font-size: 1rem;\n",
              "  line-height: 1em;\n",
              "  font-family: monospace;\n",
              "  background-color: var(--sklearn-color-background);\n",
              "  border-radius: 1rem;\n",
              "  height: 1rem;\n",
              "  width: 1rem;\n",
              "  text-decoration: none;\n",
              "  /* unfitted */\n",
              "  color: var(--sklearn-color-unfitted-level-1);\n",
              "  border: var(--sklearn-color-unfitted-level-1) 1pt solid;\n",
              "}\n",
              "\n",
              "#sk-container-id-2 a.estimator_doc_link.fitted {\n",
              "  /* fitted */\n",
              "  border: var(--sklearn-color-fitted-level-1) 1pt solid;\n",
              "  color: var(--sklearn-color-fitted-level-1);\n",
              "}\n",
              "\n",
              "/* On hover */\n",
              "#sk-container-id-2 a.estimator_doc_link:hover {\n",
              "  /* unfitted */\n",
              "  background-color: var(--sklearn-color-unfitted-level-3);\n",
              "  color: var(--sklearn-color-background);\n",
              "  text-decoration: none;\n",
              "}\n",
              "\n",
              "#sk-container-id-2 a.estimator_doc_link.fitted:hover {\n",
              "  /* fitted */\n",
              "  background-color: var(--sklearn-color-fitted-level-3);\n",
              "}\n",
              "</style><div id=\"sk-container-id-2\" class=\"sk-top-container\"><div class=\"sk-text-repr-fallback\"><pre>RandomForestClassifier()</pre><b>In a Jupyter environment, please rerun this cell to show the HTML representation or trust the notebook. <br />On GitHub, the HTML representation is unable to render, please try loading this page with nbviewer.org.</b></div><div class=\"sk-container\" hidden><div class=\"sk-item\"><div class=\"sk-estimator fitted sk-toggleable\"><input class=\"sk-toggleable__control sk-hidden--visually\" id=\"sk-estimator-id-2\" type=\"checkbox\" checked><label for=\"sk-estimator-id-2\" class=\"sk-toggleable__label fitted sk-toggleable__label-arrow\"><div><div>RandomForestClassifier</div></div><div><a class=\"sk-estimator-doc-link fitted\" rel=\"noreferrer\" target=\"_blank\" href=\"https://scikit-learn.org/1.6/modules/generated/sklearn.ensemble.RandomForestClassifier.html\">?<span>Documentation for RandomForestClassifier</span></a><span class=\"sk-estimator-doc-link fitted\">i<span>Fitted</span></span></div></label><div class=\"sk-toggleable__content fitted\"><pre>RandomForestClassifier()</pre></div> </div></div></div></div>"
            ]
          },
          "metadata": {},
          "execution_count": 26
        }
      ]
    },
    {
      "cell_type": "code",
      "source": [
        "#Predict in train dataset\n",
        "y_pred_tr = clf2.predict(x_train)\n",
        "\n",
        "accuracy = accuracy_score(y_train, y_pred_tr)\n",
        "print(f'Accuracy in train: {accuracy}')\n",
        "\n",
        "#Predict in test dataset\n",
        "y_pred = clf2.predict(x_test)\n",
        "\n",
        "accuracy = accuracy_score(y_test, y_pred)\n",
        "print(f'Accuracy in test: {accuracy}')"
      ],
      "metadata": {
        "colab": {
          "base_uri": "https://localhost:8080/"
        },
        "id": "EvTryhyDvj9U",
        "outputId": "ee598185-9e33-4d1f-ef42-540d6b90593b"
      },
      "execution_count": 27,
      "outputs": [
        {
          "output_type": "stream",
          "name": "stdout",
          "text": [
            "Accuracy in train: 1.0\n",
            "Accuracy in test: 0.8006103763987793\n"
          ]
        }
      ]
    },
    {
      "cell_type": "markdown",
      "source": [
        "Παρατηρείται ότι στα train δεδομένα έχει τέλεια απόδοση ενώ στα test, έχει υψηλή αλλά όχι 100%, κάτι που αποτελεί ένδειξη overfitting."
      ],
      "metadata": {
        "id": "YxIaQuoEwIcI"
      }
    },
    {
      "cell_type": "markdown",
      "source": [
        "Εκπαίδευση για τους διαφορετικούς συνδυασμούς (οι συνδυασμοί του Ερωτήματος 7 με προσθήκη πλήθους των δέντρων (n_estimators) για 50, 100 και 200 δέντρα."
      ],
      "metadata": {
        "id": "qwWUldqBwg97"
      }
    },
    {
      "cell_type": "code",
      "source": [
        "criteria = ['gini', 'entropy']\n",
        "max_depths = [None, 3, 5]\n",
        "min_samples_splits = [2, 5]\n",
        "min_samples_leafs = [1, 2]\n",
        "max_features_list = [None, 'sqrt']\n",
        "ccp_alphas = [0, 0.01]\n",
        "n_estimators= [50, 100 , 200 ]\n",
        "results = []\n",
        "\n",
        "for crit, depth, split, leaf, feat, alpha,n_estim in product(\n",
        "    criteria, max_depths, min_samples_splits, min_samples_leafs, max_features_list, ccp_alphas,n_estimators\n",
        "):\n",
        "    clf = RandomForestClassifier(\n",
        "        criterion=crit,\n",
        "        max_depth=depth,\n",
        "        min_samples_split=split,\n",
        "        min_samples_leaf=leaf,\n",
        "        max_features=feat,\n",
        "        ccp_alpha=alpha,\n",
        "        n_estimators=n_estim,\n",
        "        random_state=1\n",
        "    )\n",
        "    clf.fit(x_train, y_train)\n",
        "\n",
        "    #Predict in train dataset\n",
        "    y_pred_tr = clf.predict(x_train)\n",
        "    train_acc = accuracy_score(y_train, y_pred_tr)\n",
        "\n",
        "    #Predict in test dataset\n",
        "    y_pred = clf.predict(x_test)\n",
        "    test_acc = accuracy_score(y_test, y_pred)\n",
        "\n",
        "    results.append({\n",
        "        'criterion': crit,\n",
        "        'max_depth': depth,\n",
        "        'min_samples_split': split,\n",
        "        'min_samples_leaf': leaf,\n",
        "        'max_features': feat,\n",
        "        'ccp_alpha': alpha,\n",
        "        'n_estimators':n_estim,\n",
        "        'train_acc': train_acc,\n",
        "        'test_acc': test_acc\n",
        "    })\n",
        "\n",
        "results_df = pd.DataFrame(results)\n",
        "results_df\n"
      ],
      "metadata": {
        "colab": {
          "base_uri": "https://localhost:8080/",
          "height": 423
        },
        "id": "dx-cyskBwrvD",
        "outputId": "587b3d31-3e3c-4ae4-88aa-43e77411e111"
      },
      "execution_count": 28,
      "outputs": [
        {
          "output_type": "execute_result",
          "data": {
            "text/plain": [
              "    criterion  max_depth  min_samples_split  min_samples_leaf max_features  \\\n",
              "0        gini        NaN                  2                 1         None   \n",
              "1        gini        NaN                  2                 1         None   \n",
              "2        gini        NaN                  2                 1         None   \n",
              "3        gini        NaN                  2                 1         None   \n",
              "4        gini        NaN                  2                 1         None   \n",
              "..        ...        ...                ...               ...          ...   \n",
              "283   entropy        5.0                  5                 2         sqrt   \n",
              "284   entropy        5.0                  5                 2         sqrt   \n",
              "285   entropy        5.0                  5                 2         sqrt   \n",
              "286   entropy        5.0                  5                 2         sqrt   \n",
              "287   entropy        5.0                  5                 2         sqrt   \n",
              "\n",
              "     ccp_alpha  n_estimators  train_acc  test_acc  \n",
              "0         0.00            50   1.000000  0.787386  \n",
              "1         0.00           100   1.000000  0.786368  \n",
              "2         0.00           200   1.000000  0.782299  \n",
              "3         0.01            50   0.750545  0.744659  \n",
              "4         0.01           100   0.746620  0.747711  \n",
              "..         ...           ...        ...       ...  \n",
              "283       0.00           100   0.814653  0.801628  \n",
              "284       0.00           200   0.815962  0.799593  \n",
              "285       0.01            50   0.781945  0.783316  \n",
              "286       0.01           100   0.784562  0.787386  \n",
              "287       0.01           200   0.790231  0.787386  \n",
              "\n",
              "[288 rows x 9 columns]"
            ],
            "text/html": [
              "\n",
              "  <div id=\"df-d07ba416-c808-430e-b5eb-21373bec2d47\" class=\"colab-df-container\">\n",
              "    <div>\n",
              "<style scoped>\n",
              "    .dataframe tbody tr th:only-of-type {\n",
              "        vertical-align: middle;\n",
              "    }\n",
              "\n",
              "    .dataframe tbody tr th {\n",
              "        vertical-align: top;\n",
              "    }\n",
              "\n",
              "    .dataframe thead th {\n",
              "        text-align: right;\n",
              "    }\n",
              "</style>\n",
              "<table border=\"1\" class=\"dataframe\">\n",
              "  <thead>\n",
              "    <tr style=\"text-align: right;\">\n",
              "      <th></th>\n",
              "      <th>criterion</th>\n",
              "      <th>max_depth</th>\n",
              "      <th>min_samples_split</th>\n",
              "      <th>min_samples_leaf</th>\n",
              "      <th>max_features</th>\n",
              "      <th>ccp_alpha</th>\n",
              "      <th>n_estimators</th>\n",
              "      <th>train_acc</th>\n",
              "      <th>test_acc</th>\n",
              "    </tr>\n",
              "  </thead>\n",
              "  <tbody>\n",
              "    <tr>\n",
              "      <th>0</th>\n",
              "      <td>gini</td>\n",
              "      <td>NaN</td>\n",
              "      <td>2</td>\n",
              "      <td>1</td>\n",
              "      <td>None</td>\n",
              "      <td>0.00</td>\n",
              "      <td>50</td>\n",
              "      <td>1.000000</td>\n",
              "      <td>0.787386</td>\n",
              "    </tr>\n",
              "    <tr>\n",
              "      <th>1</th>\n",
              "      <td>gini</td>\n",
              "      <td>NaN</td>\n",
              "      <td>2</td>\n",
              "      <td>1</td>\n",
              "      <td>None</td>\n",
              "      <td>0.00</td>\n",
              "      <td>100</td>\n",
              "      <td>1.000000</td>\n",
              "      <td>0.786368</td>\n",
              "    </tr>\n",
              "    <tr>\n",
              "      <th>2</th>\n",
              "      <td>gini</td>\n",
              "      <td>NaN</td>\n",
              "      <td>2</td>\n",
              "      <td>1</td>\n",
              "      <td>None</td>\n",
              "      <td>0.00</td>\n",
              "      <td>200</td>\n",
              "      <td>1.000000</td>\n",
              "      <td>0.782299</td>\n",
              "    </tr>\n",
              "    <tr>\n",
              "      <th>3</th>\n",
              "      <td>gini</td>\n",
              "      <td>NaN</td>\n",
              "      <td>2</td>\n",
              "      <td>1</td>\n",
              "      <td>None</td>\n",
              "      <td>0.01</td>\n",
              "      <td>50</td>\n",
              "      <td>0.750545</td>\n",
              "      <td>0.744659</td>\n",
              "    </tr>\n",
              "    <tr>\n",
              "      <th>4</th>\n",
              "      <td>gini</td>\n",
              "      <td>NaN</td>\n",
              "      <td>2</td>\n",
              "      <td>1</td>\n",
              "      <td>None</td>\n",
              "      <td>0.01</td>\n",
              "      <td>100</td>\n",
              "      <td>0.746620</td>\n",
              "      <td>0.747711</td>\n",
              "    </tr>\n",
              "    <tr>\n",
              "      <th>...</th>\n",
              "      <td>...</td>\n",
              "      <td>...</td>\n",
              "      <td>...</td>\n",
              "      <td>...</td>\n",
              "      <td>...</td>\n",
              "      <td>...</td>\n",
              "      <td>...</td>\n",
              "      <td>...</td>\n",
              "      <td>...</td>\n",
              "    </tr>\n",
              "    <tr>\n",
              "      <th>283</th>\n",
              "      <td>entropy</td>\n",
              "      <td>5.0</td>\n",
              "      <td>5</td>\n",
              "      <td>2</td>\n",
              "      <td>sqrt</td>\n",
              "      <td>0.00</td>\n",
              "      <td>100</td>\n",
              "      <td>0.814653</td>\n",
              "      <td>0.801628</td>\n",
              "    </tr>\n",
              "    <tr>\n",
              "      <th>284</th>\n",
              "      <td>entropy</td>\n",
              "      <td>5.0</td>\n",
              "      <td>5</td>\n",
              "      <td>2</td>\n",
              "      <td>sqrt</td>\n",
              "      <td>0.00</td>\n",
              "      <td>200</td>\n",
              "      <td>0.815962</td>\n",
              "      <td>0.799593</td>\n",
              "    </tr>\n",
              "    <tr>\n",
              "      <th>285</th>\n",
              "      <td>entropy</td>\n",
              "      <td>5.0</td>\n",
              "      <td>5</td>\n",
              "      <td>2</td>\n",
              "      <td>sqrt</td>\n",
              "      <td>0.01</td>\n",
              "      <td>50</td>\n",
              "      <td>0.781945</td>\n",
              "      <td>0.783316</td>\n",
              "    </tr>\n",
              "    <tr>\n",
              "      <th>286</th>\n",
              "      <td>entropy</td>\n",
              "      <td>5.0</td>\n",
              "      <td>5</td>\n",
              "      <td>2</td>\n",
              "      <td>sqrt</td>\n",
              "      <td>0.01</td>\n",
              "      <td>100</td>\n",
              "      <td>0.784562</td>\n",
              "      <td>0.787386</td>\n",
              "    </tr>\n",
              "    <tr>\n",
              "      <th>287</th>\n",
              "      <td>entropy</td>\n",
              "      <td>5.0</td>\n",
              "      <td>5</td>\n",
              "      <td>2</td>\n",
              "      <td>sqrt</td>\n",
              "      <td>0.01</td>\n",
              "      <td>200</td>\n",
              "      <td>0.790231</td>\n",
              "      <td>0.787386</td>\n",
              "    </tr>\n",
              "  </tbody>\n",
              "</table>\n",
              "<p>288 rows × 9 columns</p>\n",
              "</div>\n",
              "    <div class=\"colab-df-buttons\">\n",
              "\n",
              "  <div class=\"colab-df-container\">\n",
              "    <button class=\"colab-df-convert\" onclick=\"convertToInteractive('df-d07ba416-c808-430e-b5eb-21373bec2d47')\"\n",
              "            title=\"Convert this dataframe to an interactive table.\"\n",
              "            style=\"display:none;\">\n",
              "\n",
              "  <svg xmlns=\"http://www.w3.org/2000/svg\" height=\"24px\" viewBox=\"0 -960 960 960\">\n",
              "    <path d=\"M120-120v-720h720v720H120Zm60-500h600v-160H180v160Zm220 220h160v-160H400v160Zm0 220h160v-160H400v160ZM180-400h160v-160H180v160Zm440 0h160v-160H620v160ZM180-180h160v-160H180v160Zm440 0h160v-160H620v160Z\"/>\n",
              "  </svg>\n",
              "    </button>\n",
              "\n",
              "  <style>\n",
              "    .colab-df-container {\n",
              "      display:flex;\n",
              "      gap: 12px;\n",
              "    }\n",
              "\n",
              "    .colab-df-convert {\n",
              "      background-color: #E8F0FE;\n",
              "      border: none;\n",
              "      border-radius: 50%;\n",
              "      cursor: pointer;\n",
              "      display: none;\n",
              "      fill: #1967D2;\n",
              "      height: 32px;\n",
              "      padding: 0 0 0 0;\n",
              "      width: 32px;\n",
              "    }\n",
              "\n",
              "    .colab-df-convert:hover {\n",
              "      background-color: #E2EBFA;\n",
              "      box-shadow: 0px 1px 2px rgba(60, 64, 67, 0.3), 0px 1px 3px 1px rgba(60, 64, 67, 0.15);\n",
              "      fill: #174EA6;\n",
              "    }\n",
              "\n",
              "    .colab-df-buttons div {\n",
              "      margin-bottom: 4px;\n",
              "    }\n",
              "\n",
              "    [theme=dark] .colab-df-convert {\n",
              "      background-color: #3B4455;\n",
              "      fill: #D2E3FC;\n",
              "    }\n",
              "\n",
              "    [theme=dark] .colab-df-convert:hover {\n",
              "      background-color: #434B5C;\n",
              "      box-shadow: 0px 1px 3px 1px rgba(0, 0, 0, 0.15);\n",
              "      filter: drop-shadow(0px 1px 2px rgba(0, 0, 0, 0.3));\n",
              "      fill: #FFFFFF;\n",
              "    }\n",
              "  </style>\n",
              "\n",
              "    <script>\n",
              "      const buttonEl =\n",
              "        document.querySelector('#df-d07ba416-c808-430e-b5eb-21373bec2d47 button.colab-df-convert');\n",
              "      buttonEl.style.display =\n",
              "        google.colab.kernel.accessAllowed ? 'block' : 'none';\n",
              "\n",
              "      async function convertToInteractive(key) {\n",
              "        const element = document.querySelector('#df-d07ba416-c808-430e-b5eb-21373bec2d47');\n",
              "        const dataTable =\n",
              "          await google.colab.kernel.invokeFunction('convertToInteractive',\n",
              "                                                    [key], {});\n",
              "        if (!dataTable) return;\n",
              "\n",
              "        const docLinkHtml = 'Like what you see? Visit the ' +\n",
              "          '<a target=\"_blank\" href=https://colab.research.google.com/notebooks/data_table.ipynb>data table notebook</a>'\n",
              "          + ' to learn more about interactive tables.';\n",
              "        element.innerHTML = '';\n",
              "        dataTable['output_type'] = 'display_data';\n",
              "        await google.colab.output.renderOutput(dataTable, element);\n",
              "        const docLink = document.createElement('div');\n",
              "        docLink.innerHTML = docLinkHtml;\n",
              "        element.appendChild(docLink);\n",
              "      }\n",
              "    </script>\n",
              "  </div>\n",
              "\n",
              "\n",
              "    <div id=\"df-26746813-622f-4f2c-9e52-045c9f9050ea\">\n",
              "      <button class=\"colab-df-quickchart\" onclick=\"quickchart('df-26746813-622f-4f2c-9e52-045c9f9050ea')\"\n",
              "                title=\"Suggest charts\"\n",
              "                style=\"display:none;\">\n",
              "\n",
              "<svg xmlns=\"http://www.w3.org/2000/svg\" height=\"24px\"viewBox=\"0 0 24 24\"\n",
              "     width=\"24px\">\n",
              "    <g>\n",
              "        <path d=\"M19 3H5c-1.1 0-2 .9-2 2v14c0 1.1.9 2 2 2h14c1.1 0 2-.9 2-2V5c0-1.1-.9-2-2-2zM9 17H7v-7h2v7zm4 0h-2V7h2v10zm4 0h-2v-4h2v4z\"/>\n",
              "    </g>\n",
              "</svg>\n",
              "      </button>\n",
              "\n",
              "<style>\n",
              "  .colab-df-quickchart {\n",
              "      --bg-color: #E8F0FE;\n",
              "      --fill-color: #1967D2;\n",
              "      --hover-bg-color: #E2EBFA;\n",
              "      --hover-fill-color: #174EA6;\n",
              "      --disabled-fill-color: #AAA;\n",
              "      --disabled-bg-color: #DDD;\n",
              "  }\n",
              "\n",
              "  [theme=dark] .colab-df-quickchart {\n",
              "      --bg-color: #3B4455;\n",
              "      --fill-color: #D2E3FC;\n",
              "      --hover-bg-color: #434B5C;\n",
              "      --hover-fill-color: #FFFFFF;\n",
              "      --disabled-bg-color: #3B4455;\n",
              "      --disabled-fill-color: #666;\n",
              "  }\n",
              "\n",
              "  .colab-df-quickchart {\n",
              "    background-color: var(--bg-color);\n",
              "    border: none;\n",
              "    border-radius: 50%;\n",
              "    cursor: pointer;\n",
              "    display: none;\n",
              "    fill: var(--fill-color);\n",
              "    height: 32px;\n",
              "    padding: 0;\n",
              "    width: 32px;\n",
              "  }\n",
              "\n",
              "  .colab-df-quickchart:hover {\n",
              "    background-color: var(--hover-bg-color);\n",
              "    box-shadow: 0 1px 2px rgba(60, 64, 67, 0.3), 0 1px 3px 1px rgba(60, 64, 67, 0.15);\n",
              "    fill: var(--button-hover-fill-color);\n",
              "  }\n",
              "\n",
              "  .colab-df-quickchart-complete:disabled,\n",
              "  .colab-df-quickchart-complete:disabled:hover {\n",
              "    background-color: var(--disabled-bg-color);\n",
              "    fill: var(--disabled-fill-color);\n",
              "    box-shadow: none;\n",
              "  }\n",
              "\n",
              "  .colab-df-spinner {\n",
              "    border: 2px solid var(--fill-color);\n",
              "    border-color: transparent;\n",
              "    border-bottom-color: var(--fill-color);\n",
              "    animation:\n",
              "      spin 1s steps(1) infinite;\n",
              "  }\n",
              "\n",
              "  @keyframes spin {\n",
              "    0% {\n",
              "      border-color: transparent;\n",
              "      border-bottom-color: var(--fill-color);\n",
              "      border-left-color: var(--fill-color);\n",
              "    }\n",
              "    20% {\n",
              "      border-color: transparent;\n",
              "      border-left-color: var(--fill-color);\n",
              "      border-top-color: var(--fill-color);\n",
              "    }\n",
              "    30% {\n",
              "      border-color: transparent;\n",
              "      border-left-color: var(--fill-color);\n",
              "      border-top-color: var(--fill-color);\n",
              "      border-right-color: var(--fill-color);\n",
              "    }\n",
              "    40% {\n",
              "      border-color: transparent;\n",
              "      border-right-color: var(--fill-color);\n",
              "      border-top-color: var(--fill-color);\n",
              "    }\n",
              "    60% {\n",
              "      border-color: transparent;\n",
              "      border-right-color: var(--fill-color);\n",
              "    }\n",
              "    80% {\n",
              "      border-color: transparent;\n",
              "      border-right-color: var(--fill-color);\n",
              "      border-bottom-color: var(--fill-color);\n",
              "    }\n",
              "    90% {\n",
              "      border-color: transparent;\n",
              "      border-bottom-color: var(--fill-color);\n",
              "    }\n",
              "  }\n",
              "</style>\n",
              "\n",
              "      <script>\n",
              "        async function quickchart(key) {\n",
              "          const quickchartButtonEl =\n",
              "            document.querySelector('#' + key + ' button');\n",
              "          quickchartButtonEl.disabled = true;  // To prevent multiple clicks.\n",
              "          quickchartButtonEl.classList.add('colab-df-spinner');\n",
              "          try {\n",
              "            const charts = await google.colab.kernel.invokeFunction(\n",
              "                'suggestCharts', [key], {});\n",
              "          } catch (error) {\n",
              "            console.error('Error during call to suggestCharts:', error);\n",
              "          }\n",
              "          quickchartButtonEl.classList.remove('colab-df-spinner');\n",
              "          quickchartButtonEl.classList.add('colab-df-quickchart-complete');\n",
              "        }\n",
              "        (() => {\n",
              "          let quickchartButtonEl =\n",
              "            document.querySelector('#df-26746813-622f-4f2c-9e52-045c9f9050ea button');\n",
              "          quickchartButtonEl.style.display =\n",
              "            google.colab.kernel.accessAllowed ? 'block' : 'none';\n",
              "        })();\n",
              "      </script>\n",
              "    </div>\n",
              "\n",
              "  <div id=\"id_92e4d8dd-ee55-4aa8-9764-a771b47b28de\">\n",
              "    <style>\n",
              "      .colab-df-generate {\n",
              "        background-color: #E8F0FE;\n",
              "        border: none;\n",
              "        border-radius: 50%;\n",
              "        cursor: pointer;\n",
              "        display: none;\n",
              "        fill: #1967D2;\n",
              "        height: 32px;\n",
              "        padding: 0 0 0 0;\n",
              "        width: 32px;\n",
              "      }\n",
              "\n",
              "      .colab-df-generate:hover {\n",
              "        background-color: #E2EBFA;\n",
              "        box-shadow: 0px 1px 2px rgba(60, 64, 67, 0.3), 0px 1px 3px 1px rgba(60, 64, 67, 0.15);\n",
              "        fill: #174EA6;\n",
              "      }\n",
              "\n",
              "      [theme=dark] .colab-df-generate {\n",
              "        background-color: #3B4455;\n",
              "        fill: #D2E3FC;\n",
              "      }\n",
              "\n",
              "      [theme=dark] .colab-df-generate:hover {\n",
              "        background-color: #434B5C;\n",
              "        box-shadow: 0px 1px 3px 1px rgba(0, 0, 0, 0.15);\n",
              "        filter: drop-shadow(0px 1px 2px rgba(0, 0, 0, 0.3));\n",
              "        fill: #FFFFFF;\n",
              "      }\n",
              "    </style>\n",
              "    <button class=\"colab-df-generate\" onclick=\"generateWithVariable('results_df')\"\n",
              "            title=\"Generate code using this dataframe.\"\n",
              "            style=\"display:none;\">\n",
              "\n",
              "  <svg xmlns=\"http://www.w3.org/2000/svg\" height=\"24px\"viewBox=\"0 0 24 24\"\n",
              "       width=\"24px\">\n",
              "    <path d=\"M7,19H8.4L18.45,9,17,7.55,7,17.6ZM5,21V16.75L18.45,3.32a2,2,0,0,1,2.83,0l1.4,1.43a1.91,1.91,0,0,1,.58,1.4,1.91,1.91,0,0,1-.58,1.4L9.25,21ZM18.45,9,17,7.55Zm-12,3A5.31,5.31,0,0,0,4.9,8.1,5.31,5.31,0,0,0,1,6.5,5.31,5.31,0,0,0,4.9,4.9,5.31,5.31,0,0,0,6.5,1,5.31,5.31,0,0,0,8.1,4.9,5.31,5.31,0,0,0,12,6.5,5.46,5.46,0,0,0,6.5,12Z\"/>\n",
              "  </svg>\n",
              "    </button>\n",
              "    <script>\n",
              "      (() => {\n",
              "      const buttonEl =\n",
              "        document.querySelector('#id_92e4d8dd-ee55-4aa8-9764-a771b47b28de button.colab-df-generate');\n",
              "      buttonEl.style.display =\n",
              "        google.colab.kernel.accessAllowed ? 'block' : 'none';\n",
              "\n",
              "      buttonEl.onclick = () => {\n",
              "        google.colab.notebook.generateWithVariable('results_df');\n",
              "      }\n",
              "      })();\n",
              "    </script>\n",
              "  </div>\n",
              "\n",
              "    </div>\n",
              "  </div>\n"
            ],
            "application/vnd.google.colaboratory.intrinsic+json": {
              "type": "dataframe",
              "variable_name": "results_df",
              "summary": "{\n  \"name\": \"results_df\",\n  \"rows\": 288,\n  \"fields\": [\n    {\n      \"column\": \"criterion\",\n      \"properties\": {\n        \"dtype\": \"category\",\n        \"num_unique_values\": 2,\n        \"samples\": [\n          \"entropy\",\n          \"gini\"\n        ],\n        \"semantic_type\": \"\",\n        \"description\": \"\"\n      }\n    },\n    {\n      \"column\": \"max_depth\",\n      \"properties\": {\n        \"dtype\": \"number\",\n        \"std\": 1.0026143835464565,\n        \"min\": 3.0,\n        \"max\": 5.0,\n        \"num_unique_values\": 2,\n        \"samples\": [\n          5.0,\n          3.0\n        ],\n        \"semantic_type\": \"\",\n        \"description\": \"\"\n      }\n    },\n    {\n      \"column\": \"min_samples_split\",\n      \"properties\": {\n        \"dtype\": \"number\",\n        \"std\": 1,\n        \"min\": 2,\n        \"max\": 5,\n        \"num_unique_values\": 2,\n        \"samples\": [\n          5,\n          2\n        ],\n        \"semantic_type\": \"\",\n        \"description\": \"\"\n      }\n    },\n    {\n      \"column\": \"min_samples_leaf\",\n      \"properties\": {\n        \"dtype\": \"number\",\n        \"std\": 0,\n        \"min\": 1,\n        \"max\": 2,\n        \"num_unique_values\": 2,\n        \"samples\": [\n          2,\n          1\n        ],\n        \"semantic_type\": \"\",\n        \"description\": \"\"\n      }\n    },\n    {\n      \"column\": \"max_features\",\n      \"properties\": {\n        \"dtype\": \"category\",\n        \"num_unique_values\": 1,\n        \"samples\": [\n          \"sqrt\"\n        ],\n        \"semantic_type\": \"\",\n        \"description\": \"\"\n      }\n    },\n    {\n      \"column\": \"ccp_alpha\",\n      \"properties\": {\n        \"dtype\": \"number\",\n        \"std\": 0.005008703226778083,\n        \"min\": 0.0,\n        \"max\": 0.01,\n        \"num_unique_values\": 2,\n        \"samples\": [\n          0.01\n        ],\n        \"semantic_type\": \"\",\n        \"description\": \"\"\n      }\n    },\n    {\n      \"column\": \"n_estimators\",\n      \"properties\": {\n        \"dtype\": \"number\",\n        \"std\": 62,\n        \"min\": 50,\n        \"max\": 200,\n        \"num_unique_values\": 3,\n        \"samples\": [\n          50\n        ],\n        \"semantic_type\": \"\",\n        \"description\": \"\"\n      }\n    },\n    {\n      \"column\": \"train_acc\",\n      \"properties\": {\n        \"dtype\": \"number\",\n        \"std\": 0.09118917328804509,\n        \"min\": 0.7265590928914086,\n        \"max\": 1.0,\n        \"num_unique_values\": 98,\n        \"samples\": [\n          0.8050588748364588\n        ],\n        \"semantic_type\": \"\",\n        \"description\": \"\"\n      }\n    },\n    {\n      \"column\": \"test_acc\",\n      \"properties\": {\n        \"dtype\": \"number\",\n        \"std\": 0.023525263123154446,\n        \"min\": 0.728382502543235,\n        \"max\": 0.8097660223804679,\n        \"num_unique_values\": 65,\n        \"samples\": [\n          0.7934893184130214\n        ],\n        \"semantic_type\": \"\",\n        \"description\": \"\"\n      }\n    }\n  ]\n}"
            }
          },
          "metadata": {},
          "execution_count": 28
        }
      ]
    },
    {
      "cell_type": "markdown",
      "source": [
        "Παρακάτω τυπώνεται ο συνδυασμός με τη μεγαλύτερη ακρίβεια στα test δεδομένα. Παρατηρείται ότι η ακρίβεια (test_acc:0.809766) είναι μεγαλύτερη από αυτή που έδινε ο αντίστοιχα καλύτερος συνδυασμός με Decision Tree (test_acc:0.754832). Ωστόσο, βλέπουμε ότι η ακρίβεια στο train είναι 1, που σημαίνει ότι μπορεί αυτός ο συνδυασμός να έχει overfitting στα train δεδομένα, μειώνοντας έτσι την ικανότητα γενίκευσης του μοντέλου σε νέα δεοδμένα."
      ],
      "metadata": {
        "id": "HqXNAA0S0QwP"
      }
    },
    {
      "cell_type": "code",
      "source": [
        "best_row = results_df.loc[results_df['test_acc'].idxmax()]\n",
        "print(best_row)"
      ],
      "metadata": {
        "colab": {
          "base_uri": "https://localhost:8080/"
        },
        "id": "Vz8BhfzC0Oyc",
        "outputId": "a87b529f-3635-412f-d885-445ad0138687"
      },
      "execution_count": 29,
      "outputs": [
        {
          "output_type": "stream",
          "name": "stdout",
          "text": [
            "criterion                gini\n",
            "max_depth                 NaN\n",
            "min_samples_split           2\n",
            "min_samples_leaf            1\n",
            "max_features             sqrt\n",
            "ccp_alpha                 0.0\n",
            "n_estimators               50\n",
            "train_acc                 1.0\n",
            "test_acc             0.809766\n",
            "Name: 6, dtype: object\n"
          ]
        }
      ]
    },
    {
      "cell_type": "markdown",
      "source": [
        "## Ερώτημα 13"
      ],
      "metadata": {
        "id": "MngkxMRC1-kD"
      }
    },
    {
      "cell_type": "markdown",
      "source": [
        " Προτιμότερο για το μοντέλο είναι να προβλέπει καλύτερα το μη πόσιμο νερό χάνοντας ακρίβεια από το πόσιμο παρά το αντίθετο, καθώς εάν χαρακτηρίσει μη πόσιμα δείγματα ως πόσιμα, αυτό θα έχει σοβαρές συνέπειες στην υγεία καταναλωτών, το οποίο είναι πολύ πιο σοβαρό από την περίπτωση που θα χαρακτηρίσει πόσιμο νερό ως μη πόσιμο, όπου οι επιπτώσεις δεν θα σχετιστούν με την υγεία ανθρώπων (και πιθανώς με νομικές συνέπειες) αλλά πιθανώς με κάποια οικονομική επιβάρυνση της εταιρείας (πχ. καθαρισμός νερού που είναι ήδη καθαρό)."
      ],
      "metadata": {
        "id": "jt9aW-W22BJD"
      }
    },
    {
      "cell_type": "markdown",
      "source": [
        "## Ερώτημα 14"
      ],
      "metadata": {
        "id": "3zrCH1es2qlp"
      }
    },
    {
      "cell_type": "markdown",
      "source": [
        "Νομικά ασφαλέστερο για την εταιρεία είναι η χρήση του αλγορίθμου που θα έχει τη μεγαλύτερη επιτυχία στον διαχωρισμό των πόσιμων από μη πόσιμων δειγμάτων, και βάση και του Ερωτήματος 13, ιδιαίτερα σημαντικό είναι να έχει όσο δυνατόν λιγότερα False Positive γίνεται. Από ό,τι διαπιστώθηκε το Random Forest, δίνει υψηλότερα πσοστά. Για εξακριβωση, εκπαιδεύονται οι συνδυασμοί που βρέθηκαν ότι έχουν τη μεγαλύτερη ακρίβεια και υπολογίζεται και recall(πόσα False Positives έχει) και F1-score (η ισορροπία μεταξύ recall και precission). <br>\n",
        "Στον συνδυασμό του Random Forest, όπως ήδη αναφέρθηκε υπάρχει ένδειξη για υπερπροσαρμογή, ωστόσο, η σύγκριση θα γίνει βάση των metrics στα test δεδομένα για διαπίστωση ποιο μοντέλο δίνει καλύτερο αποτέλεσμα σε άγνωστα δεδομένα (τα δεδομένα training και test που χρησιμοποιούνται και στα δύ μοντέλα είναι ατ ίδια). Σε επόμενο στάδιο θα γινόταν προσπάθειες να διορθωθεί η υπερποσαρμογή του μοντέλου με τακτικές όπως tuning παραμέτρων."
      ],
      "metadata": {
        "id": "fMdRBWOg2sdC"
      }
    },
    {
      "cell_type": "code",
      "source": [
        "# Decision Tree\n",
        "clf = DecisionTreeClassifier(\n",
        "        criterion='gini',\n",
        "        max_depth=5,\n",
        "        min_samples_split=2,\n",
        "        min_samples_leaf=2,\n",
        "        max_features=None,\n",
        "        ccp_alpha=0.0,\n",
        "        random_state=1\n",
        "    )\n",
        "clf.fit(x_train, y_train)\n",
        "\n",
        "y_pred = clf.predict(x_test)\n",
        "\n",
        "test_acc = accuracy_score(y_test, y_pred)\n",
        "test_recall = recall_score(y_test, y_pred)\n",
        "test_f1 = f1_score(y_test, y_pred)\n",
        "test_prec = precision_score(y_test, y_pred)\n",
        "print(f'Metrics in test fo Decision Tree: accuracy: {test_acc}, recall: {test_recall}, f1: {test_f1}, precision: {test_prec}')"
      ],
      "metadata": {
        "colab": {
          "base_uri": "https://localhost:8080/"
        },
        "id": "pTNs89Tv4Pb7",
        "outputId": "d08bdec4-e7c0-4186-cd30-b7e88da1d2bf"
      },
      "execution_count": 30,
      "outputs": [
        {
          "output_type": "stream",
          "name": "stdout",
          "text": [
            "Metrics in test fo Decision Tree: accuracy: 0.7548321464903357, recall: 0.46112600536193027, f1: 0.588034188034188, precision: 0.8113207547169812\n"
          ]
        }
      ]
    },
    {
      "cell_type": "code",
      "source": [
        "#Random Forest\n",
        "clf2 = RandomForestClassifier(\n",
        "        criterion='gini',\n",
        "        max_depth=None,\n",
        "        min_samples_split=2,\n",
        "        min_samples_leaf=1,\n",
        "        max_features='sqrt',\n",
        "        ccp_alpha=0.0,\n",
        "        n_estimators=50,\n",
        "        random_state=1\n",
        "    )\n",
        "clf2.fit(x_train, y_train)\n",
        "y_pred = clf2.predict(x_test)\n",
        "\n",
        "test_acc = accuracy_score(y_test, y_pred)\n",
        "test_recall = recall_score(y_test, y_pred)\n",
        "test_f1 = f1_score(y_test, y_pred)\n",
        "test_prec = precision_score(y_test, y_pred)\n",
        "print(f'Metrics in test for Random Forest:accuracy: {test_acc}, recall: {test_recall}, f1: {test_f1}, precision: {test_prec}')"
      ],
      "metadata": {
        "colab": {
          "base_uri": "https://localhost:8080/"
        },
        "id": "0Q-86593-b8A",
        "outputId": "bd635c61-d27a-4d7a-bb46-881ee67ecf2a"
      },
      "execution_count": 31,
      "outputs": [
        {
          "output_type": "stream",
          "name": "stdout",
          "text": [
            "Metrics in test for Random Forest:accuracy: 0.8097660223804679, recall: 0.6487935656836461, f1: 0.7213114754098361, precision: 0.8120805369127517\n"
          ]
        }
      ]
    },
    {
      "cell_type": "markdown",
      "source": [
        "Παρατηρείται ότι το Random Forest στα test δεδομένα έχει πολύ καλύτερα αποτελέσματα και η διαφορά είναι εμφανής κυρίως στα recall και F1 score όπου το Random Forest πετυχαίνει καλές επιδόσεις (υψηλό F1 score σημαίνει καλή ισορροπία recall-precission) ενώ το Decision Tree έχει recall και F1 πολύ χαμηλότερα. Άρα στη συγκεκριμένη περίπτωση, σε νέα δεδομένα το Random Forest έχει καλύτερη επίδοση και είναι προτιμότερο."
      ],
      "metadata": {
        "id": "oCD6okEaAab-"
      }
    }
  ]
}